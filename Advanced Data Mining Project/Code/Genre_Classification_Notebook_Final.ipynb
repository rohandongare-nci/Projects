{
 "cells": [
  {
   "cell_type": "code",
   "execution_count": 234,
   "metadata": {},
   "outputs": [],
   "source": [
    "import errno\n",
    "import requests\n",
    "import os\n",
    "from keras.layers import Dense, Activation, Dropout, Conv2D, MaxPooling2D, Flatten\n",
    "import spotipy\n",
    "from keras.optimizers import Adam\n",
    "import spotipy.util as util\n",
    "from keras.models import Sequential\n",
    "from keras.layers import Convolution2D\n",
    "from keras.layers import MaxPooling2D\n",
    "from keras.layers import Flatten\n",
    "from keras.layers import Dense\n",
    "from keras.layers import Dropout\n",
    "import matplotlib.pyplot as plt\n",
    "from sklearn.model_selection import GridSearchCV,RandomizedSearchCV\n",
    "from keras.wrappers.scikit_learn import KerasClassifier\n",
    "from sklearn import metrics\n",
    "from sklearn.preprocessing import OneHotEncoder\n",
    "import sklearn\n",
    "import numpy as np\n",
    "from requests.adapters import HTTPAdapter\n",
    "from requests.packages.urllib3.util.retry import Retry\n",
    "token = util.oauth2.SpotifyClientCredentials(client_id=\"993643bfbd504d5aa303f13c71dfeb78\", client_secret=\"d51eef4e56ec4db3899a62d9bb54cfa5\")\n",
    "cache_token = token.get_access_token()"
   ]
  },
  {
   "cell_type": "code",
   "execution_count": null,
   "metadata": {},
   "outputs": [],
   "source": [
    "def get_artist(name):\n",
    "\n",
    "    results = sp.search(q='artist:' + name, type='artist')\n",
    "\n",
    "    items = results['artists']['items']\n",
    "\n",
    "    if len(items) > 0:\n",
    "\n",
    "        return items[0]\n",
    "\n",
    "    else:\n",
    "\n",
    "        return -1\n",
    "\n",
    "\n",
    "\n",
    "\n",
    "\n",
    "def save_album_art(id, folder_name):\n",
    "\n",
    "    albums = []\n",
    "\n",
    "    results = sp.artist_albums(artist['id'], album_type='album')\n",
    "\n",
    "    albums.extend(results['items'])\n",
    "\n",
    "    while results['next']:\n",
    "\n",
    "        results = sp.next(results)\n",
    "\n",
    "        albums.extend(results['items'])\n",
    "\n",
    "    print('Total albums:', len(albums))\n",
    "\n",
    "    for album in albums:\n",
    "\n",
    "        for images in album['images']:\n",
    "\n",
    "            if images['height'] == 640:\n",
    "\n",
    "                url = (images['url'])\n",
    "\n",
    "                print(url)\n",
    "\n",
    "                filename = \"C:/Users/rohan/OneDrive/Desktop/ADM-Group-Project/\" + folder_name  + \"\\\\\" + url.split('/')[\n",
    "\n",
    "                    4] + \".jpeg\"\n",
    "\n",
    "\n",
    "\n",
    "                s = requests.Session()\n",
    "\n",
    "                retries = Retry(total=5, backoff_factor=1, status_forcelist=[502, 503, 504])\n",
    "\n",
    "                s.mount('http://', HTTPAdapter(max_retries=retries))\n",
    "\n",
    "                album_art = s.get(url, allow_redirects=True)\n",
    "\n",
    "\n",
    "\n",
    "                os.makedirs(os.path.dirname(filename), exist_ok=True)\n",
    "\n",
    "                open(filename, 'wb').write(album_art.content)\n",
    "\n",
    "\n",
    "\n",
    "\n",
    "\n",
    "def create_destination_folder(artist, genre):\n",
    "\n",
    "    print('====', artist['name'], '====')\n",
    "\n",
    "    print('Popularity: ', artist['popularity'])\n",
    "\n",
    "    if len(artist['genres']) > 0:\n",
    "\n",
    "        print('Genres: ', ','.join(artist['genres']))\n",
    "\n",
    "    folder = \"C:/Users/rohan/OneDrive/Desktop/ADM-Group-Project/genreFromAlbumCover/\" + genre\n",
    "\n",
    "    try:\n",
    "\n",
    "        os.makedirs(folder)\n",
    "\n",
    "    except OSError as e:\n",
    "\n",
    "        if e.errno != errno.EEXIST:\n",
    "\n",
    "            raise\n",
    "\n",
    "\n",
    "\n",
    "\n",
    "\n",
    "if __name__ == '__main__':\n",
    "\n",
    "    sp = spotipy.Spotify(cache_token)\n",
    "\n",
    "    sp.trace = False\n",
    "\n",
    "\n",
    "\n",
    "    with open(\"C:/Users/rohan/OneDrive/Desktop/ADM-Group-Project/metal1.txt\", 'r') as f:\n",
    "\n",
    "        names = [line.strip() for line in f]\n",
    "\n",
    "        genre = \"Metal\"\n",
    "\n",
    "    for name in names:\n",
    "\n",
    "        artist = get_artist(name)\n",
    "\n",
    "        if artist != -1:\n",
    "\n",
    "            folder_name = create_destination_folder(artist, genre)\n",
    "\n",
    "            save_album_art(artist, genre)\n",
    "\n",
    "        else:\n",
    "\n",
    "            print(\"No data for\"+name)"
   ]
  },
  {
   "cell_type": "code",
   "execution_count": 170,
   "metadata": {},
   "outputs": [
    {
     "name": "stdout",
     "output_type": "stream",
     "text": [
      "Found 2090 images belonging to 4 classes.\n",
      "Found 520 images belonging to 4 classes.\n"
     ]
    }
   ],
   "source": [
    "from keras.preprocessing.image import ImageDataGenerator\n",
    "train_datagenerator_1 = ImageDataGenerator(rescale=1./255,\n",
    "    shear_range=0.3,\n",
    "    zoom_range=0.3,\n",
    "    horizontal_flip=True,\n",
    "    validation_split=0.2) # set validation split\n",
    "\n",
    "train_generator1 = train_datagenerator_1.flow_from_directory(\n",
    "    \"C:/Users/rohan/OneDrive/Desktop/ADM-Group-Project/Final_Dir/\",\n",
    "    target_size=(64, 64),\n",
    "    color_mode=\"rgb\",\n",
    "    batch_size=200,\n",
    "    class_mode='categorical',\n",
    "    subset = 'training') # set as training data\n",
    "\n",
    "validation_generator1 = train_datagenerator_1.flow_from_directory(\n",
    "    \"C:/Users/rohan/OneDrive/Desktop/ADM-Group-Project/Final_Dir/\", # same directory as training data\n",
    "    target_size=(64, 64),\n",
    "    batch_size=200,\n",
    "    color_mode=\"rgb\",\n",
    "    class_mode='categorical',\n",
    "    subset = 'validation') # set as validation data"
   ]
  },
  {
   "cell_type": "code",
   "execution_count": null,
   "metadata": {},
   "outputs": [],
   "source": [
    "# Convert class vectors to binary class matrices.\n",
    "y_train_encoder = sklearn.preprocessing.LabelEncoder()\n",
    "y_train_num = y_train_encoder.fit_transform(y_train)\n",
    "y_train_wide = keras.utils.to_categorical(y_train_num, num_classes)\n",
    "\n",
    "y_test_num = y_train_encoder.fit_transform(y_test)\n",
    "y_test_wide = keras.utils.to_categorical(y_test_num, num_classes)"
   ]
  },
  {
   "cell_type": "code",
   "execution_count": 127,
   "metadata": {},
   "outputs": [],
   "source": [
    "#train_generator1.class_indices\n",
    "X_train,y_train = train_generator1.next()"
   ]
  },
  {
   "cell_type": "code",
   "execution_count": 150,
   "metadata": {},
   "outputs": [],
   "source": [
    "X_test,y_test = validation_generator1.next()"
   ]
  },
  {
   "cell_type": "code",
   "execution_count": 137,
   "metadata": {},
   "outputs": [],
   "source": [
    "def create_model(optimizer=\"adam\",dropout_rate=0.0):\n",
    "    model_adm_spotify = Sequential()\n",
    "    model_adm_spotify.add(Convolution2D(filters = 32, kernel_size = (3, 3),input_shape = (64, 64, 3),activation = \"relu\"))\n",
    "    model_adm_spotify.add(MaxPooling2D(pool_size = (2, 2)))\n",
    "    model_adm_spotify.add(Convolution2D(32, 3, 3, activation = \"relu\"))\n",
    "    model_adm_spotify.add(MaxPooling2D(pool_size = (2, 2)))\n",
    "    model_adm_spotify.add(Flatten())\n",
    "    model_adm_spotify.add(Dense(units = 128, activation = \"relu\"))\n",
    "    model_adm_spotify.add(Dropout(dropout_rate))\n",
    "    model_adm_spotify.add(Dense(4))\n",
    "    model_adm_spotify.add(Dense(units = 4, activation = \"softmax\"))\n",
    "    model_adm_spotify.compile(optimizer = optimizer, loss = \"binary_crossentropy\", metrics = [\"accuracy\"])\n",
    "    return model_adm_spotify;"
   ]
  },
  {
   "cell_type": "code",
   "execution_count": 138,
   "metadata": {},
   "outputs": [],
   "source": [
    "model_adm = KerasClassifier(build_fn=create_model) "
   ]
  },
  {
   "cell_type": "code",
   "execution_count": 139,
   "metadata": {},
   "outputs": [
    {
     "name": "stderr",
     "output_type": "stream",
     "text": [
      "C:\\Users\\rohan\\Anaconda3\\envs\\tensorflow\\lib\\site-packages\\sklearn\\model_selection\\_split.py:2053: FutureWarning: You should specify a value for 'cv' instead of relying on the default value. The default value will change from 3 to 5 in version 0.22.\n",
      "  warnings.warn(CV_WARNING, FutureWarning)\n",
      "C:\\Users\\rohan\\Anaconda3\\envs\\tensorflow\\lib\\site-packages\\sklearn\\model_selection\\_search.py:841: DeprecationWarning: The default of the `iid` parameter will change from True to False in version 0.22 and will be removed in 0.24. This will change numeric results when test-set sizes are unequal.\n",
      "  DeprecationWarning)\n",
      "C:\\Users\\rohan\\Anaconda3\\envs\\tensorflow\\lib\\site-packages\\ipykernel_launcher.py:5: UserWarning: Update your `Conv2D` call to the Keras 2 API: `Conv2D(32, (3, 3), activation=\"relu\")`\n",
      "  \"\"\"\n"
     ]
    },
    {
     "name": "stdout",
     "output_type": "stream",
     "text": [
      "Epoch 1/5\n",
      "100/100 [==============================] - 2s 16ms/step - loss: 0.6668 - acc: 0.7025\n",
      "Epoch 2/5\n",
      "100/100 [==============================] - 0s 2ms/step - loss: 0.5597 - acc: 0.7425\n",
      "Epoch 3/5\n",
      "100/100 [==============================] - 0s 3ms/step - loss: 0.5389 - acc: 0.7500A: 0s - loss: 0.5470 - acc: 0.750\n",
      "Epoch 4/5\n",
      "100/100 [==============================] - 0s 3ms/step - loss: 0.5855 - acc: 0.7225\n",
      "Epoch 5/5\n",
      "100/100 [==============================] - 0s 2ms/step - loss: 0.5070 - acc: 0.7525\n",
      "Best Reported Accuracy: 0.752500 using parameters {'optimizer': 'Nadam', 'epochs': 5, 'dropout_rate': 0.2, 'batch_size': 40}\n",
      "0.750000 (0.000000) with: {'optimizer': 'Adamax', 'epochs': 10, 'dropout_rate': 0.8, 'batch_size': 20}\n",
      "0.737500 (0.009367) with: {'optimizer': 'Adamax', 'epochs': 15, 'dropout_rate': 0.2, 'batch_size': 40}\n",
      "0.737500 (0.014249) with: {'optimizer': 'Adamax', 'epochs': 15, 'dropout_rate': 0.4, 'batch_size': 20}\n",
      "0.752500 (0.003483) with: {'optimizer': 'Nadam', 'epochs': 5, 'dropout_rate': 0.2, 'batch_size': 40}\n",
      "0.737500 (0.009485) with: {'optimizer': 'Adam', 'epochs': 5, 'dropout_rate': 0.0, 'batch_size': 20}\n",
      "0.750000 (0.000000) with: {'optimizer': 'SGD', 'epochs': 10, 'dropout_rate': 0.4, 'batch_size': 40}\n",
      "0.735000 (0.016078) with: {'optimizer': 'Nadam', 'epochs': 10, 'dropout_rate': 0.8, 'batch_size': 20}\n",
      "0.750000 (0.000000) with: {'optimizer': 'Adam', 'epochs': 5, 'dropout_rate': 0.4, 'batch_size': 30}\n",
      "0.732500 (0.024936) with: {'optimizer': 'SGD', 'epochs': 15, 'dropout_rate': 0.0, 'batch_size': 30}\n",
      "0.697500 (0.006758) with: {'optimizer': 'Nadam', 'epochs': 10, 'dropout_rate': 0.4, 'batch_size': 30}\n"
     ]
    }
   ],
   "source": [
    "#Random Search\n",
    "bsize = [20,30,40]\n",
    "epoch = [5,10,15]\n",
    "dropout_rate_1 = [0.0,0.2,0.4,0.6, 0.8]\n",
    "opt=['SGD', 'Adam', 'Adamax', 'Nadam']\n",
    "param_grid2 = dict(batch_size=batch_size, epochs=epochs,optimizer=opt,dropout_rate=dropout_rate)\n",
    "\n",
    "nitersearch = 10 \n",
    "random_search = RandomizedSearchCV(estimator=model_adm, \n",
    "                                   param_distributions=param_grid2,\n",
    "                                   n_iter=nitersearch,\n",
    "                                   n_jobs=-1)\n",
    "random_search_result=random_search.fit(X_train, y_train)\n",
    "# Show the results\n",
    "print(\"Best Reported Accuracy: %f using parameters %s\" % (random_search.best_score_, random_search.best_params_))\n",
    "mean_score = random_search_result.cv_results_['mean_test_score']\n",
    "std_score = random_search_result.cv_results_['std_test_score']\n",
    "param_random_search = random_search_result.cv_results_['params']\n",
    "for mean, stdev, param in zip(mean_score, std_score, param_random_search):\n",
    "    print(\"%f (%f) with: %r\" % (mean, stdev, param))"
   ]
  },
  {
   "cell_type": "code",
   "execution_count": 223,
   "metadata": {},
   "outputs": [
    {
     "name": "stderr",
     "output_type": "stream",
     "text": [
      "C:\\Users\\rohan\\Anaconda3\\envs\\tensorflow\\lib\\site-packages\\sklearn\\model_selection\\_search.py:841: DeprecationWarning: The default of the `iid` parameter will change from True to False in version 0.22 and will be removed in 0.24. This will change numeric results when test-set sizes are unequal.\n",
      "  DeprecationWarning)\n",
      "C:\\Users\\rohan\\Anaconda3\\envs\\tensorflow\\lib\\site-packages\\ipykernel_launcher.py:5: UserWarning: Update your `Conv2D` call to the Keras 2 API: `Conv2D(32, (3, 3), activation=\"relu\")`\n",
      "  \"\"\"\n"
     ]
    },
    {
     "name": "stdout",
     "output_type": "stream",
     "text": [
      "Epoch 1/10\n",
      "100/100 [==============================] - 2s 15ms/step - loss: 0.6457 - acc: 0.7075\n",
      "Epoch 2/10\n",
      "100/100 [==============================] - 0s 3ms/step - loss: 0.5768 - acc: 0.7350\n",
      "Epoch 3/10\n",
      "100/100 [==============================] - 0s 2ms/step - loss: 0.5368 - acc: 0.7500\n",
      "Epoch 4/10\n",
      "100/100 [==============================] - 0s 3ms/step - loss: 0.5553 - acc: 0.7475\n",
      "Epoch 5/10\n",
      "100/100 [==============================] - 0s 3ms/step - loss: 0.4915 - acc: 0.7650\n",
      "Epoch 6/10\n",
      "100/100 [==============================] - 0s 3ms/step - loss: 0.4650 - acc: 0.7875\n",
      "Epoch 7/10\n",
      "100/100 [==============================] - 0s 3ms/step - loss: 0.3908 - acc: 0.8225\n",
      "Epoch 8/10\n",
      "100/100 [==============================] - 0s 3ms/step - loss: 0.7088 - acc: 0.7500\n",
      "Epoch 9/10\n",
      "100/100 [==============================] - 0s 3ms/step - loss: 0.4059 - acc: 0.8100\n",
      "Epoch 10/10\n",
      "100/100 [==============================] - 0s 3ms/step - loss: 0.3319 - acc: 0.8625\n",
      "Best Reported Accuracy: 0.755000 using parameters {'batch_size': 30, 'dropout_rate': 0.2, 'epochs': 10, 'optimizer': 'Nadam'}\n",
      "0.750000 (0.000000) with: {'batch_size': 20, 'dropout_rate': 0.0, 'epochs': 5, 'optimizer': 'SGD'}\n",
      "0.745000 (0.006966) with: {'batch_size': 20, 'dropout_rate': 0.0, 'epochs': 5, 'optimizer': 'Adam'}\n",
      "0.750000 (0.000000) with: {'batch_size': 20, 'dropout_rate': 0.0, 'epochs': 5, 'optimizer': 'Adamax'}\n",
      "0.732500 (0.036105) with: {'batch_size': 20, 'dropout_rate': 0.0, 'epochs': 5, 'optimizer': 'Nadam'}\n",
      "0.750000 (0.000000) with: {'batch_size': 20, 'dropout_rate': 0.0, 'epochs': 10, 'optimizer': 'SGD'}\n",
      "0.712500 (0.034474) with: {'batch_size': 20, 'dropout_rate': 0.0, 'epochs': 10, 'optimizer': 'Adam'}\n",
      "0.727500 (0.026912) with: {'batch_size': 20, 'dropout_rate': 0.0, 'epochs': 10, 'optimizer': 'Adamax'}\n",
      "0.722500 (0.043259) with: {'batch_size': 20, 'dropout_rate': 0.0, 'epochs': 10, 'optimizer': 'Nadam'}\n",
      "0.750000 (0.000000) with: {'batch_size': 20, 'dropout_rate': 0.2, 'epochs': 5, 'optimizer': 'SGD'}\n",
      "0.747500 (0.003483) with: {'batch_size': 20, 'dropout_rate': 0.2, 'epochs': 5, 'optimizer': 'Adam'}\n",
      "0.750000 (0.000000) with: {'batch_size': 20, 'dropout_rate': 0.2, 'epochs': 5, 'optimizer': 'Adamax'}\n",
      "0.752500 (0.003562) with: {'batch_size': 20, 'dropout_rate': 0.2, 'epochs': 5, 'optimizer': 'Nadam'}\n",
      "0.750000 (0.000000) with: {'batch_size': 20, 'dropout_rate': 0.2, 'epochs': 10, 'optimizer': 'SGD'}\n",
      "0.742500 (0.000106) with: {'batch_size': 20, 'dropout_rate': 0.2, 'epochs': 10, 'optimizer': 'Adam'}\n",
      "0.737500 (0.022901) with: {'batch_size': 20, 'dropout_rate': 0.2, 'epochs': 10, 'optimizer': 'Adamax'}\n",
      "0.700000 (0.008831) with: {'batch_size': 20, 'dropout_rate': 0.2, 'epochs': 10, 'optimizer': 'Nadam'}\n",
      "0.750000 (0.000000) with: {'batch_size': 20, 'dropout_rate': 0.4, 'epochs': 5, 'optimizer': 'SGD'}\n",
      "0.750000 (0.000000) with: {'batch_size': 20, 'dropout_rate': 0.4, 'epochs': 5, 'optimizer': 'Adam'}\n",
      "0.750000 (0.000000) with: {'batch_size': 20, 'dropout_rate': 0.4, 'epochs': 5, 'optimizer': 'Adamax'}\n",
      "0.725000 (0.035622) with: {'batch_size': 20, 'dropout_rate': 0.4, 'epochs': 5, 'optimizer': 'Nadam'}\n",
      "0.750000 (0.000000) with: {'batch_size': 20, 'dropout_rate': 0.4, 'epochs': 10, 'optimizer': 'SGD'}\n",
      "0.745000 (0.024778) with: {'batch_size': 20, 'dropout_rate': 0.4, 'epochs': 10, 'optimizer': 'Adam'}\n",
      "0.727500 (0.024711) with: {'batch_size': 20, 'dropout_rate': 0.4, 'epochs': 10, 'optimizer': 'Adamax'}\n",
      "0.705000 (0.021382) with: {'batch_size': 20, 'dropout_rate': 0.4, 'epochs': 10, 'optimizer': 'Nadam'}\n",
      "0.750000 (0.000000) with: {'batch_size': 20, 'dropout_rate': 0.6, 'epochs': 5, 'optimizer': 'SGD'}\n",
      "0.747500 (0.003483) with: {'batch_size': 20, 'dropout_rate': 0.6, 'epochs': 5, 'optimizer': 'Adam'}\n",
      "0.750000 (0.000000) with: {'batch_size': 20, 'dropout_rate': 0.6, 'epochs': 5, 'optimizer': 'Adamax'}\n",
      "0.722500 (0.038315) with: {'batch_size': 20, 'dropout_rate': 0.6, 'epochs': 5, 'optimizer': 'Nadam'}\n",
      "0.750000 (0.000000) with: {'batch_size': 20, 'dropout_rate': 0.6, 'epochs': 10, 'optimizer': 'SGD'}\n",
      "0.750000 (0.000000) with: {'batch_size': 20, 'dropout_rate': 0.6, 'epochs': 10, 'optimizer': 'Adam'}\n",
      "0.737500 (0.006861) with: {'batch_size': 20, 'dropout_rate': 0.6, 'epochs': 10, 'optimizer': 'Adamax'}\n",
      "0.702500 (0.028863) with: {'batch_size': 20, 'dropout_rate': 0.6, 'epochs': 10, 'optimizer': 'Nadam'}\n",
      "0.750000 (0.000000) with: {'batch_size': 20, 'dropout_rate': 0.8, 'epochs': 5, 'optimizer': 'SGD'}\n",
      "0.750000 (0.000000) with: {'batch_size': 20, 'dropout_rate': 0.8, 'epochs': 5, 'optimizer': 'Adam'}\n",
      "0.750000 (0.000000) with: {'batch_size': 20, 'dropout_rate': 0.8, 'epochs': 5, 'optimizer': 'Adamax'}\n",
      "0.750000 (0.000000) with: {'batch_size': 20, 'dropout_rate': 0.8, 'epochs': 5, 'optimizer': 'Nadam'}\n",
      "0.750000 (0.000000) with: {'batch_size': 20, 'dropout_rate': 0.8, 'epochs': 10, 'optimizer': 'SGD'}\n",
      "0.750000 (0.000000) with: {'batch_size': 20, 'dropout_rate': 0.8, 'epochs': 10, 'optimizer': 'Adam'}\n",
      "0.750000 (0.000000) with: {'batch_size': 20, 'dropout_rate': 0.8, 'epochs': 10, 'optimizer': 'Adamax'}\n",
      "0.732500 (0.012737) with: {'batch_size': 20, 'dropout_rate': 0.8, 'epochs': 10, 'optimizer': 'Nadam'}\n",
      "0.750000 (0.000000) with: {'batch_size': 30, 'dropout_rate': 0.0, 'epochs': 5, 'optimizer': 'SGD'}\n",
      "0.725000 (0.025703) with: {'batch_size': 30, 'dropout_rate': 0.0, 'epochs': 5, 'optimizer': 'Adam'}\n",
      "0.742500 (0.010687) with: {'batch_size': 30, 'dropout_rate': 0.0, 'epochs': 5, 'optimizer': 'Adamax'}\n",
      "0.715000 (0.025165) with: {'batch_size': 30, 'dropout_rate': 0.0, 'epochs': 5, 'optimizer': 'Nadam'}\n",
      "0.750000 (0.000000) with: {'batch_size': 30, 'dropout_rate': 0.0, 'epochs': 10, 'optimizer': 'SGD'}\n",
      "0.722500 (0.019625) with: {'batch_size': 30, 'dropout_rate': 0.0, 'epochs': 10, 'optimizer': 'Adam'}\n",
      "0.725000 (0.017551) with: {'batch_size': 30, 'dropout_rate': 0.0, 'epochs': 10, 'optimizer': 'Adamax'}\n",
      "0.732500 (0.019862) with: {'batch_size': 30, 'dropout_rate': 0.0, 'epochs': 10, 'optimizer': 'Nadam'}\n",
      "0.750000 (0.000000) with: {'batch_size': 30, 'dropout_rate': 0.2, 'epochs': 5, 'optimizer': 'SGD'}\n",
      "0.750000 (0.000000) with: {'batch_size': 30, 'dropout_rate': 0.2, 'epochs': 5, 'optimizer': 'Adam'}\n",
      "0.742500 (0.016284) with: {'batch_size': 30, 'dropout_rate': 0.2, 'epochs': 5, 'optimizer': 'Adamax'}\n",
      "0.695000 (0.078369) with: {'batch_size': 30, 'dropout_rate': 0.2, 'epochs': 5, 'optimizer': 'Nadam'}\n",
      "0.750000 (0.000000) with: {'batch_size': 30, 'dropout_rate': 0.2, 'epochs': 10, 'optimizer': 'SGD'}\n",
      "0.732500 (0.040847) with: {'batch_size': 30, 'dropout_rate': 0.2, 'epochs': 10, 'optimizer': 'Adam'}\n",
      "0.740000 (0.007177) with: {'batch_size': 30, 'dropout_rate': 0.2, 'epochs': 10, 'optimizer': 'Adamax'}\n",
      "0.755000 (0.017758) with: {'batch_size': 30, 'dropout_rate': 0.2, 'epochs': 10, 'optimizer': 'Nadam'}\n",
      "0.750000 (0.000000) with: {'batch_size': 30, 'dropout_rate': 0.4, 'epochs': 5, 'optimizer': 'SGD'}\n",
      "0.750000 (0.000000) with: {'batch_size': 30, 'dropout_rate': 0.4, 'epochs': 5, 'optimizer': 'Adam'}\n",
      "0.745000 (0.007124) with: {'batch_size': 30, 'dropout_rate': 0.4, 'epochs': 5, 'optimizer': 'Adamax'}\n",
      "0.720000 (0.041798) with: {'batch_size': 30, 'dropout_rate': 0.4, 'epochs': 5, 'optimizer': 'Nadam'}\n",
      "0.750000 (0.000000) with: {'batch_size': 30, 'dropout_rate': 0.4, 'epochs': 10, 'optimizer': 'SGD'}\n",
      "0.747500 (0.003562) with: {'batch_size': 30, 'dropout_rate': 0.4, 'epochs': 10, 'optimizer': 'Adam'}\n",
      "0.750000 (0.006109) with: {'batch_size': 30, 'dropout_rate': 0.4, 'epochs': 10, 'optimizer': 'Adamax'}\n",
      "0.725000 (0.024821) with: {'batch_size': 30, 'dropout_rate': 0.4, 'epochs': 10, 'optimizer': 'Nadam'}\n",
      "0.750000 (0.000000) with: {'batch_size': 30, 'dropout_rate': 0.6, 'epochs': 5, 'optimizer': 'SGD'}\n",
      "0.747500 (0.003483) with: {'batch_size': 30, 'dropout_rate': 0.6, 'epochs': 5, 'optimizer': 'Adam'}\n",
      "0.747500 (0.003562) with: {'batch_size': 30, 'dropout_rate': 0.6, 'epochs': 5, 'optimizer': 'Adamax'}\n",
      "0.722500 (0.019625) with: {'batch_size': 30, 'dropout_rate': 0.6, 'epochs': 5, 'optimizer': 'Nadam'}\n",
      "0.750000 (0.000000) with: {'batch_size': 30, 'dropout_rate': 0.6, 'epochs': 10, 'optimizer': 'SGD'}\n",
      "0.745000 (0.003510) with: {'batch_size': 30, 'dropout_rate': 0.6, 'epochs': 10, 'optimizer': 'Adam'}\n",
      "0.747500 (0.003483) with: {'batch_size': 30, 'dropout_rate': 0.6, 'epochs': 10, 'optimizer': 'Adamax'}\n",
      "0.727500 (0.018602) with: {'batch_size': 30, 'dropout_rate': 0.6, 'epochs': 10, 'optimizer': 'Nadam'}\n",
      "0.750000 (0.000000) with: {'batch_size': 30, 'dropout_rate': 0.8, 'epochs': 5, 'optimizer': 'SGD'}\n",
      "0.750000 (0.000000) with: {'batch_size': 30, 'dropout_rate': 0.8, 'epochs': 5, 'optimizer': 'Adam'}\n",
      "0.747500 (0.003562) with: {'batch_size': 30, 'dropout_rate': 0.8, 'epochs': 5, 'optimizer': 'Adamax'}\n",
      "0.730000 (0.027865) with: {'batch_size': 30, 'dropout_rate': 0.8, 'epochs': 5, 'optimizer': 'Nadam'}\n",
      "0.750000 (0.000000) with: {'batch_size': 30, 'dropout_rate': 0.8, 'epochs': 10, 'optimizer': 'SGD'}\n",
      "0.750000 (0.000000) with: {'batch_size': 30, 'dropout_rate': 0.8, 'epochs': 10, 'optimizer': 'Adam'}\n",
      "0.747500 (0.003562) with: {'batch_size': 30, 'dropout_rate': 0.8, 'epochs': 10, 'optimizer': 'Adamax'}\n",
      "0.742500 (0.022153) with: {'batch_size': 30, 'dropout_rate': 0.8, 'epochs': 10, 'optimizer': 'Nadam'}\n",
      "0.750000 (0.000000) with: {'batch_size': 40, 'dropout_rate': 0.0, 'epochs': 5, 'optimizer': 'SGD'}\n",
      "0.747500 (0.003562) with: {'batch_size': 40, 'dropout_rate': 0.0, 'epochs': 5, 'optimizer': 'Adam'}\n",
      "0.752500 (0.003483) with: {'batch_size': 40, 'dropout_rate': 0.0, 'epochs': 5, 'optimizer': 'Adamax'}\n",
      "0.735000 (0.012311) with: {'batch_size': 40, 'dropout_rate': 0.0, 'epochs': 5, 'optimizer': 'Nadam'}\n",
      "0.750000 (0.000000) with: {'batch_size': 40, 'dropout_rate': 0.0, 'epochs': 10, 'optimizer': 'SGD'}\n",
      "0.720000 (0.016543) with: {'batch_size': 40, 'dropout_rate': 0.0, 'epochs': 10, 'optimizer': 'Adam'}\n",
      "0.742500 (0.006018) with: {'batch_size': 40, 'dropout_rate': 0.0, 'epochs': 10, 'optimizer': 'Adamax'}\n",
      "0.742500 (0.016301) with: {'batch_size': 40, 'dropout_rate': 0.0, 'epochs': 10, 'optimizer': 'Nadam'}\n",
      "0.750000 (0.000000) with: {'batch_size': 40, 'dropout_rate': 0.2, 'epochs': 5, 'optimizer': 'SGD'}\n",
      "0.755000 (0.006966) with: {'batch_size': 40, 'dropout_rate': 0.2, 'epochs': 5, 'optimizer': 'Adam'}\n",
      "0.750000 (0.000000) with: {'batch_size': 40, 'dropout_rate': 0.2, 'epochs': 5, 'optimizer': 'Adamax'}\n",
      "0.730000 (0.015457) with: {'batch_size': 40, 'dropout_rate': 0.2, 'epochs': 5, 'optimizer': 'Nadam'}\n",
      "0.750000 (0.000000) with: {'batch_size': 40, 'dropout_rate': 0.2, 'epochs': 10, 'optimizer': 'SGD'}\n",
      "0.740000 (0.003617) with: {'batch_size': 40, 'dropout_rate': 0.2, 'epochs': 10, 'optimizer': 'Adam'}\n",
      "0.750000 (0.000000) with: {'batch_size': 40, 'dropout_rate': 0.2, 'epochs': 10, 'optimizer': 'Adamax'}\n",
      "0.732500 (0.014302) with: {'batch_size': 40, 'dropout_rate': 0.2, 'epochs': 10, 'optimizer': 'Nadam'}\n",
      "0.750000 (0.000000) with: {'batch_size': 40, 'dropout_rate': 0.4, 'epochs': 5, 'optimizer': 'SGD'}\n",
      "0.750000 (0.000000) with: {'batch_size': 40, 'dropout_rate': 0.4, 'epochs': 5, 'optimizer': 'Adam'}\n",
      "0.750000 (0.000000) with: {'batch_size': 40, 'dropout_rate': 0.4, 'epochs': 5, 'optimizer': 'Adamax'}\n",
      "0.727500 (0.032637) with: {'batch_size': 40, 'dropout_rate': 0.4, 'epochs': 5, 'optimizer': 'Nadam'}\n",
      "0.750000 (0.000000) with: {'batch_size': 40, 'dropout_rate': 0.4, 'epochs': 10, 'optimizer': 'SGD'}\n",
      "0.747500 (0.024830) with: {'batch_size': 40, 'dropout_rate': 0.4, 'epochs': 10, 'optimizer': 'Adam'}\n",
      "0.742500 (0.012310) with: {'batch_size': 40, 'dropout_rate': 0.4, 'epochs': 10, 'optimizer': 'Adamax'}\n",
      "0.750000 (0.012218) with: {'batch_size': 40, 'dropout_rate': 0.4, 'epochs': 10, 'optimizer': 'Nadam'}\n",
      "0.750000 (0.000000) with: {'batch_size': 40, 'dropout_rate': 0.6, 'epochs': 5, 'optimizer': 'SGD'}\n",
      "0.750000 (0.000000) with: {'batch_size': 40, 'dropout_rate': 0.6, 'epochs': 5, 'optimizer': 'Adam'}\n",
      "0.750000 (0.000000) with: {'batch_size': 40, 'dropout_rate': 0.6, 'epochs': 5, 'optimizer': 'Adamax'}\n",
      "0.745000 (0.007124) with: {'batch_size': 40, 'dropout_rate': 0.6, 'epochs': 5, 'optimizer': 'Nadam'}\n",
      "0.750000 (0.000000) with: {'batch_size': 40, 'dropout_rate': 0.6, 'epochs': 10, 'optimizer': 'SGD'}\n",
      "0.747500 (0.007072) with: {'batch_size': 40, 'dropout_rate': 0.6, 'epochs': 10, 'optimizer': 'Adam'}\n",
      "0.742500 (0.010449) with: {'batch_size': 40, 'dropout_rate': 0.6, 'epochs': 10, 'optimizer': 'Adamax'}\n",
      "0.752500 (0.009405) with: {'batch_size': 40, 'dropout_rate': 0.6, 'epochs': 10, 'optimizer': 'Nadam'}\n",
      "0.750000 (0.000000) with: {'batch_size': 40, 'dropout_rate': 0.8, 'epochs': 5, 'optimizer': 'SGD'}\n",
      "0.750000 (0.000000) with: {'batch_size': 40, 'dropout_rate': 0.8, 'epochs': 5, 'optimizer': 'Adam'}\n",
      "0.750000 (0.000000) with: {'batch_size': 40, 'dropout_rate': 0.8, 'epochs': 5, 'optimizer': 'Adamax'}\n",
      "0.750000 (0.000000) with: {'batch_size': 40, 'dropout_rate': 0.8, 'epochs': 5, 'optimizer': 'Nadam'}\n",
      "0.750000 (0.000000) with: {'batch_size': 40, 'dropout_rate': 0.8, 'epochs': 10, 'optimizer': 'SGD'}\n",
      "0.747500 (0.003483) with: {'batch_size': 40, 'dropout_rate': 0.8, 'epochs': 10, 'optimizer': 'Adam'}\n",
      "0.750000 (0.000000) with: {'batch_size': 40, 'dropout_rate': 0.8, 'epochs': 10, 'optimizer': 'Adamax'}\n",
      "0.752500 (0.003483) with: {'batch_size': 40, 'dropout_rate': 0.8, 'epochs': 10, 'optimizer': 'Nadam'}\n"
     ]
    }
   ],
   "source": [
    "#Grid Search\n",
    "bsize = [20,30,40]\n",
    "epoch = [5,10]\n",
    "dropout_rate_2 = [0.0,0.2,0.4,0.6, 0.8]\n",
    "optim=['SGD', 'Adam', 'Adamax', 'Nadam']\n",
    "param_grid1 = dict(batch_size=bsize, epochs=epoch,optimizer=optim,dropout_rate=dropout_rate_2)\n",
    "grid = GridSearchCV(estimator=model_adm, param_grid=param_grid1, n_jobs=-1)\n",
    "grid_search_result = grid.fit(X_train, y_train)\n",
    "# summarize results\n",
    "print(\"Best Reported Accuracy: %f using parameters %s\" % (grid_search_result.best_score_, grid_search_result.best_params_))\n",
    "mean_score1 = grid_search_result.cv_results_['mean_test_score']\n",
    "std_score1 = grid_search_result.cv_results_['std_test_score']\n",
    "param_grid_search = grid_search_result.cv_results_['params']\n",
    "for mean, stdev, param in zip(mean_score1, std_score1, param_grid_search):\n",
    "    print(\"%f (%f) with: %r\" % (mean, stdev, param))"
   ]
  },
  {
   "cell_type": "code",
   "execution_count": 153,
   "metadata": {},
   "outputs": [
    {
     "name": "stderr",
     "output_type": "stream",
     "text": [
      "C:\\Users\\rohan\\Anaconda3\\envs\\tensorflow\\lib\\site-packages\\ipykernel_launcher.py:4: UserWarning: Update your `Conv2D` call to the Keras 2 API: `Conv2D(32, (3, 3), activation=\"relu\")`\n",
      "  after removing the cwd from sys.path.\n"
     ]
    }
   ],
   "source": [
    "model_adm_1 = Sequential()\n",
    "model_adm_1.add(Convolution2D(filters = 32, kernel_size = (3, 3),input_shape = (64, 64, 3),activation = \"relu\"))\n",
    "model_adm_1.add(MaxPooling2D(pool_size = (2, 2)))\n",
    "model_adm_1.add(Convolution2D(32, 3, 3, activation = \"relu\"))\n",
    "model_adm_1.add(MaxPooling2D(pool_size = (2, 2)))\n",
    "model_adm_1.add(Flatten())\n",
    "model_adm_1.add(Dense(units = 128, activation = \"relu\"))\n",
    "model_adm_1.add(Dropout(0.2))\n",
    "model_adm_1.add(Dense(4))\n",
    "model_adm_1.add(Dense(units = 4, activation = \"softmax\"))\n",
    "model_adm_1.compile(optimizer = 'Nadam', loss = \"binary_crossentropy\", metrics = [\"accuracy\"])"
   ]
  },
  {
   "cell_type": "code",
   "execution_count": 203,
   "metadata": {},
   "outputs": [
    {
     "name": "stdout",
     "output_type": "stream",
     "text": [
      "Epoch 1/10\n",
      "11/10 [===============================] - 12s 1s/step - loss: 0.5516 - acc: 0.7499 - val_loss: 0.5490 - val_acc: 0.7500\n",
      "Epoch 2/10\n",
      "11/10 [===============================] - 11s 997ms/step - loss: 0.5478 - acc: 0.7482 - val_loss: 0.5659 - val_acc: 0.7514\n",
      "Epoch 3/10\n",
      "11/10 [===============================] - 11s 998ms/step - loss: 0.5444 - acc: 0.7507 - val_loss: 0.5458 - val_acc: 0.7457\n",
      "Epoch 4/10\n",
      "11/10 [===============================] - 11s 992ms/step - loss: 0.5353 - acc: 0.7517 - val_loss: 0.5426 - val_acc: 0.7524\n",
      "Epoch 5/10\n",
      "11/10 [===============================] - 11s 993ms/step - loss: 0.5333 - acc: 0.7538 - val_loss: 0.5381 - val_acc: 0.7529\n",
      "Epoch 6/10\n",
      "11/10 [===============================] - 11s 1s/step - loss: 0.5214 - acc: 0.7566 - val_loss: 0.5326 - val_acc: 0.7538\n",
      "Epoch 7/10\n",
      "11/10 [===============================] - 11s 997ms/step - loss: 0.5109 - acc: 0.7615 - val_loss: 0.5270 - val_acc: 0.7649\n",
      "Epoch 8/10\n",
      "11/10 [===============================] - 11s 1s/step - loss: 0.5187 - acc: 0.7597 - val_loss: 0.5304 - val_acc: 0.7534\n",
      "Epoch 9/10\n",
      "11/10 [===============================] - 11s 1s/step - loss: 0.5051 - acc: 0.7664 - val_loss: 0.5280 - val_acc: 0.7553\n",
      "Epoch 10/10\n",
      "11/10 [===============================] - 11s 992ms/step - loss: 0.4949 - acc: 0.7751 - val_loss: 0.5355 - val_acc: 0.7519\n"
     ]
    }
   ],
   "source": [
    "adm=model_adm_1.fit_generator(train_generator1, steps_per_epoch= train_generator1.samples/train_generator1.batch_size, epochs = 10, validation_data = validation_generator1, validation_steps=validation_generator1.samples/validation_generator1.batch_size,verbose=1)"
   ]
  },
  {
   "cell_type": "code",
   "execution_count": 236,
   "metadata": {},
   "outputs": [
    {
     "name": "stderr",
     "output_type": "stream",
     "text": [
      "C:\\Users\\rohan\\Anaconda3\\envs\\tensorflow\\lib\\site-packages\\ipykernel_launcher.py:4: UserWarning: Update your `Conv2D` call to the Keras 2 API: `Conv2D(32, (3, 3), activation=\"relu\")`\n",
      "  after removing the cwd from sys.path.\n"
     ]
    }
   ],
   "source": [
    "model_adm_2 = Sequential()\n",
    "model_adm_2.add(Convolution2D(filters = 32, kernel_size = (3, 3),input_shape = (64, 64, 3),activation = \"relu\"))\n",
    "model_adm_2.add(MaxPooling2D(pool_size = (2, 2)))\n",
    "model_adm_2.add(Convolution2D(32, 3, 3, activation = \"relu\"))\n",
    "model_adm_2.add(MaxPooling2D(pool_size = (2, 2)))\n",
    "model_adm_2.add(Flatten())\n",
    "model_adm_2.add(Dense(units = 128, activation = \"relu\"))\n",
    "model_adm_2.add(Dropout(0.2))\n",
    "model_adm_2.add(Dense(4))\n",
    "model_adm_2.add(Dense(units = 4, activation = \"softmax\"))\n",
    "model_adm_2.compile(optimizer = Adam(lr=0.01), loss = \"binary_crossentropy\", metrics = [\"accuracy\"])"
   ]
  },
  {
   "cell_type": "code",
   "execution_count": 237,
   "metadata": {},
   "outputs": [
    {
     "name": "stdout",
     "output_type": "stream",
     "text": [
      "Epoch 1/10\n",
      "11/10 [===============================] - 45s 4s/step - loss: 1.5313 - acc: 0.7097 - val_loss: 0.5593 - val_acc: 0.7500\n",
      "Epoch 2/10\n",
      "11/10 [===============================] - 32s 3s/step - loss: 0.5581 - acc: 0.7500 - val_loss: 0.5532 - val_acc: 0.7500\n",
      "Epoch 3/10\n",
      "11/10 [===============================] - 28s 3s/step - loss: 0.5530 - acc: 0.7500 - val_loss: 0.5564 - val_acc: 0.7500\n",
      "Epoch 4/10\n",
      "11/10 [===============================] - 29s 3s/step - loss: 0.5542 - acc: 0.7500 - val_loss: 0.5529 - val_acc: 0.7500\n",
      "Epoch 5/10\n",
      "11/10 [===============================] - 28s 3s/step - loss: 0.5544 - acc: 0.7500 - val_loss: 0.5557 - val_acc: 0.7500\n",
      "Epoch 6/10\n",
      "11/10 [===============================] - 28s 3s/step - loss: 0.5541 - acc: 0.7500 - val_loss: 0.5522 - val_acc: 0.7500\n",
      "Epoch 7/10\n",
      "11/10 [===============================] - 28s 3s/step - loss: 0.5524 - acc: 0.7500 - val_loss: 0.5541 - val_acc: 0.7500\n",
      "Epoch 8/10\n",
      "11/10 [===============================] - 29s 3s/step - loss: 0.5559 - acc: 0.7500 - val_loss: 0.5551 - val_acc: 0.7500\n",
      "Epoch 9/10\n",
      "11/10 [===============================] - 28s 3s/step - loss: 0.5531 - acc: 0.7500 - val_loss: 0.5534 - val_acc: 0.7500\n",
      "Epoch 10/10\n",
      "11/10 [===============================] - 28s 3s/step - loss: 0.5515 - acc: 0.7500 - val_loss: 0.5551 - val_acc: 0.7500\n"
     ]
    }
   ],
   "source": [
    "adm_1=model_adm_2.fit_generator(train_generator1, steps_per_epoch= train_generator1.samples/train_generator1.batch_size, epochs = 10, validation_data = validation_generator1, validation_steps=validation_generator1.samples/validation_generator1.batch_size,verbose=1)"
   ]
  },
  {
   "cell_type": "code",
   "execution_count": 224,
   "metadata": {},
   "outputs": [
    {
     "data": {
      "image/png": "[encoded data removed]",
      "text/plain": [
       "<Figure size 432x288 with 1 Axes>"
      ]
     },
     "metadata": {
      "needs_background": "light"
     },
     "output_type": "display_data"
    }
   ],
   "source": [
    "loss = adm.history['loss']\n",
    "val_loss = adm.history['val_loss']\n",
    "plt.xlabel('Epochs')\n",
    "plt.ylabel('Loss')\n",
    "plt.plot(loss, 'blue', label='Training Loss')\n",
    "plt.plot(val_loss, 'green', label='Validation Loss')\n",
    "plt.xticks(range(0,10)[0::1])\n",
    "plt.legend()\n",
    "plt.show()"
   ]
  },
  {
   "cell_type": "code",
   "execution_count": 229,
   "metadata": {},
   "outputs": [
    {
     "data": {
      "image/png": "[encoded data removed]",
      "text/plain": [
       "<Figure size 432x288 with 1 Axes>"
      ]
     },
     "metadata": {
      "needs_background": "light"
     },
     "output_type": "display_data"
    }
   ],
   "source": [
    "val_acc=adm.history['val_acc']\n",
    "acc=adm.history['acc']\n",
    "plt.plot(val_acc, 'red', label='Validation Accuracy')\n",
    "plt.plot(acc, 'green', label='Training Accuarcy')\n",
    "plt.xticks(range(0,10)[0::1])\n",
    "plt.legend()\n",
    "plt.show()"
   ]
  },
  {
   "cell_type": "code",
   "execution_count": 225,
   "metadata": {},
   "outputs": [
    {
     "name": "stdout",
     "output_type": "stream",
     "text": [
      "{'val_loss': [0.549020148240603, 0.5659166482778696, 0.5458065133828384, 0.5426101913818946, 0.5381171107292175, 0.5325558139727666, 0.5269806339190557, 0.5304160576600295, 0.5280150816990778, 0.5355212688446045], 'val_acc': [0.75, 0.7514423177792475, 0.7456730741720933, 0.7524038553237915, 0.7528846126336318, 0.7538461501781757, 0.7649038388178899, 0.7533653882833627, 0.7552884679574233, 0.7519230750890878], 'loss': [0.5510644847126098, 0.5480246355659083, 0.5437744550727771, 0.5356049452101785, 0.5335493769371908, 0.5206636315897891, 0.5111398252003501, 0.5176598817537846, 0.5031034994923897, 0.495029917031384], 'acc': [0.7498803800372986, 0.7480861262271279, 0.7507177026648271, 0.751794270921552, 0.7538277495420721, 0.7568181858678754, 0.7612440141194174, 0.7602870866442412, 0.7671052631008568, 0.7753588434611781]}\n"
     ]
    }
   ],
   "source": [
    "print(adm.history)"
   ]
  },
  {
   "cell_type": "code",
   "execution_count": 207,
   "metadata": {},
   "outputs": [],
   "source": [
    "steps_spotify = np.math.ceil( validation_generator1.samples/validation_generator1.batch_size)\n",
    "predictions = model_adm_1.predict_generator(validation_generator1,steps=steps_spotify)\n",
    "# Get most likely class\n",
    "predicted_classes = np.argmax(predictions, axis=1)"
   ]
  },
  {
   "cell_type": "code",
   "execution_count": 208,
   "metadata": {},
   "outputs": [
    {
     "name": "stdout",
     "output_type": "stream",
     "text": [
      "[0 2 0 0 0 1 0 0 0 3 0 0 2 1 2 0 0 2 2 0 2 2 0 0 0 2 0 0 2 0 0 2 2 0 2 2 2\n",
      " 2 0 0 0 0 2 0 0 0 3 0 2 0 0 3 2 3 2 3 0 0 0 2 2 0 0 0 0 0 3 0 0 3 2 0 0 3\n",
      " 2 2 1 0 2 1 2 0 0 0 0 0 2 2 2 0 2 2 2 1 0 0 0 3 0 2 2 2 0 0 2 2 0 0 0 2 0\n",
      " 0 2 1 0 0 0 0 0 0 0 2 2 2 3 1 0 0 0 3 2 2 3 2 0 0 0 0 2 2 3 2 2 2 3 0 3 0\n",
      " 0 0 0 2 0 0 2 0 0 0 2 0 0 0 2 0 0 1 1 2 2 0 0 3 0 2 0 2 0 0 0 3 0 0 0 2 0\n",
      " 0 0 0 0 2 0 2 0 3 2 2 0 0 2 3 2 0 0 0 2 3 0 0 0 0 2 0 0 0 2 2 0 0 0 0 0 2\n",
      " 2 0 2 3 0 0 2 0 3 0 0 0 0 0 0 0 2 0 0 0 2 0 2 0 2 0 0 0 0 0 0 1 0 0 0 0 2\n",
      " 0 2 0 0 0 2 2 2 2 0 0 0 0 0 2 0 0 3 0 1 0 0 3 2 2 3 0 2 0 1 0 0 0 2 2 2 0\n",
      " 1 0 0 0 3 2 0 0 2 2 1 0 0 0 0 0 0 0 0 0 1 0 2 3 2 1 0 0 3 3 3 2 0 0 0 2 2\n",
      " 3 2 2 2 2 0 2 0 2 2 3 0 0 0 0 0 2 0 2 3 2 3 0 0 1 0 0 0 2 2 2 0 0 2 0 1 2\n",
      " 0 0 0 1 0 1 0 2 0 2 3 0 2 0 2 0 0 2 2 0 0 0 2 0 2 0 3 2 0 0 0 0 0 2 0 2 0\n",
      " 0 2 0 0 2 1 0 2 2 2 3 0 2 0 0 2 3 2 0 0 0 1 2 1 2 1 0 3 0 2 2 0 0 0 0 0 2\n",
      " 0 0 0 0 2 2 0 2 2 0 3 0 2 0 0 2 0 2 2 0 3 0 2 0 0 0 3 0 2 0 0 0 0 1 0 1 0\n",
      " 0 0 0 0 0 0 2 0 0 2 2 0 0 0 2 0 0 2 0 0 0 0 0 2 1 0 0 2 3 0 0 0 0 0 0 1 0\n",
      " 0 2]\n"
     ]
    }
   ],
   "source": [
    "print(predicted_classes)"
   ]
  },
  {
   "cell_type": "code",
   "execution_count": 209,
   "metadata": {},
   "outputs": [],
   "source": [
    "true_classes = validation_generator1.classes\n",
    "class_labels = list(validation_generator1.class_indices.keys())"
   ]
  },
  {
   "cell_type": "code",
   "execution_count": 191,
   "metadata": {},
   "outputs": [
    {
     "name": "stdout",
     "output_type": "stream",
     "text": [
      "{'Country': 0, 'Metal': 1, 'Rap': 2, 'Trance': 3}\n"
     ]
    }
   ],
   "source": [
    "print(validation_generator1.class_indices)"
   ]
  },
  {
   "cell_type": "code",
   "execution_count": 210,
   "metadata": {},
   "outputs": [
    {
     "name": "stdout",
     "output_type": "stream",
     "text": [
      "              precision    recall  f1-score   support\n",
      "\n",
      "     Country       0.33      0.54      0.41       181\n",
      "       Metal       0.07      0.02      0.03       103\n",
      "         Rap       0.25      0.31      0.28       126\n",
      "      Trance       0.16      0.06      0.09       110\n",
      "\n",
      "   micro avg       0.28      0.28      0.28       520\n",
      "   macro avg       0.20      0.23      0.20       520\n",
      "weighted avg       0.22      0.28      0.23       520\n",
      "\n",
      "[[97  9 58 17]\n",
      " [66  2 28  7]\n",
      " [66  9 39 12]\n",
      " [65  8 30  7]]\n"
     ]
    }
   ],
   "source": [
    "report = metrics.classification_report(true_classes, predicted_classes, target_names=class_labels)\n",
    "print(report)\n",
    "print(metrics.confusion_matrix(true_classes, predicted_classes))"
   ]
  }
 ],
 "metadata": {
  "kernelspec": {
   "display_name": "Python 3.6 (tensorflow)",
   "language": "python",
   "name": "tensorflow"
  },
  "language_info": {
   "codemirror_mode": {
    "name": "ipython",
    "version": 3
   },
   "file_extension": ".py",
   "mimetype": "text/x-python",
   "name": "python",
   "nbconvert_exporter": "python",
   "pygments_lexer": "ipython3",
   "version": "3.6.8"
  }
 },
 "nbformat": 4,
 "nbformat_minor": 2
}
