{
  "nbformat": 4,
  "nbformat_minor": 0,
  "metadata": {
    "colab": {
      "name": "Feature_Selection.ipynb",
      "version": "0.3.2",
      "provenance": [],
      "collapsed_sections": []
    },
    "kernelspec": {
      "name": "python3",
      "display_name": "Python 3"
    },
    "accelerator": "GPU"
  },
  "cells": [
    {
      "cell_type": "code",
      "metadata": {
        "id": "8x_zB-qVf2HR",
        "colab_type": "code",
        "colab": {}
      },
      "source": [
        "from sklearn.preprocessing import LabelEncoder, MinMaxScaler, StandardScaler, RobustScaler, PowerTransformer\n",
        "from sklearn import preprocessing\n",
        "import pandas as pd\n",
        "import numpy as np\n",
        "from scipy import stats"
      ],
      "execution_count": 0,
      "outputs": []
    },
    {
      "cell_type": "code",
      "metadata": {
        "id": "gIUHz8nQCRGf",
        "colab_type": "code",
        "colab": {}
      },
      "source": [
        "!pip install pymrmr"
      ],
      "execution_count": 0,
      "outputs": []
    },
    {
      "cell_type": "code",
      "metadata": {
        "id": "-Xvq6rmBCla-",
        "colab_type": "code",
        "colab": {}
      },
      "source": [
        "import pymrmr"
      ],
      "execution_count": 0,
      "outputs": []
    },
    {
      "cell_type": "markdown",
      "metadata": {
        "id": "wP6X1lf6kMXh",
        "colab_type": "text"
      },
      "source": [
        "**Fetching Data For Feature Selection**"
      ]
    },
    {
      "cell_type": "code",
      "metadata": {
        "id": "oHzWcUVsZO1g",
        "colab_type": "code",
        "colab": {}
      },
      "source": [
        "url = 'https://raw.githubusercontent.com/rohandongare-nci/18120199-Data/master/Feature%20Selection/Feature%20Selection.csv'\n",
        "sdss_feature_selection = pd.read_csv(url)"
      ],
      "execution_count": 0,
      "outputs": []
    },
    {
      "cell_type": "markdown",
      "metadata": {
        "id": "dgmQ_A4XkZJ7",
        "colab_type": "text"
      },
      "source": [
        "**PyMRMR requires the target variable to be the first column in the dataframe**"
      ]
    },
    {
      "cell_type": "code",
      "metadata": {
        "id": "g9Z96O8nD_RV",
        "colab_type": "code",
        "colab": {}
      },
      "source": [
        "sdss_mrmr=sdss_feature_selection[['class','ra', 'dec', 'u', 'g', 'r', 'i', 'z','redshift', 'plate',\n",
        "       'mjd', 'fiberid','camcol','run','rerun','field']]"
      ],
      "execution_count": 0,
      "outputs": []
    },
    {
      "cell_type": "code",
      "metadata": {
        "id": "EJRq8mHzEN4N",
        "colab_type": "code",
        "colab": {}
      },
      "source": [
        "sdss_mrmr.columns.get_loc('class')"
      ],
      "execution_count": 0,
      "outputs": []
    },
    {
      "cell_type": "code",
      "metadata": {
        "id": "Ki_IZon4FgYA",
        "colab_type": "code",
        "colab": {}
      },
      "source": [
        "from sklearn.preprocessing import LabelEncoder, MinMaxScaler\n",
        "enc = LabelEncoder()\n",
        "sdss_mrmr['class']=enc.fit_transform(sdss_mrmr['class'])"
      ],
      "execution_count": 0,
      "outputs": []
    },
    {
      "cell_type": "code",
      "metadata": {
        "id": "V_FGg8EAE51W",
        "colab_type": "code",
        "colab": {}
      },
      "source": [
        "sdss_mrmr[['class']]=to_categorical(sdss_mrmr[['class']])"
      ],
      "execution_count": 0,
      "outputs": []
    },
    {
      "cell_type": "markdown",
      "metadata": {
        "id": "o1RiFSW0JSVe",
        "colab_type": "text"
      },
      "source": [
        "**MIQ MRMR Results**"
      ]
    },
    {
      "cell_type": "code",
      "metadata": {
        "id": "qRRtQag7C-_o",
        "colab_type": "code",
        "colab": {}
      },
      "source": [
        "miq_results=pymrmr.mRMR(sdss_mrmr, 'MIQ', 15)"
      ],
      "execution_count": 0,
      "outputs": []
    },
    {
      "cell_type": "code",
      "metadata": {
        "id": "B7hj7KIZvfai",
        "colab_type": "code",
        "colab": {}
      },
      "source": [
        "miq_results"
      ],
      "execution_count": 0,
      "outputs": []
    },
    {
      "cell_type": "markdown",
      "metadata": {
        "id": "sAVRXgTsJYj-",
        "colab_type": "text"
      },
      "source": [
        "**MID MRMR Results**"
      ]
    },
    {
      "cell_type": "code",
      "metadata": {
        "id": "8PIlTHMzsRrB",
        "colab_type": "code",
        "colab": {}
      },
      "source": [
        "mid_results=pymrmr.mRMR(sdss_mrmr, 'MID', 15)"
      ],
      "execution_count": 0,
      "outputs": []
    },
    {
      "cell_type": "code",
      "metadata": {
        "id": "g3sgk2eG35rC",
        "colab_type": "code",
        "colab": {}
      },
      "source": [
        "mid_results"
      ],
      "execution_count": 0,
      "outputs": []
    }
  ]
}