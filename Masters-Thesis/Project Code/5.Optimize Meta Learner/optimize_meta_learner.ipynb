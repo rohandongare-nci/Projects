{
  "nbformat": 4,
  "nbformat_minor": 0,
  "metadata": {
    "colab": {
      "name": "optimize_meta_learner.ipynb",
      "version": "0.3.2",
      "provenance": [],
      "collapsed_sections": []
    },
    "kernelspec": {
      "name": "python3",
      "display_name": "Python 3"
    },
    "accelerator": "GPU"
  },
  "cells": [
    {
      "cell_type": "code",
      "metadata": {
        "id": "XarDQzqRCcoI",
        "colab_type": "code",
        "colab": {}
      },
      "source": [
        "!pip install factor-analyzer"
      ],
      "execution_count": 0,
      "outputs": []
    },
    {
      "cell_type": "code",
      "metadata": {
        "id": "mGdwUmlXK21L",
        "colab_type": "code",
        "colab": {}
      },
      "source": [
        "!pip install scikit-plot"
      ],
      "execution_count": 0,
      "outputs": []
    },
    {
      "cell_type": "code",
      "metadata": {
        "id": "_x4SD1ZbhVQi",
        "colab_type": "code",
        "colab": {}
      },
      "source": [
        "!pip install nimfa"
      ],
      "execution_count": 0,
      "outputs": []
    },
    {
      "cell_type": "code",
      "metadata": {
        "id": "uM-Xe6sZiTXt",
        "colab_type": "code",
        "colab": {}
      },
      "source": [
        "!nvidia-smi -L"
      ],
      "execution_count": 0,
      "outputs": []
    },
    {
      "cell_type": "code",
      "metadata": {
        "id": "MN8l0XpqjcQz",
        "colab_type": "code",
        "colab": {}
      },
      "source": [
        "!nvidia-smi"
      ],
      "execution_count": 0,
      "outputs": []
    },
    {
      "cell_type": "code",
      "metadata": {
        "id": "fLREjHVHjuoa",
        "colab_type": "code",
        "colab": {}
      },
      "source": [
        "from sklearn.metrics import accuracy_score\n",
        "from sklearn.preprocessing import LabelEncoder, MinMaxScaler, StandardScaler, RobustScaler, PowerTransformer\n",
        "from sklearn.metrics import classification_report\n",
        "from sklearn import preprocessing\n",
        "from sklearn.discriminant_analysis import QuadraticDiscriminantAnalysis\n",
        "from sklearn.ensemble import RandomForestClassifier\n",
        "from xgboost import XGBClassifier\n",
        "from sklearn.model_selection import train_test_split\n",
        "import pandas as pd\n",
        "import numpy as np\n",
        "from scipy import stats\n",
        "from keras.models import Sequential\n",
        "from keras.layers import Dense\n",
        "from keras.layers import Dropout\n",
        "from keras.layers import Activation\n",
        "from keras.wrappers.scikit_learn import KerasClassifier\n",
        "from sklearn.model_selection import StratifiedKFold\n",
        "from sklearn import metrics\n",
        "from keras.layers import LeakyReLU\n",
        "from sklearn import svm\n",
        "from keras.utils import to_categorical\n",
        "from keras import optimizers\n",
        "from keras.callbacks import ModelCheckpoint\n",
        "from keras.callbacks import EarlyStopping\n",
        "import seaborn as sb\n",
        "from factor_analyzer.factor_analyzer import calculate_kmo\n",
        "from factor_analyzer.factor_analyzer import calculate_bartlett_sphericity\n",
        "from scipy import stats\n",
        "import time\n",
        "import nimfa"
      ],
      "execution_count": 0,
      "outputs": []
    },
    {
      "cell_type": "markdown",
      "metadata": {
        "id": "G-VP275F8uc_",
        "colab_type": "text"
      },
      "source": [
        "**Data Standardization**"
      ]
    },
    {
      "cell_type": "code",
      "metadata": {
        "id": "m7-bpQkN8xFH",
        "colab_type": "code",
        "colab": {}
      },
      "source": [
        "data_scaler = RobustScaler(with_scaling=True,with_centering= True)\n",
        "def data_norm(df):\n",
        "    data_scaler.fit(df)\n",
        "    df=data_scaler.transform(df)\n",
        "    return df"
      ],
      "execution_count": 0,
      "outputs": []
    },
    {
      "cell_type": "markdown",
      "metadata": {
        "id": "sldTVWyEZLm9",
        "colab_type": "text"
      },
      "source": [
        "**Feature Selection using MRMR**"
      ]
    },
    {
      "cell_type": "code",
      "metadata": {
        "id": "gIUHz8nQCRGf",
        "colab_type": "code",
        "colab": {}
      },
      "source": [
        "!pip install pymrmr"
      ],
      "execution_count": 0,
      "outputs": []
    },
    {
      "cell_type": "code",
      "metadata": {
        "id": "-Xvq6rmBCla-",
        "colab_type": "code",
        "colab": {}
      },
      "source": [
        "import pymrmr"
      ],
      "execution_count": 0,
      "outputs": []
    },
    {
      "cell_type": "markdown",
      "metadata": {
        "id": "wP6X1lf6kMXh",
        "colab_type": "text"
      },
      "source": [
        "**Fetching Data For Feature Selection**"
      ]
    },
    {
      "cell_type": "code",
      "metadata": {
        "id": "oHzWcUVsZO1g",
        "colab_type": "code",
        "colab": {}
      },
      "source": [
        "url = 'https://raw.githubusercontent.com/rohandongare-nci/18120199-Data/master/Feature%20Selection/Feature%20Selection.csv'\n",
        "sdss_feature_selection = pd.read_csv(url)"
      ],
      "execution_count": 0,
      "outputs": []
    },
    {
      "cell_type": "markdown",
      "metadata": {
        "colab_type": "text",
        "id": "KSN1xEQ4lbbt"
      },
      "source": [
        "**Removing camera related and ID values**"
      ]
    },
    {
      "cell_type": "code",
      "metadata": {
        "colab_type": "code",
        "id": "-VgaiMXnlbbv",
        "colab": {}
      },
      "source": [
        "sdss = sdss_1"
      ],
      "execution_count": 0,
      "outputs": []
    },
    {
      "cell_type": "code",
      "metadata": {
        "colab_type": "code",
        "id": "nlRbu--xlbb2",
        "colab": {}
      },
      "source": [
        "unwanted_columns = ['objid','specobjid']\n",
        "sdss.drop(unwanted_columns, axis=1, inplace=True)\n",
        "sdss.head()"
      ],
      "execution_count": 0,
      "outputs": []
    },
    {
      "cell_type": "markdown",
      "metadata": {
        "id": "dgmQ_A4XkZJ7",
        "colab_type": "text"
      },
      "source": [
        "PyMRMR requires the target variable to be the first column in the dataframe"
      ]
    },
    {
      "cell_type": "code",
      "metadata": {
        "id": "g9Z96O8nD_RV",
        "colab_type": "code",
        "colab": {}
      },
      "source": [
        "sdss_mrmr=sdss_feature_selection[['class','ra', 'dec', 'u', 'g', 'r', 'i', 'z','redshift', 'plate',\n",
        "       'mjd', 'fiberid','camcol','run','rerun','field']]"
      ],
      "execution_count": 0,
      "outputs": []
    },
    {
      "cell_type": "code",
      "metadata": {
        "id": "EJRq8mHzEN4N",
        "colab_type": "code",
        "colab": {}
      },
      "source": [
        "sdss_mrmr.columns.get_loc('class')"
      ],
      "execution_count": 0,
      "outputs": []
    },
    {
      "cell_type": "code",
      "metadata": {
        "id": "Ki_IZon4FgYA",
        "colab_type": "code",
        "colab": {}
      },
      "source": [
        "from sklearn.preprocessing import LabelEncoder, MinMaxScaler\n",
        "enc = LabelEncoder()\n",
        "sdss_mrmr['class']=enc.fit_transform(sdss_mrmr['class'])"
      ],
      "execution_count": 0,
      "outputs": []
    },
    {
      "cell_type": "code",
      "metadata": {
        "id": "V_FGg8EAE51W",
        "colab_type": "code",
        "colab": {}
      },
      "source": [
        "sdss_mrmr[['class']]=to_categorical(sdss_mrmr[['class']])"
      ],
      "execution_count": 0,
      "outputs": []
    },
    {
      "cell_type": "markdown",
      "metadata": {
        "id": "o1RiFSW0JSVe",
        "colab_type": "text"
      },
      "source": [
        "**MIQ MRMR Results**"
      ]
    },
    {
      "cell_type": "code",
      "metadata": {
        "id": "qRRtQag7C-_o",
        "colab_type": "code",
        "colab": {}
      },
      "source": [
        "miq_results=pymrmr.mRMR(sdss_mrmr, 'MIQ', 15)"
      ],
      "execution_count": 0,
      "outputs": []
    },
    {
      "cell_type": "code",
      "metadata": {
        "id": "B7hj7KIZvfai",
        "colab_type": "code",
        "colab": {}
      },
      "source": [
        "miq_results"
      ],
      "execution_count": 0,
      "outputs": []
    },
    {
      "cell_type": "markdown",
      "metadata": {
        "id": "sAVRXgTsJYj-",
        "colab_type": "text"
      },
      "source": [
        "**MID MRMR Results**"
      ]
    },
    {
      "cell_type": "code",
      "metadata": {
        "id": "8PIlTHMzsRrB",
        "colab_type": "code",
        "colab": {}
      },
      "source": [
        "mid_results=pymrmr.mRMR(sdss_mrmr, 'MID', 16)"
      ],
      "execution_count": 0,
      "outputs": []
    },
    {
      "cell_type": "code",
      "metadata": {
        "id": "g3sgk2eG35rC",
        "colab_type": "code",
        "colab": {}
      },
      "source": [
        "mid_results"
      ],
      "execution_count": 0,
      "outputs": []
    },
    {
      "cell_type": "markdown",
      "metadata": {
        "id": "2Gm0c4Di9gpw",
        "colab_type": "text"
      },
      "source": [
        "**Fetching Data that will be used to optimize the meta learner**"
      ]
    },
    {
      "cell_type": "code",
      "metadata": {
        "id": "J66suEyG9mea",
        "colab_type": "code",
        "colab": {}
      },
      "source": [
        "opt_meta='https://raw.githubusercontent.com/rohandongare-nci/18120199-Data/master/Meta%20Learner%20Optimization/Optimize%20Meta%20Learner.csv'"
      ],
      "execution_count": 0,
      "outputs": []
    },
    {
      "cell_type": "code",
      "metadata": {
        "id": "xtKDopyp_KsY",
        "colab_type": "code",
        "colab": {}
      },
      "source": [
        "sdss_meta_opt=pd.read_csv(opt_meta)"
      ],
      "execution_count": 0,
      "outputs": []
    },
    {
      "cell_type": "markdown",
      "metadata": {
        "id": "wM2yPc8y8if9",
        "colab_type": "text"
      },
      "source": [
        "**NNMF**"
      ]
    },
    {
      "cell_type": "code",
      "metadata": {
        "id": "YNVnO1uw_sP2",
        "colab_type": "code",
        "colab": {}
      },
      "source": [
        "sdss=sdss_meta_opt"
      ],
      "execution_count": 0,
      "outputs": []
    },
    {
      "cell_type": "markdown",
      "metadata": {
        "colab_type": "text",
        "id": "D1K_MHHNld16"
      },
      "source": [
        "**Removing camera related and ID values**"
      ]
    },
    {
      "cell_type": "code",
      "metadata": {
        "colab_type": "code",
        "id": "WIcwWQBjld2A",
        "colab": {}
      },
      "source": [
        "unwanted_columns = ['camcol','run','rerun','objid','specobjid','field']\n",
        "sdss.drop(unwanted_columns, axis=1, inplace=True)\n",
        "sdss.head()"
      ],
      "execution_count": 0,
      "outputs": []
    },
    {
      "cell_type": "markdown",
      "metadata": {
        "id": "WZI_YH1XueDG",
        "colab_type": "text"
      },
      "source": [
        "**Correlation Plot**"
      ]
    },
    {
      "cell_type": "code",
      "metadata": {
        "id": "-lHBXT-7ug0F",
        "colab_type": "code",
        "colab": {}
      },
      "source": [
        "import matplotlib.pyplot as plt\n",
        "corr_plot = sdss.corr()\n",
        "#Plot figsize\n",
        "fig, axis = plt.subplots(figsize=(7, 7))\n",
        "#Generate Color Map\n",
        "colormap = sb.diverging_palette(950, 10, as_cmap=True)\n",
        "#Generate Heat Map, allow annotations and place floats in map\n",
        "sb.heatmap(corr_plot, cmap=colormap, annot=True, fmt=\".2f\")\n",
        "plt.show()"
      ],
      "execution_count": 0,
      "outputs": []
    },
    {
      "cell_type": "code",
      "metadata": {
        "id": "TqApzRyg8k05",
        "colab_type": "code",
        "colab": {}
      },
      "source": [
        "sdss_colorbands=sdss[['u','g','r','i','z']]"
      ],
      "execution_count": 0,
      "outputs": []
    },
    {
      "cell_type": "code",
      "metadata": {
        "id": "6kff16K8y0Yh",
        "colab_type": "code",
        "colab": {}
      },
      "source": [
        "u=sdss[['u']]\n",
        "g=sdss[['g']]\n",
        "r=sdss[['r']]\n",
        "i=sdss[['i']]\n",
        "z=sdss[['z']]"
      ],
      "execution_count": 0,
      "outputs": []
    },
    {
      "cell_type": "code",
      "metadata": {
        "id": "SN6OAIyt0N5q",
        "colab_type": "code",
        "colab": {}
      },
      "source": [
        "u=np.array(u)\n",
        "g=np.array(g)\n",
        "r=np.array(r)\n",
        "i=np.array(i)\n",
        "z=np.array(z)"
      ],
      "execution_count": 0,
      "outputs": []
    },
    {
      "cell_type": "code",
      "metadata": {
        "id": "kEMKkkOl0bMN",
        "colab_type": "code",
        "colab": {}
      },
      "source": [
        "u = u.flatten()\n",
        "g = g.flatten()\n",
        "r = r.flatten()\n",
        "i = i.flatten()\n",
        "z = z.flatten()"
      ],
      "execution_count": 0,
      "outputs": []
    },
    {
      "cell_type": "code",
      "metadata": {
        "id": "-Qdo5WTwbNmq",
        "colab_type": "code",
        "colab": {}
      },
      "source": [
        "sdss_spectroscopic=sdss[['plate','mjd']]"
      ],
      "execution_count": 0,
      "outputs": []
    },
    {
      "cell_type": "code",
      "metadata": {
        "id": "zgdRM7X6sVQe",
        "colab_type": "code",
        "colab": {}
      },
      "source": [
        "sdss_both=sdss[['plate','mjd','u','g','r','i','z']]"
      ],
      "execution_count": 0,
      "outputs": []
    },
    {
      "cell_type": "markdown",
      "metadata": {
        "id": "Sn_K4X-YfuK8",
        "colab_type": "text"
      },
      "source": [
        "**Bartlett's test of Sphericity**"
      ]
    },
    {
      "cell_type": "code",
      "metadata": {
        "id": "7IocDmTtr38C",
        "colab_type": "code",
        "colab": {}
      },
      "source": [
        "#Checking the Bartletts hypothesis for both photometric and spectroscopic data together\n",
        "chi_square_value,p_value= calculate_bartlett_sphericity(sdss_both)\n",
        "chi_square_value, p_value"
      ],
      "execution_count": 0,
      "outputs": []
    },
    {
      "cell_type": "code",
      "metadata": {
        "id": "xucEVyKLfUl3",
        "colab_type": "code",
        "colab": {}
      },
      "source": [
        "#Checking the Bartletts hypothesis for photometric data\n",
        "chi_square_value,p_value= calculate_bartlett_sphericity(sdss_colorbands)\n",
        "chi_square_value, p_value"
      ],
      "execution_count": 0,
      "outputs": []
    },
    {
      "cell_type": "code",
      "metadata": {
        "id": "zi3EDW9WftOT",
        "colab_type": "code",
        "colab": {}
      },
      "source": [
        "#Checking the Bartletts hypothesis for photometric data\n",
        "chi_square_value,p_value= calculate_bartlett_sphericity(sdss_spectroscopic)\n",
        "chi_square_value, p_value"
      ],
      "execution_count": 0,
      "outputs": []
    },
    {
      "cell_type": "markdown",
      "metadata": {
        "id": "esaOJ2WSzuAC",
        "colab_type": "text"
      },
      "source": [
        "**Using scipy stats module**"
      ]
    },
    {
      "cell_type": "code",
      "metadata": {
        "id": "B10E7tMTzyuU",
        "colab_type": "code",
        "colab": {}
      },
      "source": [
        "import scipy.stats as st"
      ],
      "execution_count": 0,
      "outputs": []
    },
    {
      "cell_type": "code",
      "metadata": {
        "id": "WI3s9gMgz7wg",
        "colab_type": "code",
        "colab": {}
      },
      "source": [
        "st.bartlett(u,g,r,i,z)"
      ],
      "execution_count": 0,
      "outputs": []
    },
    {
      "cell_type": "markdown",
      "metadata": {
        "id": "Iear0-5pf85z",
        "colab_type": "text"
      },
      "source": [
        "**KMO test**"
      ]
    },
    {
      "cell_type": "code",
      "metadata": {
        "id": "viiEibfms2TW",
        "colab_type": "code",
        "colab": {}
      },
      "source": [
        "total_kmo_values,kmo_model=calculate_kmo(sdss_both)\n",
        "kmo_model"
      ],
      "execution_count": 0,
      "outputs": []
    },
    {
      "cell_type": "code",
      "metadata": {
        "id": "oXbM9TPggEeA",
        "colab_type": "code",
        "colab": {}
      },
      "source": [
        "#KMO test\n",
        "total_kmo_values,kmo_model=calculate_kmo(sdss_colorbands)\n",
        "kmo_model"
      ],
      "execution_count": 0,
      "outputs": []
    },
    {
      "cell_type": "code",
      "metadata": {
        "id": "F-AN7yjhgZXG",
        "colab_type": "code",
        "colab": {}
      },
      "source": [
        "#KMO test \n",
        "total_kmo_values,kmo_model=calculate_kmo(sdss_spectroscopic)\n",
        "kmo_model"
      ],
      "execution_count": 0,
      "outputs": []
    },
    {
      "cell_type": "markdown",
      "metadata": {
        "id": "55qYRF3egbL-",
        "colab_type": "text"
      },
      "source": [
        "**Selecting the appropriate number of components**"
      ]
    },
    {
      "cell_type": "code",
      "metadata": {
        "id": "U_0uyogkojBr",
        "colab_type": "code",
        "colab": {}
      },
      "source": [
        "sdss_nimfa_colour=np.array(sdss_colorbands)"
      ],
      "execution_count": 0,
      "outputs": []
    },
    {
      "cell_type": "code",
      "metadata": {
        "id": "qAqFDTBusiCZ",
        "colab_type": "code",
        "colab": {}
      },
      "source": [
        "sdss_nimfa_colour"
      ],
      "execution_count": 0,
      "outputs": []
    },
    {
      "cell_type": "code",
      "metadata": {
        "id": "VPZFqJPkjNhY",
        "colab_type": "code",
        "colab": {}
      },
      "source": [
        "sdss_nimfa_spec=np.array(sdss_spectroscopic)"
      ],
      "execution_count": 0,
      "outputs": []
    },
    {
      "cell_type": "code",
      "metadata": {
        "id": "wQOdDdsctG4x",
        "colab_type": "code",
        "colab": {}
      },
      "source": [
        "sdss_nimfa_both=np.array(sdss_both)"
      ],
      "execution_count": 0,
      "outputs": []
    },
    {
      "cell_type": "markdown",
      "metadata": {
        "id": "pOgp5b9BtRA8",
        "colab_type": "text"
      },
      "source": [
        "**Using both spectroscopic and photometric data together**"
      ]
    },
    {
      "cell_type": "markdown",
      "metadata": {
        "id": "IADIHfI8tX_A",
        "colab_type": "text"
      },
      "source": [
        "**Rank 2**"
      ]
    },
    {
      "cell_type": "code",
      "metadata": {
        "id": "KkI-AeVktXLZ",
        "colab_type": "code",
        "colab": {}
      },
      "source": [
        "nmf_both_2 = nimfa.Nmf(sdss_nimfa_both, rank=2, max_iter=30, update='euclidean',objective='fro')\n",
        "both_sdss_nmf = nmf_colour_2()"
      ],
      "execution_count": 0,
      "outputs": []
    },
    {
      "cell_type": "code",
      "metadata": {
        "id": "cBfLwkwytieD",
        "colab_type": "code",
        "colab": {}
      },
      "source": [
        "sdss_band_colour = both_sdss_nmf.summary()\n",
        "print('Residual Sum Of Squares: %5.3f' % sdss_band_colour['rss'])\n",
        "print('Explained Variance: %5.3f' % sdss_band_colour['evar'])\n",
        "print('Cophenetic correlation: %5.3f' % sdss_band_colour['cophenetic'])"
      ],
      "execution_count": 0,
      "outputs": []
    },
    {
      "cell_type": "markdown",
      "metadata": {
        "id": "6LsqDy9dt6_C",
        "colab_type": "text"
      },
      "source": [
        "**Rank 3**"
      ]
    },
    {
      "cell_type": "code",
      "metadata": {
        "id": "HjER7YMZt9-V",
        "colab_type": "code",
        "colab": {}
      },
      "source": [
        "nmf_both_3 = nimfa.Nmf(sdss_nimfa_both, rank=3, max_iter=30, update='euclidean',objective='fro')\n",
        "both_sdss_nmf = nmf_both_3()"
      ],
      "execution_count": 0,
      "outputs": []
    },
    {
      "cell_type": "code",
      "metadata": {
        "id": "FAFO9NJZt__P",
        "colab_type": "code",
        "colab": {}
      },
      "source": [
        "sdss_band_colour = both_sdss_nmf.summary()\n",
        "print('Residual Sum Of Squares: %5.3f' % sdss_band_colour['rss'])\n",
        "print('Explained Variance: %5.3f' % sdss_band_colour['evar'])\n",
        "print('Cophenetic correlation: %5.3f' % sdss_band_colour['cophenetic'])"
      ],
      "execution_count": 0,
      "outputs": []
    },
    {
      "cell_type": "markdown",
      "metadata": {
        "id": "9Uqj1TcEuQSQ",
        "colab_type": "text"
      },
      "source": [
        "**Rank 4**"
      ]
    },
    {
      "cell_type": "code",
      "metadata": {
        "id": "XweEXMo1uSSI",
        "colab_type": "code",
        "colab": {}
      },
      "source": [
        "nmf_both_4 = nimfa.Nmf(sdss_nimfa_both, rank=4, max_iter=30, update='euclidean',objective='fro')\n",
        "both_sdss_4 = nmf_both_4()"
      ],
      "execution_count": 0,
      "outputs": []
    },
    {
      "cell_type": "code",
      "metadata": {
        "id": "U77RG7CFudAX",
        "colab_type": "code",
        "colab": {}
      },
      "source": [
        "sdss_band_colour = both_sdss_4.summary()\n",
        "print('Residual Sum Of Squares: %5.3f' % sdss_band_colour['rss'])\n",
        "print('Evar: %5.3f' % sdss_band_colour['evar'])\n",
        "print('Cophenetic correlation: %5.3f' % sdss_band_colour['cophenetic'])"
      ],
      "execution_count": 0,
      "outputs": []
    },
    {
      "cell_type": "markdown",
      "metadata": {
        "id": "yXgzsJYtvUr1",
        "colab_type": "text"
      },
      "source": [
        "**Rank 5**"
      ]
    },
    {
      "cell_type": "code",
      "metadata": {
        "id": "3QMuqOeUvWhs",
        "colab_type": "code",
        "colab": {}
      },
      "source": [
        "nmf_both_5 = nimfa.Nmf(sdss_nimfa_both, rank=5, max_iter=30, update='euclidean',objective='fro')\n",
        "both_sdss_5 = nmf_both_5()"
      ],
      "execution_count": 0,
      "outputs": []
    },
    {
      "cell_type": "code",
      "metadata": {
        "id": "uvaJRfMmvdxR",
        "colab_type": "code",
        "colab": {}
      },
      "source": [
        "sdss_band_colour = both_sdss_5.summary()\n",
        "print('Residual Sum Of Squares: %5.3f' % sdss_band_colour['rss'])\n",
        "print('Evar: %5.3f' % sdss_band_colour['evar'])\n",
        "print('Cophenetic correlation: %5.3f' % sdss_band_colour['cophenetic'])"
      ],
      "execution_count": 0,
      "outputs": []
    },
    {
      "cell_type": "markdown",
      "metadata": {
        "id": "hUU4N_4Ovync",
        "colab_type": "text"
      },
      "source": [
        "**Rank 6**"
      ]
    },
    {
      "cell_type": "code",
      "metadata": {
        "id": "VLVVBiEOv05W",
        "colab_type": "code",
        "colab": {}
      },
      "source": [
        "nmf_both_6 = nimfa.Nmf(sdss_nimfa_both, rank=5, max_iter=30, update='euclidean',objective='fro')\n",
        "both_sdss_6 = nmf_both_6()"
      ],
      "execution_count": 0,
      "outputs": []
    },
    {
      "cell_type": "code",
      "metadata": {
        "id": "-EfpQzCAv6op",
        "colab_type": "code",
        "colab": {}
      },
      "source": [
        "sdss_band_colour = both_sdss_6.summary()\n",
        "print('Residual Sum Of Squares: %5.3f' % sdss_band_colour['rss'])\n",
        "print('Evar: %5.3f' % sdss_band_colour['evar'])\n",
        "print('Cophenetic correlation: %5.3f' % sdss_band_colour['cophenetic'])"
      ],
      "execution_count": 0,
      "outputs": []
    },
    {
      "cell_type": "markdown",
      "metadata": {
        "id": "VDz8Nezetdzi",
        "colab_type": "text"
      },
      "source": [
        "**Using only the photometric data**"
      ]
    },
    {
      "cell_type": "markdown",
      "metadata": {
        "id": "0Lnv56ddtstT",
        "colab_type": "text"
      },
      "source": [
        "**Rank 2**"
      ]
    },
    {
      "cell_type": "code",
      "metadata": {
        "id": "BORgkfrItKX4",
        "colab_type": "code",
        "colab": {}
      },
      "source": [
        "nmf_colour_2 = nimfa.Nmf(sdss_nimfa_colour, rank=2, max_iter=2, update='euclidean',objective='fro')\n",
        "colour_sdss_nmf = nmf_colour_2()"
      ],
      "execution_count": 0,
      "outputs": []
    },
    {
      "cell_type": "code",
      "metadata": {
        "id": "F3ZzyaXdtMMD",
        "colab_type": "code",
        "colab": {}
      },
      "source": [
        "sdss_band_colour2 = colour_sdss_nmf.summary()\n",
        "print('Residual Sum Of Squares: %5.3f' % sdss_band_colour2['rss'])\n",
        "print('Explained Variance: %5.3f' % sdss_band_colour2['evar'])\n",
        "print('Cophenetic correlation: %5.3f' % sdss_band_colour2['cophenetic'])"
      ],
      "execution_count": 0,
      "outputs": []
    },
    {
      "cell_type": "markdown",
      "metadata": {
        "id": "fcuscTcztvi4",
        "colab_type": "text"
      },
      "source": [
        "**Rank 3**"
      ]
    },
    {
      "cell_type": "code",
      "metadata": {
        "id": "CyUwweWj35jd",
        "colab_type": "code",
        "colab": {}
      },
      "source": [
        "color_3 = nimfa.Nmf(sdss_nimfa_colour, rank=3, max_iter=10, update='euclidean',objective='fro')\n",
        "sdss_color_3 = color_3()"
      ],
      "execution_count": 0,
      "outputs": []
    },
    {
      "cell_type": "code",
      "metadata": {
        "id": "sI3I-3Rj4zBJ",
        "colab_type": "code",
        "colab": {}
      },
      "source": [
        "print(nmf_fit)"
      ],
      "execution_count": 0,
      "outputs": []
    },
    {
      "cell_type": "code",
      "metadata": {
        "id": "GIkOC3i55VI1",
        "colab_type": "code",
        "colab": {}
      },
      "source": [
        "color_rank_3 = sdss_color_3.summary()\n",
        "print('Residual Sum Of Squares: %5.3f' % color_rank_3['rss'])\n",
        "print('Explained Variance: %5.3f' % color_rank_3['evar'])\n",
        "print('Iterations: %d' % color_rank_3['n_iter'])\n",
        "print('Cophenetic correlation: %5.3f' % color_rank_3['cophenetic'])"
      ],
      "execution_count": 0,
      "outputs": []
    },
    {
      "cell_type": "markdown",
      "metadata": {
        "id": "SXN2pCMgofIV",
        "colab_type": "text"
      },
      "source": [
        "**Rank 4**"
      ]
    },
    {
      "cell_type": "code",
      "metadata": {
        "id": "WJGvLqFPoyvO",
        "colab_type": "code",
        "colab": {}
      },
      "source": [
        "color_4 = nimfa.Nmf(sdss_nimfa_colour, rank=4, max_iter=10, update='euclidean',objective='fro')\n",
        "sdss_color_4 = color_4()"
      ],
      "execution_count": 0,
      "outputs": []
    },
    {
      "cell_type": "code",
      "metadata": {
        "id": "uZgIfF825Cec",
        "colab_type": "code",
        "colab": {}
      },
      "source": [
        "color_rank_4 = sdss_color_4.summary()\n",
        "print('Residual Sum Of Squares: %f' % color_rank_4['rss'])\n",
        "print('Explained Variance: %f' % color_rank_4['evar'])\n",
        "print('Copenhatic Distance: %5.3f' % color_rank_4['cophenetic'])"
      ],
      "execution_count": 0,
      "outputs": []
    },
    {
      "cell_type": "markdown",
      "metadata": {
        "id": "Zk58nmhEiamj",
        "colab_type": "text"
      },
      "source": [
        "**NNMF**"
      ]
    },
    {
      "cell_type": "code",
      "metadata": {
        "id": "Vmz-hxdc9r5P",
        "colab_type": "code",
        "colab": {}
      },
      "source": [
        "from sklearn.decomposition import NMF\n",
        "nnmf_model = NMF(n_components=3, init='random', random_state=18120199)"
      ],
      "execution_count": 0,
      "outputs": []
    },
    {
      "cell_type": "code",
      "metadata": {
        "id": "FLIoSGBQ8p74",
        "colab_type": "code",
        "colab": {}
      },
      "source": [
        "nnmf_components = nnmf_model.fit_transform(sdss_colorbands)"
      ],
      "execution_count": 0,
      "outputs": []
    },
    {
      "cell_type": "code",
      "metadata": {
        "id": "us3TvU7e9GiN",
        "colab_type": "code",
        "colab": {}
      },
      "source": [
        "sdss = pd.concat((sdss, pd.DataFrame(nnmf_components)), axis=1)"
      ],
      "execution_count": 0,
      "outputs": []
    },
    {
      "cell_type": "code",
      "metadata": {
        "id": "dVtd2rNpk7r1",
        "colab_type": "code",
        "colab": {}
      },
      "source": [
        "print(sdss.head(10))"
      ],
      "execution_count": 0,
      "outputs": []
    },
    {
      "cell_type": "code",
      "metadata": {
        "id": "IUdJXIIt-PRZ",
        "colab_type": "code",
        "colab": {}
      },
      "source": [
        "sdss.rename({0: 'color_component_1', 1: 'color_component_2', 2: 'color_component_3'}, axis=1, inplace = True)"
      ],
      "execution_count": 0,
      "outputs": []
    },
    {
      "cell_type": "code",
      "metadata": {
        "id": "_IDJQ4qyvrN2",
        "colab_type": "code",
        "colab": {}
      },
      "source": [
        "sdss_colour_c=sdss[['color_component_1','color_component_2','color_component_3']]"
      ],
      "execution_count": 0,
      "outputs": []
    },
    {
      "cell_type": "code",
      "metadata": {
        "id": "XQ-r0EfS2vh_",
        "colab_type": "code",
        "colab": {}
      },
      "source": [
        "enc = LabelEncoder()\n",
        "X=sdss[['ra','dec','color_component_1','color_component_2','color_component_3','redshift','fiberid','plate','mjd']]\n",
        "y = enc.fit_transform(sdss['class'])\n",
        "X.head()"
      ],
      "execution_count": 0,
      "outputs": []
    },
    {
      "cell_type": "markdown",
      "metadata": {
        "id": "D20NAZk_2OWz",
        "colab_type": "text"
      },
      "source": [
        "**Spectroscopic Data** "
      ]
    },
    {
      "cell_type": "code",
      "metadata": {
        "id": "0QHnTkky3uG9",
        "colab_type": "code",
        "colab": {}
      },
      "source": [
        "nnmf_spec_model = NMF(n_components=1, init='random', random_state=18120199)"
      ],
      "execution_count": 0,
      "outputs": []
    },
    {
      "cell_type": "code",
      "metadata": {
        "id": "Kb-hzQqs4RN2",
        "colab_type": "code",
        "colab": {}
      },
      "source": [
        "nnmf_spec_components = nnmf_spec_model.fit_transform(sdss_spectroscopic)"
      ],
      "execution_count": 0,
      "outputs": []
    },
    {
      "cell_type": "code",
      "metadata": {
        "id": "UZQFlGk84gfo",
        "colab_type": "code",
        "colab": {}
      },
      "source": [
        "sdss = pd.concat((sdss, pd.DataFrame(nnmf_spec_components)), axis=1)"
      ],
      "execution_count": 0,
      "outputs": []
    },
    {
      "cell_type": "code",
      "metadata": {
        "id": "Y7Lwk-pV5ZSJ",
        "colab_type": "code",
        "colab": {}
      },
      "source": [
        "sdss.rename({0: 'spectroscopic_component'}, axis=1, inplace = True)"
      ],
      "execution_count": 0,
      "outputs": []
    },
    {
      "cell_type": "code",
      "metadata": {
        "id": "6-TVmr4e6M7C",
        "colab_type": "code",
        "colab": {}
      },
      "source": [
        "sdss"
      ],
      "execution_count": 0,
      "outputs": []
    },
    {
      "cell_type": "code",
      "metadata": {
        "id": "fJ3rTwYw-vJ0",
        "colab_type": "code",
        "colab": {}
      },
      "source": [
        "enc = LabelEncoder()\n",
        "X=sdss[['ra','dec','spectroscopic_component','color_component_1','color_component_2','color_component_3','redshift','fiberid']]\n",
        "#y=sdss[['class']]\n",
        "y = enc.fit_transform(sdss['class'])\n",
        "X.head()"
      ],
      "execution_count": 0,
      "outputs": []
    },
    {
      "cell_type": "markdown",
      "metadata": {
        "id": "suwa3Zf9wWq4",
        "colab_type": "text"
      },
      "source": [
        "**NNMF both spectroscopic and photometric together**"
      ]
    },
    {
      "cell_type": "code",
      "metadata": {
        "colab_type": "code",
        "id": "uG4jglRGws0T",
        "colab": {}
      },
      "source": [
        "from sklearn.decomposition import NMF\n",
        "nnmf_model = NMF(n_components=4, init='random', random_state=18120199)"
      ],
      "execution_count": 0,
      "outputs": []
    },
    {
      "cell_type": "code",
      "metadata": {
        "colab_type": "code",
        "id": "UPH6q55Vws0Z",
        "colab": {}
      },
      "source": [
        "nnmf_components_both = nnmf_model.fit_transform(sdss_both)"
      ],
      "execution_count": 0,
      "outputs": []
    },
    {
      "cell_type": "code",
      "metadata": {
        "colab_type": "code",
        "id": "7sksH0gIws0b",
        "colab": {}
      },
      "source": [
        "sdss = pd.concat((sdss, pd.DataFrame(nnmf_components_both)), axis=1)"
      ],
      "execution_count": 0,
      "outputs": []
    },
    {
      "cell_type": "code",
      "metadata": {
        "colab_type": "code",
        "id": "5ARbhxpsws0d",
        "colab": {}
      },
      "source": [
        "print(sdss.head(10))"
      ],
      "execution_count": 0,
      "outputs": []
    },
    {
      "cell_type": "code",
      "metadata": {
        "colab_type": "code",
        "id": "2W13LMD9ws0i",
        "colab": {}
      },
      "source": [
        "sdss.rename({0: 'nmf_component_1', 1: 'nmf_component_2', 2: 'nmf_component_3', 3: 'nmf_component_4'}, axis=1, inplace = True)"
      ],
      "execution_count": 0,
      "outputs": []
    },
    {
      "cell_type": "code",
      "metadata": {
        "id": "D7ejcSJ9xJHQ",
        "colab_type": "code",
        "colab": {}
      },
      "source": [
        "enc = LabelEncoder()\n",
        "X=sdss[['ra','dec','nmf_component_1','nmf_component_2','nmf_component_3','nmf_component_4','redshift','fiberid']]\n",
        "#y=sdss[['class']]\n",
        "y = enc.fit_transform(sdss['class'])\n",
        "X.head()"
      ],
      "execution_count": 0,
      "outputs": []
    },
    {
      "cell_type": "markdown",
      "metadata": {
        "id": "gwkJKvhbWmAV",
        "colab_type": "text"
      },
      "source": [
        "**Data Normalization**"
      ]
    },
    {
      "cell_type": "code",
      "metadata": {
        "id": "EDW0GTuhWphl",
        "colab_type": "code",
        "colab": {}
      },
      "source": [
        "X= preprocessing.normalize(X, norm='l2')"
      ],
      "execution_count": 0,
      "outputs": []
    },
    {
      "cell_type": "markdown",
      "metadata": {
        "id": "dV_3QXIeLnwT",
        "colab_type": "text"
      },
      "source": [
        ""
      ]
    },
    {
      "cell_type": "markdown",
      "metadata": {
        "id": "CBITnEyXW1BW",
        "colab_type": "text"
      },
      "source": [
        "**Power Transformation with standardization**"
      ]
    },
    {
      "cell_type": "code",
      "metadata": {
        "id": "6xa_K1iaW4Sr",
        "colab_type": "code",
        "colab": {}
      },
      "source": [
        "power_transform_yj = preprocessing.PowerTransformer(method='yeo-johnson', standardize=True)"
      ],
      "execution_count": 0,
      "outputs": []
    },
    {
      "cell_type": "code",
      "metadata": {
        "id": "3IqX9Qk4XXBb",
        "colab_type": "code",
        "colab": {}
      },
      "source": [
        "X=power_transform_yj.fit_transform(X)"
      ],
      "execution_count": 0,
      "outputs": []
    },
    {
      "cell_type": "code",
      "metadata": {
        "id": "fDDoowBFrflw",
        "colab_type": "code",
        "colab": {}
      },
      "source": [
        "x_plot=pd.DataFrame(X)"
      ],
      "execution_count": 0,
      "outputs": []
    },
    {
      "cell_type": "code",
      "metadata": {
        "id": "JtLZStA5snDr",
        "colab_type": "code",
        "colab": {}
      },
      "source": [
        "x_plot"
      ],
      "execution_count": 0,
      "outputs": []
    },
    {
      "cell_type": "code",
      "metadata": {
        "id": "Yqk68976sfcK",
        "colab_type": "code",
        "colab": {}
      },
      "source": [
        "sb.kdeplot(x_plot[5], shade=True)"
      ],
      "execution_count": 0,
      "outputs": []
    },
    {
      "cell_type": "code",
      "metadata": {
        "id": "iEgflMNarmVE",
        "colab_type": "code",
        "colab": {}
      },
      "source": [
        "for col in x_plot[col]:\n",
        "    sb.kdeplot(x_plot[col], shade=True)"
      ],
      "execution_count": 0,
      "outputs": []
    },
    {
      "cell_type": "markdown",
      "metadata": {
        "id": "RnNL_RHV-0jC",
        "colab_type": "text"
      },
      "source": [
        "**Without NNMF**"
      ]
    },
    {
      "cell_type": "code",
      "metadata": {
        "id": "ctYOBD5CEehS",
        "colab_type": "code",
        "colab": {}
      },
      "source": [
        "enc = LabelEncoder()\n",
        "X=sdss[['ra','dec','u','g','r','i','z','redshift','plate','mjd','fiberid']]\n",
        "y=sdss[['class']]\n",
        "y = enc.fit_transform(sdss['class'])\n",
        "X.head()"
      ],
      "execution_count": 0,
      "outputs": []
    },
    {
      "cell_type": "code",
      "metadata": {
        "id": "9DZIaSa5fKX4",
        "colab_type": "code",
        "colab": {}
      },
      "source": [
        "print(X)"
      ],
      "execution_count": 0,
      "outputs": []
    },
    {
      "cell_type": "markdown",
      "metadata": {
        "id": "8g2mAJACSYXG",
        "colab_type": "text"
      },
      "source": [
        "**Random Undersampling**"
      ]
    },
    {
      "cell_type": "code",
      "metadata": {
        "id": "A2gJNjrwSOfY",
        "colab_type": "code",
        "colab": {}
      },
      "source": [
        "from collections import Counter\n",
        "Counter(y)"
      ],
      "execution_count": 0,
      "outputs": []
    },
    {
      "cell_type": "code",
      "metadata": {
        "id": "Ww87Sq7bScOf",
        "colab_type": "code",
        "colab": {}
      },
      "source": [
        "from imblearn.under_sampling import RandomUnderSampler"
      ],
      "execution_count": 0,
      "outputs": []
    },
    {
      "cell_type": "code",
      "metadata": {
        "id": "m4oesWpUSpdG",
        "colab_type": "code",
        "colab": {}
      },
      "source": [
        "undersampler = RandomUnderSampler(random_state=18120199,replacement=False)\n",
        "X_under, y_under = undersampler.fit_resample(X, y)"
      ],
      "execution_count": 0,
      "outputs": []
    },
    {
      "cell_type": "code",
      "metadata": {
        "id": "jeafFzTWy4oe",
        "colab_type": "code",
        "colab": {}
      },
      "source": [
        "Counter(y_under)"
      ],
      "execution_count": 0,
      "outputs": []
    },
    {
      "cell_type": "code",
      "metadata": {
        "id": "CEGhThu4_IS0",
        "colab_type": "code",
        "colab": {}
      },
      "source": [
        "X_train, X_test, Y_train, Y_test = train_test_split(X_under, y_under, test_size = 0.25, random_state = 18120199)"
      ],
      "execution_count": 0,
      "outputs": []
    },
    {
      "cell_type": "code",
      "metadata": {
        "id": "di75HWD549Vv",
        "colab_type": "code",
        "colab": {}
      },
      "source": [
        "X_test.shape"
      ],
      "execution_count": 0,
      "outputs": []
    },
    {
      "cell_type": "markdown",
      "metadata": {
        "id": "_c5CIlnPVftg",
        "colab_type": "text"
      },
      "source": [
        "**Stratified K-Fold**"
      ]
    },
    {
      "cell_type": "code",
      "metadata": {
        "id": "q5Hyd5EpEpY3",
        "colab_type": "code",
        "colab": {}
      },
      "source": [
        "k = 10\n",
        "str_kf = StratifiedKFold(n_splits=k, random_state=18120199, shuffle=False)"
      ],
      "execution_count": 0,
      "outputs": []
    },
    {
      "cell_type": "markdown",
      "metadata": {
        "id": "4PTZWFC5FbCu",
        "colab_type": "text"
      },
      "source": [
        "**Defining a function for stacking the models**"
      ]
    },
    {
      "cell_type": "code",
      "metadata": {
        "id": "dzfkbOJd7mEt",
        "colab_type": "code",
        "colab": {}
      },
      "source": [
        "def get_stack_pred(classifier):\n",
        "  #Initial train-test split- train sample will be used for k-fold, test sample will be used as the holdout set\n",
        "  x_train, x_test, y_train, y_test = train_test_split(X_under, y_under, test_size = 0.25, random_state = 18120199)\n",
        "  #initializing arrays to store predictions\n",
        "  if_test=np.empty((x_train.shape[0],))\n",
        "  oof_kfold = np.empty((k, x_test.shape[0]))\n",
        "  infoldx_train=[]\n",
        "  infoldy_train=[]\n",
        "  infold_test=[]\n",
        "  infoldy_test=[]\n",
        "  #assigning train-test indices for every fold\n",
        "  for j, (train_index, test_index) in enumerate(str_kf.split(x_train, y_train)):\n",
        "    infoldx_train = x_train[train_index]\n",
        "    infoldy_train = y_train[train_index]\n",
        "    infoldx_test   = x_train[test_index]\n",
        "    infoldy_test  = y_train[test_index]\n",
        "    #print(infoldx_test.shape[0])\n",
        "    #training the classifier on the infold train/test set \n",
        "    classifier.fit(infoldx_train,infoldy_train)\n",
        "    #infold test prediction\n",
        "    if_test[test_index]=classifier.predict(infoldx_test)\n",
        "    infold_pred=classifier.predict(infoldx_test)\n",
        "    #Infold classifier performance\n",
        "    infold_accuracy = metrics.accuracy_score(infold_pred, infoldy_test)\n",
        "    print(f\"In Fold classifier accuracy: {infold_accuracy}\")\n",
        "    #holdout fold test prediction\n",
        "    pred2=classifier.predict(x_test)\n",
        "    #holdout set classifier performance\n",
        "    out_of_fold_accuracy = metrics.accuracy_score(pred2,y_test)\n",
        "    print(f\"Out Of Fold accuracy: {out_of_fold_accuracy}\")\n",
        "    #adding predictions of the holdout set for every fold row-wise to an array\n",
        "    oof_kfold[j,:]=classifier.predict(x_test)\n",
        "  #taking mode of the holdout set predictions of each row\n",
        "  mode=stats.mode(oof_kfold,axis=0)\n",
        "  oof_kfold=mode[0]\n",
        "  '''returning transposed columns so that predictions of each base learner \n",
        "  will later after appending them will have its own column'''\n",
        "  return if_test.reshape(-1,1), oof_kfold.reshape(-1,1)"
      ],
      "execution_count": 0,
      "outputs": []
    },
    {
      "cell_type": "markdown",
      "metadata": {
        "id": "qr6mtf3pIvQN",
        "colab_type": "text"
      },
      "source": [
        "**Keras Classifier**"
      ]
    },
    {
      "cell_type": "code",
      "metadata": {
        "id": "X2_SK16dIF6z",
        "colab_type": "code",
        "colab": {}
      },
      "source": [
        "# Function to create model, required for KerasClassifier\n",
        "def base_model():\n",
        "  model_sdss_base = Sequential()\n",
        "  model_sdss_base.add(Dense(1024, input_shape=(9,),kernel_initializer='random_uniform'))\n",
        "  model_sdss_base.add(LeakyReLU(alpha=0.001))\n",
        "  model_sdss_base.add(Dropout(rate=0.2))\n",
        "  model_sdss_base.add(Dense(512))\n",
        "  model_sdss_base.add(LeakyReLU(alpha=0.001))\n",
        "  model_sdss_base.add(Dropout(rate=0.2))\n",
        "  model_sdss_base.add(Dense(512))\n",
        "  model_sdss_base.add(LeakyReLU(alpha=0.001))\n",
        "  model_sdss_base.add(Dropout(rate=0.2))\n",
        "  adamopt=optimizers.Adam(lr=10**-3)\n",
        "  model_sdss_base.add(Dense(3, activation='softmax'))\n",
        "  model_sdss_base.compile(loss='categorical_crossentropy',\n",
        "                    optimizer=adamopt, \n",
        "                    metrics=['accuracy'])\n",
        "  return model_sdss_base"
      ],
      "execution_count": 0,
      "outputs": []
    },
    {
      "cell_type": "code",
      "metadata": {
        "id": "ISL3YyVyJmXo",
        "colab_type": "code",
        "colab": {}
      },
      "source": [
        "nn_els = EarlyStopping(monitor='acc', mode='max', verbose=1, patience=5)\n",
        "nn_mck = ModelCheckpoint('best_observed_model.h5', monitor='acc', mode='max', verbose=1, save_best_only=True)\n",
        "nn_model = KerasClassifier(build_fn=base_model, epochs=30, batch_size=300, verbose=1,callbacks=[nn_els,nn_mck])"
      ],
      "execution_count": 0,
      "outputs": []
    },
    {
      "cell_type": "code",
      "metadata": {
        "id": "mMszA9DqKdT5",
        "colab_type": "code",
        "colab": {}
      },
      "source": [
        "nn_train, nn_test = get_stack_pred(nn_model)"
      ],
      "execution_count": 0,
      "outputs": []
    },
    {
      "cell_type": "code",
      "metadata": {
        "id": "H-SCBrWIv-NQ",
        "colab_type": "code",
        "colab": {}
      },
      "source": [
        "nn_train, nn_test = get_stack_pred(nn_model)"
      ],
      "execution_count": 0,
      "outputs": []
    },
    {
      "cell_type": "code",
      "metadata": {
        "id": "GAgLiRBDtPQz",
        "colab_type": "code",
        "colab": {}
      },
      "source": [
        "class_names = ['Galaxy', 'Quasar', 'Star']"
      ],
      "execution_count": 0,
      "outputs": []
    },
    {
      "cell_type": "code",
      "metadata": {
        "id": "A3Wq2NYkoJVM",
        "colab_type": "code",
        "colab": {}
      },
      "source": [
        "from sklearn.metrics import confusion_matrix\n",
        "cm_nn = confusion_matrix(Y_test, nn_test)\n",
        "print(cm_nn)"
      ],
      "execution_count": 0,
      "outputs": []
    },
    {
      "cell_type": "code",
      "metadata": {
        "id": "7pfNflLWoOfz",
        "colab_type": "code",
        "colab": {}
      },
      "source": [
        "print(classification_report(Y_test, nn_test),target_names=class_names)"
      ],
      "execution_count": 0,
      "outputs": []
    },
    {
      "cell_type": "code",
      "metadata": {
        "id": "nzttbYK2PRna",
        "colab_type": "code",
        "colab": {}
      },
      "source": [
        "df_nn_cm = pd.DataFrame(cm_nn,index=['Galaxy','Quasar','Star'],\n",
        "                  columns = ['Galaxy','Quasar','Star'])\n",
        "sb.heatmap(df_nn_cm, annot=True,fmt=\"g\",cmap=\"Blues\")"
      ],
      "execution_count": 0,
      "outputs": []
    },
    {
      "cell_type": "markdown",
      "metadata": {
        "id": "ZMtSK1uOvQeR",
        "colab_type": "text"
      },
      "source": [
        "**Binomial test to check if the output of the base learner was not a result of pure chance**"
      ]
    },
    {
      "cell_type": "code",
      "metadata": {
        "id": "cDHRSXMZL-uU",
        "colab_type": "code",
        "colab": {}
      },
      "source": [
        "stats.binom_test(58870, n=60615, p=0.973)"
      ],
      "execution_count": 0,
      "outputs": []
    },
    {
      "cell_type": "code",
      "metadata": {
        "id": "1mTSRZRO3Umr",
        "colab_type": "code",
        "colab": {}
      },
      "source": [
        "stats.binom_test(58870, n=60615, p=0.97,alternative=\"greater\")"
      ],
      "execution_count": 0,
      "outputs": []
    },
    {
      "cell_type": "markdown",
      "metadata": {
        "id": "2CWjaFwShASq",
        "colab_type": "text"
      },
      "source": [
        "**Random Forest were run just to compare their performance with Extra trees**"
      ]
    },
    {
      "cell_type": "code",
      "metadata": {
        "id": "jnSuIasjhEwy",
        "colab_type": "code",
        "colab": {}
      },
      "source": [
        "sdss_rf = RandomForestClassifier(criterion='gini',max_features='sqrt',min_samples_leaf=36,n_estimators=50,min_samples_split=2,n_jobs=-1,random_state=18120199)"
      ],
      "execution_count": 0,
      "outputs": []
    },
    {
      "cell_type": "code",
      "metadata": {
        "id": "zMMC4OTJwJoO",
        "colab_type": "code",
        "colab": {}
      },
      "source": [
        "rf_train, rf_test = get_predictions1(sdss_rf)"
      ],
      "execution_count": 0,
      "outputs": []
    },
    {
      "cell_type": "code",
      "metadata": {
        "id": "jt94etNmRXO3",
        "colab_type": "code",
        "colab": {}
      },
      "source": [
        "from sklearn.metrics import confusion_matrix\n",
        "cm_rf = confusion_matrix(Y_test, rf_test)\n",
        "print(cm_rf)"
      ],
      "execution_count": 0,
      "outputs": []
    },
    {
      "cell_type": "markdown",
      "metadata": {
        "id": "5inIRf--ozP-",
        "colab_type": "text"
      },
      "source": [
        "**Extra Tree Classifier**"
      ]
    },
    {
      "cell_type": "code",
      "metadata": {
        "id": "0YquwIw5paXR",
        "colab_type": "code",
        "colab": {}
      },
      "source": [
        "from sklearn.ensemble import ExtraTreesClassifier"
      ],
      "execution_count": 0,
      "outputs": []
    },
    {
      "cell_type": "code",
      "metadata": {
        "id": "zZJcuPZxo31n",
        "colab_type": "code",
        "colab": {}
      },
      "source": [
        "et_base = ExtraTreesClassifier(n_estimators=29,max_features= 0.95,criterion= 'entropy',min_samples_split= 2,\n",
        "                            max_depth= 50, min_samples_leaf= 1)      "
      ],
      "execution_count": 0,
      "outputs": []
    },
    {
      "cell_type": "code",
      "metadata": {
        "id": "WtJ913YWpdAH",
        "colab_type": "code",
        "colab": {}
      },
      "source": [
        "start_et=time.time()\n",
        "et_train, et_test=get_stack_pred(et_base)\n",
        "end_et=time.time()"
      ],
      "execution_count": 0,
      "outputs": []
    },
    {
      "cell_type": "code",
      "metadata": {
        "id": "OLC-wlncNpJQ",
        "colab_type": "code",
        "colab": {}
      },
      "source": [
        "et_time=end_et-start_et\n",
        "print(et_time)"
      ],
      "execution_count": 0,
      "outputs": []
    },
    {
      "cell_type": "code",
      "metadata": {
        "id": "xUFziZsvsb9w",
        "colab_type": "code",
        "colab": {}
      },
      "source": [
        "from sklearn.metrics import confusion_matrix\n",
        "cm_et = confusion_matrix(Y_test, et_test)\n",
        "print(cm_et)"
      ],
      "execution_count": 0,
      "outputs": []
    },
    {
      "cell_type": "code",
      "metadata": {
        "id": "vg4DdzFEEX2T",
        "colab_type": "code",
        "colab": {}
      },
      "source": [
        "df_et_cm = pd.DataFrame(cm_et,index=['Galaxy','Quasar','Star'],\n",
        "                  columns = ['Galaxy','Quasar','Star'])\n",
        "sb.heatmap(df_et_cm, annot=True,fmt=\"g\",cmap=\"Blues\")"
      ],
      "execution_count": 0,
      "outputs": []
    },
    {
      "cell_type": "code",
      "metadata": {
        "id": "AeKhzjd795rO",
        "colab_type": "code",
        "colab": {}
      },
      "source": [
        "class_name = ['Galaxy', 'Quasar', 'Star']\n",
        "print(classification_report(Y_test, et_test,taget_names=class_name))"
      ],
      "execution_count": 0,
      "outputs": []
    },
    {
      "cell_type": "markdown",
      "metadata": {
        "id": "in2iq9szJnDX",
        "colab_type": "text"
      },
      "source": [
        "**Binomial Test**"
      ]
    },
    {
      "cell_type": "code",
      "metadata": {
        "id": "KMkmaMDbMgFX",
        "colab_type": "code",
        "colab": {}
      },
      "source": [
        "stats.binom_test(59034, n=60615, p=0.97, alternative=\"greater\")"
      ],
      "execution_count": 0,
      "outputs": []
    },
    {
      "cell_type": "code",
      "metadata": {
        "id": "8KVC5vzuv35f",
        "colab_type": "code",
        "colab": {}
      },
      "source": [
        "stats.binom_test(59034, n=60615, p=0.973)"
      ],
      "execution_count": 0,
      "outputs": []
    },
    {
      "cell_type": "code",
      "metadata": {
        "id": "wC7Y6PlDPYhF",
        "colab_type": "code",
        "colab": {}
      },
      "source": [
        "stats.binom_test(59265, n=60615, p=0.970,alternative=\"greater\")"
      ],
      "execution_count": 0,
      "outputs": []
    },
    {
      "cell_type": "markdown",
      "metadata": {
        "id": "KirSAW9PxwAZ",
        "colab_type": "text"
      },
      "source": [
        "**Quadratic Discriminant Analysis**"
      ]
    },
    {
      "cell_type": "code",
      "metadata": {
        "id": "RSFV3Vkejgnk",
        "colab_type": "code",
        "colab": {}
      },
      "source": [
        "sdss_qda = QuadraticDiscriminantAnalysis(tol=0.0001,reg_param=0.005)"
      ],
      "execution_count": 0,
      "outputs": []
    },
    {
      "cell_type": "code",
      "metadata": {
        "id": "nhkTbnjF5BRF",
        "colab_type": "code",
        "colab": {}
      },
      "source": [
        "qda_train, qda_test = get_stack_pred(sdss_qda)"
      ],
      "execution_count": 0,
      "outputs": []
    },
    {
      "cell_type": "code",
      "metadata": {
        "id": "05vzPbSSSGQv",
        "colab_type": "code",
        "colab": {}
      },
      "source": [
        "from sklearn.metrics import confusion_matrix\n",
        "cm_qda = confusion_matrix(Y_test, qda_test)\n",
        "print(cm_qda)"
      ],
      "execution_count": 0,
      "outputs": []
    },
    {
      "cell_type": "code",
      "metadata": {
        "id": "flEzFdFaEl_E",
        "colab_type": "code",
        "colab": {}
      },
      "source": [
        "#Plotting confusion matrix for QDA\n",
        "df_qda_cm = pd.DataFrame(cm_qda,index=['Galaxy','Quasar','Star'],\n",
        "                  columns = ['Galaxy','Quasar','Star'])\n",
        "sb.heatmap(df_qda_cm, annot=True,fmt=\"g\",cmap=\"Blues\")"
      ],
      "execution_count": 0,
      "outputs": []
    },
    {
      "cell_type": "code",
      "metadata": {
        "id": "SLxKfVD6Ewt8",
        "colab_type": "code",
        "colab": {}
      },
      "source": [
        "print(classification_report(Y_test, qda_test))"
      ],
      "execution_count": 0,
      "outputs": []
    },
    {
      "cell_type": "markdown",
      "metadata": {
        "id": "xKVsZ-zpJqBY",
        "colab_type": "text"
      },
      "source": [
        "**Binomial Test**"
      ]
    },
    {
      "cell_type": "code",
      "metadata": {
        "id": "V_ayMwkkNFRZ",
        "colab_type": "code",
        "colab": {}
      },
      "source": [
        "stats.binom_test(58092, n=60615, p=0.956, alternative=\"greater\")"
      ],
      "execution_count": 0,
      "outputs": []
    },
    {
      "cell_type": "code",
      "metadata": {
        "id": "YwIwdd62Nfds",
        "colab_type": "code",
        "colab": {}
      },
      "source": [
        "stats.binom_test(58092, n=60615, p=0.957)"
      ],
      "execution_count": 0,
      "outputs": []
    },
    {
      "cell_type": "code",
      "metadata": {
        "id": "QXM54SmkTfpE",
        "colab_type": "code",
        "colab": {}
      },
      "source": [
        "y1_test = np.asarray(Y_test)\n",
        "sdss_qda.fit(X_train,Y_train)\n",
        "misclassified = np.where(y1_test != sdss_qda.predict(X_test))"
      ],
      "execution_count": 0,
      "outputs": []
    },
    {
      "cell_type": "code",
      "metadata": {
        "id": "iKIekbgqV_no",
        "colab_type": "code",
        "colab": {}
      },
      "source": [
        "X_test[misclassified]"
      ],
      "execution_count": 0,
      "outputs": []
    },
    {
      "cell_type": "markdown",
      "metadata": {
        "id": "bx5Iug1d0FpZ",
        "colab_type": "text"
      },
      "source": [
        "**XGBoost**"
      ]
    },
    {
      "cell_type": "code",
      "metadata": {
        "id": "55uy1oEj0Hda",
        "colab_type": "code",
        "colab": {}
      },
      "source": [
        "xgb_model = XGBClassifier(objective=\"multi:softprob\", random_state=18120199,n_estimators=30,n_jobs=-1,learning_rate=0.2,max_depth=10,scale_pos_weight=1,subsample=0.6,gamma=0.001,reg_alpha=0.005,min_child_weight=89)"
      ],
      "execution_count": 0,
      "outputs": []
    },
    {
      "cell_type": "code",
      "metadata": {
        "id": "K6nByQh651Vj",
        "colab_type": "code",
        "colab": {}
      },
      "source": [
        "xgb_model_1=XGBClassifier(objective=\"multi:softprob\",learning_rate=0.00331,colsample_bylevel=0.6097,colsample_bynode=1,colsample_bytree=0.735,gamma=4.117,max_delta_step=0,max_depth=6,min_child_weight=89,n_estimators=5000, reg_alpha=0.169,subsample=0.602,reg_lambda=3.06,scale_pos_weight=1)"
      ],
      "execution_count": 0,
      "outputs": []
    },
    {
      "cell_type": "code",
      "metadata": {
        "id": "U3miK7Pi0P9y",
        "colab_type": "code",
        "colab": {}
      },
      "source": [
        "start=time.time()\n",
        "xgb_train, xgb_test = get_stack_pred(xgb_model)\n",
        "end=time.time()"
      ],
      "execution_count": 0,
      "outputs": []
    },
    {
      "cell_type": "code",
      "metadata": {
        "id": "zZOiCpWZOtV_",
        "colab_type": "code",
        "colab": {}
      },
      "source": [
        "xgb_time=end-start\n",
        "print(xgb_time)"
      ],
      "execution_count": 0,
      "outputs": []
    },
    {
      "cell_type": "code",
      "metadata": {
        "id": "nE-0BW6nOajA",
        "colab_type": "code",
        "colab": {}
      },
      "source": [
        "from sklearn.metrics import confusion_matrix\n",
        "cm_xgb = confusion_matrix(Y_test, xgb_test)\n",
        "print(cm_xgb)"
      ],
      "execution_count": 0,
      "outputs": []
    },
    {
      "cell_type": "code",
      "metadata": {
        "id": "zVQaAkSbH4jQ",
        "colab_type": "code",
        "colab": {}
      },
      "source": [
        "df_xgb_cm = pd.DataFrame(cm_xgb,index=['Galaxy','Quasar','Star'],\n",
        "                  columns = ['Galaxy','Quasar','Star'])\n",
        "sb.heatmap(df_xgb_cm, annot=True,fmt=\"g\",cmap=\"Blues\")"
      ],
      "execution_count": 0,
      "outputs": []
    },
    {
      "cell_type": "code",
      "metadata": {
        "id": "WcSuRmIHjGPS",
        "colab_type": "code",
        "colab": {}
      },
      "source": [
        "\n",
        "print(classification_report(Y_test, xgb_test))"
      ],
      "execution_count": 0,
      "outputs": []
    },
    {
      "cell_type": "markdown",
      "metadata": {
        "id": "kM10COEkJwbJ",
        "colab_type": "text"
      },
      "source": [
        "**Binomial Test**"
      ]
    },
    {
      "cell_type": "code",
      "metadata": {
        "id": "s3A6cdbPN5uA",
        "colab_type": "code",
        "colab": {}
      },
      "source": [
        "stats.binom_test(59056, n=60615, p=0.973, alternative=\"greater\") "
      ],
      "execution_count": 0,
      "outputs": []
    },
    {
      "cell_type": "code",
      "metadata": {
        "id": "dhEaGe4kOnFe",
        "colab_type": "code",
        "colab": {}
      },
      "source": [
        "stats.binom_test(59056, n=60615, p=0.974)"
      ],
      "execution_count": 0,
      "outputs": []
    },
    {
      "cell_type": "markdown",
      "metadata": {
        "id": "pmJScZFF7zHX",
        "colab_type": "text"
      },
      "source": [
        "**SVM**"
      ]
    },
    {
      "cell_type": "code",
      "metadata": {
        "id": "pXS5Z3G770vW",
        "colab_type": "code",
        "colab": {}
      },
      "source": [
        "sdss_svm = svm.SVC(gamma=0.4, decision_function_shape='ovr',shrinking=True,kernel='rbf',C=7.64)"
      ],
      "execution_count": 0,
      "outputs": []
    },
    {
      "cell_type": "code",
      "metadata": {
        "id": "XtJ9CsbGVokI",
        "colab_type": "code",
        "colab": {}
      },
      "source": [
        "start_svm=time.time()\n",
        "svm_train, svm_test = get_stack_pred(sdss_svm)\n",
        "end_svm=time.time()"
      ],
      "execution_count": 0,
      "outputs": []
    },
    {
      "cell_type": "code",
      "metadata": {
        "id": "uMqvYzvyyPJg",
        "colab_type": "code",
        "colab": {}
      },
      "source": [
        "time=start_svm"
      ],
      "execution_count": 0,
      "outputs": []
    },
    {
      "cell_type": "code",
      "metadata": {
        "id": "dU3N66EgvAiz",
        "colab_type": "code",
        "colab": {}
      },
      "source": [
        "from sklearn.metrics import confusion_matrix\n",
        "cm_svm = confusion_matrix(Y_test, svm_test)\n",
        "print(cm_svm)"
      ],
      "execution_count": 0,
      "outputs": []
    },
    {
      "cell_type": "code",
      "metadata": {
        "id": "DmTJvMpLjIki",
        "colab_type": "code",
        "colab": {}
      },
      "source": [
        "df_svm_cm = pd.DataFrame(cm_svm,index=['Galaxy','Quasar','Star'],\n",
        "                  columns = ['Galaxy','Quasar','Star'])\n",
        "sb.heatmap(df_svm_cm, annot=True,fmt=\"g\",cmap=\"Blues\")"
      ],
      "execution_count": 0,
      "outputs": []
    },
    {
      "cell_type": "code",
      "metadata": {
        "id": "b1-xejcF4wbT",
        "colab_type": "code",
        "colab": {}
      },
      "source": [
        "print(classification_report(Y_test, svm_test))"
      ],
      "execution_count": 0,
      "outputs": []
    },
    {
      "cell_type": "markdown",
      "metadata": {
        "id": "TAoTPcuVJ3F1",
        "colab_type": "text"
      },
      "source": [
        "**Binomial Test**"
      ]
    },
    {
      "cell_type": "code",
      "metadata": {
        "id": "bLuIy33bPHvm",
        "colab_type": "code",
        "colab": {}
      },
      "source": [
        "stats.binom_test(58949, n=60615, p=0.971, alternative=\"greater\")"
      ],
      "execution_count": 0,
      "outputs": []
    },
    {
      "cell_type": "code",
      "metadata": {
        "id": "h2qOMJotSWIi",
        "colab_type": "code",
        "colab": {}
      },
      "source": [
        "stats.binom_test(58949, n=60615, p=0.972)"
      ],
      "execution_count": 0,
      "outputs": []
    },
    {
      "cell_type": "markdown",
      "metadata": {
        "id": "f0JncxzouyJE",
        "colab_type": "text"
      },
      "source": [
        "**Cochrans Q statistical test to test if the output of the base learners are uncorrelated** "
      ]
    },
    {
      "cell_type": "code",
      "metadata": {
        "id": "LbEKFFc00Kx6",
        "colab_type": "code",
        "colab": {}
      },
      "source": [
        "!pip install mlxtend "
      ],
      "execution_count": 0,
      "outputs": []
    },
    {
      "cell_type": "code",
      "metadata": {
        "id": "wBCsSlQMIRBW",
        "colab_type": "code",
        "colab": {}
      },
      "source": [
        "nn_f=nn_test.flatten('F')\n",
        "et_f=et_test.flatten('F')\n",
        "qda_f=qda_test.flatten('F')\n",
        "xgb_f=xgb_test.flatten('F')\n",
        "svm_f=svm_test.flatten('F')"
      ],
      "execution_count": 0,
      "outputs": []
    },
    {
      "cell_type": "code",
      "metadata": {
        "id": "Mxnx1tKHIhDd",
        "colab_type": "code",
        "colab": {}
      },
      "source": [
        "print(nn_test_f)"
      ],
      "execution_count": 0,
      "outputs": []
    },
    {
      "cell_type": "code",
      "metadata": {
        "id": "KRRXAe0TvMXX",
        "colab_type": "code",
        "colab": {}
      },
      "source": [
        "from mlxtend.evaluate import cochrans_q"
      ],
      "execution_count": 0,
      "outputs": []
    },
    {
      "cell_type": "code",
      "metadata": {
        "id": "Ic8QQtJI0PGI",
        "colab_type": "code",
        "colab": {}
      },
      "source": [
        "chi_square, pvalue = cochrans_q(nn_f,et_f,qda_f,xgb_f,svm_f)\n",
        "print('Chisquare value: %.3f' % chi_square)\n",
        "print('pvalue: %f' % pvalue)"
      ],
      "execution_count": 0,
      "outputs": []
    },
    {
      "cell_type": "markdown",
      "metadata": {
        "id": "HuCVhoEvsjt2",
        "colab_type": "text"
      },
      "source": [
        "**Kruskal Wallice H test**"
      ]
    },
    {
      "cell_type": "code",
      "metadata": {
        "id": "tf8psjY9ss-c",
        "colab_type": "code",
        "colab": {}
      },
      "source": [
        "from scipy import stats"
      ],
      "execution_count": 0,
      "outputs": []
    },
    {
      "cell_type": "code",
      "metadata": {
        "id": "KCgTpCXTs6YQ",
        "colab_type": "code",
        "colab": {}
      },
      "source": [
        "stats.kruskal(nn_test,qda_test,svm_test,xgb_test,et_test)"
      ],
      "execution_count": 0,
      "outputs": []
    },
    {
      "cell_type": "markdown",
      "metadata": {
        "id": "MCSf9ytUsaI7",
        "colab_type": "text"
      },
      "source": [
        "**Wilcoxon sign rank test**"
      ]
    },
    {
      "cell_type": "code",
      "metadata": {
        "id": "_KoPIO_BPWZq",
        "colab_type": "code",
        "colab": {}
      },
      "source": [
        "#prediction result arrays need to be flattened before conducting tests on them \n",
        "nn_f=nn_test.flatten('F')\n",
        "et_f=et_test.flatten('F')\n",
        "qda_f=qda_test.flatten('F')\n",
        "xgb_f=xgb_test.flatten('F')\n",
        "svm_f=svm_test.flatten('F')"
      ],
      "execution_count": 0,
      "outputs": []
    },
    {
      "cell_type": "code",
      "metadata": {
        "id": "EXGf7O09KoJx",
        "colab_type": "code",
        "colab": {}
      },
      "source": [
        "#Wilcoxon signed rank test between Neural Network and Extra trees\n",
        "from scipy.stats import wilcoxon\n",
        "wilcox_rank_nn_et, pvalue_nn_et = wilcoxon(nn_f,et_f)\n",
        "print(wilcox_rank_nn_et)\n",
        "print(pvalue_nn_et)"
      ],
      "execution_count": 0,
      "outputs": []
    },
    {
      "cell_type": "code",
      "metadata": {
        "id": "LEc10sduLKS2",
        "colab_type": "code",
        "colab": {}
      },
      "source": [
        "#Wilcoxon signed rank test between Neural Network and SVM\n",
        "wilcox_rank_nn_svm, pvalue_nn_svm = wilcoxon(nn_f,svm_f)\n",
        "print(wilcox_rank_nn_svm)\n",
        "print(pvalue_nn_svm)"
      ],
      "execution_count": 0,
      "outputs": []
    },
    {
      "cell_type": "code",
      "metadata": {
        "id": "0BO7B28NP1eU",
        "colab_type": "code",
        "colab": {}
      },
      "source": [
        "#Wilcoxon signed rank test between Neural Network and QDA\n",
        "wilcox_rank_nn_qda, pvalue_nn_qda = wilcoxon(nn_f,qda_f)\n",
        "print(wilcox_rank_nn_qda)\n",
        "print(pvalue_nn_qda)"
      ],
      "execution_count": 0,
      "outputs": []
    },
    {
      "cell_type": "code",
      "metadata": {
        "id": "lWgHwaTtQJeB",
        "colab_type": "code",
        "colab": {}
      },
      "source": [
        "#Wilcoxon signed rank test between Neural Network and XGBoost\n",
        "wilcox_rank_nn_xgb, pvalue_nn_xgb = wilcoxon(nn_f,xgb_f)\n",
        "print(wilcox_rank_nn_xgb)\n",
        "print(pvalue_nn_xgb)"
      ],
      "execution_count": 0,
      "outputs": []
    },
    {
      "cell_type": "code",
      "metadata": {
        "id": "0N_x-GgEQgmA",
        "colab_type": "code",
        "colab": {}
      },
      "source": [
        "#Wilcoxon signed rank test between Extra trees and QDA\n",
        "wilcox_rank_et_qda, pvalue_et_qda = wilcoxon(qda_f,et_f)\n",
        "print(wilcox_rank_et_qda)\n",
        "print(pvalue_et_qda)"
      ],
      "execution_count": 0,
      "outputs": []
    },
    {
      "cell_type": "code",
      "metadata": {
        "id": "q1GMK9HcQ32c",
        "colab_type": "code",
        "colab": {}
      },
      "source": [
        "#Wilcoxon signed rank test between Extra trees and XGB\n",
        "wilcox_rank_et_xgb, pvalue_et_xgb = wilcoxon(xgb_f,et_f)\n",
        "print(wilcox_rank_et_xgb)\n",
        "print(pvalue_et_xgb)"
      ],
      "execution_count": 0,
      "outputs": []
    },
    {
      "cell_type": "code",
      "metadata": {
        "id": "X5TKACGVRLOX",
        "colab_type": "code",
        "colab": {}
      },
      "source": [
        "#Wilcoxon signed rank test between Extra trees and SVM\n",
        "wilcox_rank_et_svm, pvalue_et_svm = wilcoxon(svm_f,et_f)\n",
        "print(wilcox_rank_et_svm)\n",
        "print(pvalue_et_svm)"
      ],
      "execution_count": 0,
      "outputs": []
    },
    {
      "cell_type": "code",
      "metadata": {
        "id": "8lPbXPHSSKbW",
        "colab_type": "code",
        "colab": {}
      },
      "source": [
        "#Wilcoxon signed rank test between XGB and SVM\n",
        "wilcox_rank_xgb_svm, pvalue_xgb_svm = wilcoxon(xgb_f,svm_f)\n",
        "print(wilcox_rank_xgb_svm)\n",
        "print(pvalue_xgb_svm)"
      ],
      "execution_count": 0,
      "outputs": []
    },
    {
      "cell_type": "code",
      "metadata": {
        "id": "Sh17tX8WS0ye",
        "colab_type": "code",
        "colab": {}
      },
      "source": [
        "#Wilcoxon signed rank test between XGB and QDA\n",
        "wilcox_rank_xgb_qda, pvalue_xgb_qda = wilcoxon(xgb_f,qda_f)\n",
        "print(wilcox_rank_xgb_qda)\n",
        "print(pvalue_xgb_qda)"
      ],
      "execution_count": 0,
      "outputs": []
    },
    {
      "cell_type": "code",
      "metadata": {
        "id": "4O2rjljQTF8k",
        "colab_type": "code",
        "colab": {}
      },
      "source": [
        "#Wilcoxon signed rank test between SVM and QDA\n",
        "wilcox_rank_svm_qda, pvalue_svm_qda = wilcoxon(svm_f,qda_f)\n",
        "print(wilcox_rank_svm_qda)\n",
        "print(pvalue_svm_qda)"
      ],
      "execution_count": 0,
      "outputs": []
    },
    {
      "cell_type": "markdown",
      "metadata": {
        "id": "7FbERpR06zs9",
        "colab_type": "text"
      },
      "source": [
        "**Combining Classifiers**"
      ]
    },
    {
      "cell_type": "code",
      "metadata": {
        "id": "dwd2iNwt63NN",
        "colab_type": "code",
        "colab": {}
      },
      "source": [
        "train_meta=np.concatenate((nn_train,et_train,qda_train,xgb_train,svm_train,),axis=1)\n",
        "test_meta=np.concatenate((nn_test,et_test,qda_test,xgb_test,svm_test),axis=1)"
      ],
      "execution_count": 0,
      "outputs": []
    },
    {
      "cell_type": "code",
      "metadata": {
        "id": "bW5u15mD_9u9",
        "colab_type": "code",
        "colab": {}
      },
      "source": [
        "train_meta.shape"
      ],
      "execution_count": 0,
      "outputs": []
    },
    {
      "cell_type": "code",
      "metadata": {
        "id": "fh1Bf4JSAdMk",
        "colab_type": "code",
        "colab": {}
      },
      "source": [
        "X_train.shape"
      ],
      "execution_count": 0,
      "outputs": []
    },
    {
      "cell_type": "code",
      "metadata": {
        "id": "t393Y--SAIoA",
        "colab_type": "code",
        "colab": {}
      },
      "source": [
        "Y_train.shape"
      ],
      "execution_count": 0,
      "outputs": []
    },
    {
      "cell_type": "code",
      "metadata": {
        "id": "ntaZDIBtAjvs",
        "colab_type": "code",
        "colab": {}
      },
      "source": [
        "test_meta.shape"
      ],
      "execution_count": 0,
      "outputs": []
    },
    {
      "cell_type": "code",
      "metadata": {
        "id": "mb7UoUNvAmUs",
        "colab_type": "code",
        "colab": {}
      },
      "source": [
        "Y_test.shape"
      ],
      "execution_count": 0,
      "outputs": []
    },
    {
      "cell_type": "markdown",
      "metadata": {
        "id": "kJoMUpPD7PVT",
        "colab_type": "text"
      },
      "source": [
        "**Perceptron as Meta-Learner**"
      ]
    },
    {
      "cell_type": "code",
      "metadata": {
        "id": "ai5pZU4l8k3A",
        "colab_type": "code",
        "colab": {}
      },
      "source": [
        "from sklearn.linear_model import Perceptron"
      ],
      "execution_count": 0,
      "outputs": []
    },
    {
      "cell_type": "code",
      "metadata": {
        "id": "RdPX6dK-7Vze",
        "colab_type": "code",
        "colab": {}
      },
      "source": [
        "single_percep = Perceptron(tol=1e-3, random_state=0)\n",
        "single_percep.fit(train_meta,Y_train)"
      ],
      "execution_count": 0,
      "outputs": []
    },
    {
      "cell_type": "code",
      "metadata": {
        "id": "3_kC5XS09WLE",
        "colab_type": "code",
        "colab": {}
      },
      "source": [
        "single_percep.score(test_meta,Y_test)"
      ],
      "execution_count": 0,
      "outputs": []
    },
    {
      "cell_type": "code",
      "metadata": {
        "id": "404Aw12wMNRi",
        "colab_type": "code",
        "colab": {}
      },
      "source": [
        "print(Y_train)"
      ],
      "execution_count": 0,
      "outputs": []
    },
    {
      "cell_type": "markdown",
      "metadata": {
        "id": "hkhJVtvwz_yt",
        "colab_type": "text"
      },
      "source": [
        "**Meta Learner Optimization**"
      ]
    },
    {
      "cell_type": "markdown",
      "metadata": {
        "id": "YiNxvWDn0ZeQ",
        "colab_type": "text"
      },
      "source": [
        "**Saving Files to be upladed to Git as the Optimization function does not accept values out of the data function**"
      ]
    },
    {
      "cell_type": "code",
      "metadata": {
        "id": "71mbjnaHQfin",
        "colab_type": "code",
        "colab": {}
      },
      "source": [
        "from google.colab import files"
      ],
      "execution_count": 0,
      "outputs": []
    },
    {
      "cell_type": "code",
      "metadata": {
        "id": "R9ChTxuF-jQ7",
        "colab_type": "code",
        "colab": {}
      },
      "source": [
        "col=['nn','et','qda','xgb','svm']"
      ],
      "execution_count": 0,
      "outputs": []
    },
    {
      "cell_type": "code",
      "metadata": {
        "id": "Evtb2f9xu8hv",
        "colab_type": "code",
        "colab": {}
      },
      "source": [
        "train_meta_pd=pd.DataFrame(train_meta,columns=col)\n",
        "test_meta_pd=pd.DataFrame(test_meta,columns=col)\n",
        "Y_train_pd=pd.DataFrame(Y_train)\n",
        "Y_test_pd=pd.DataFrame(Y_test)"
      ],
      "execution_count": 0,
      "outputs": []
    },
    {
      "cell_type": "code",
      "metadata": {
        "id": "TNvW3UH0vxSg",
        "colab_type": "code",
        "colab": {}
      },
      "source": [
        "train_meta_pd.to_csv('train_metapd.csv',index = False)\n",
        "test_meta_pd.to_csv('test_metapd.csv',index = False)\n",
        "Y_train_pd.to_csv('ytrainpd.csv',index = False)\n",
        "Y_test_pd.to_csv('ytestpd.csv',index = False)"
      ],
      "execution_count": 0,
      "outputs": []
    },
    {
      "cell_type": "code",
      "metadata": {
        "id": "QpUnC4kOwGGu",
        "colab_type": "code",
        "colab": {}
      },
      "source": [
        "files.download('train_metapd.csv')"
      ],
      "execution_count": 0,
      "outputs": []
    },
    {
      "cell_type": "code",
      "metadata": {
        "id": "jSZPLsj6zpRy",
        "colab_type": "code",
        "colab": {}
      },
      "source": [
        "files.download('test_metapd.csv')"
      ],
      "execution_count": 0,
      "outputs": []
    },
    {
      "cell_type": "code",
      "metadata": {
        "id": "ybfHnS7mzyad",
        "colab_type": "code",
        "colab": {}
      },
      "source": [
        "files.download('ytrainpd.csv')"
      ],
      "execution_count": 0,
      "outputs": []
    },
    {
      "cell_type": "code",
      "metadata": {
        "id": "mxO_mHBDz5lS",
        "colab_type": "code",
        "colab": {}
      },
      "source": [
        "files.download('ytestpd.csv')"
      ],
      "execution_count": 0,
      "outputs": []
    },
    {
      "cell_type": "markdown",
      "metadata": {
        "id": "fPWwe71Cvq1u",
        "colab_type": "text"
      },
      "source": [
        "**Optimizing the Meta learner using Bayesian Optimiztion**"
      ]
    },
    {
      "cell_type": "code",
      "metadata": {
        "id": "NLcJUO7dFLFA",
        "colab_type": "code",
        "colab": {}
      },
      "source": [
        "!pip install hyperas\n",
        "!pip install hyperopt"
      ],
      "execution_count": 0,
      "outputs": []
    },
    {
      "cell_type": "code",
      "metadata": {
        "id": "p1OhCmrFGIzY",
        "colab_type": "code",
        "outputId": "55dbfb1d-c9a4-43bc-9e26-3d6c5b5732e8",
        "colab": {
          "base_uri": "https://localhost:8080/",
          "height": 35
        }
      },
      "source": [
        "from hyperopt import Trials, STATUS_OK, tpe\n",
        "from hyperas import optim\n",
        "from hyperas.distributions import choice, uniform\n",
        "from keras import utils as cat_utils"
      ],
      "execution_count": 0,
      "outputs": [
        {
          "output_type": "stream",
          "text": [
            "Using TensorFlow backend.\n"
          ],
          "name": "stderr"
        }
      ]
    },
    {
      "cell_type": "code",
      "metadata": {
        "id": "M8hSGAnI0D8j",
        "colab_type": "code",
        "colab": {}
      },
      "source": [
        "def meta_opt_data():\n",
        "    import keras\n",
        "    from keras import utils as cat_utils\n",
        "    from sklearn.preprocessing import LabelEncoder, PowerTransformer\n",
        "    from keras.models import Sequential\n",
        "    import time\n",
        "    from keras.layers import Dense\n",
        "    from keras.layers import Dropout\n",
        "    from keras.layers import Activation\n",
        "    import pandas as pd\n",
        "    #importing files from my github repository for optimizing the meta learner\n",
        "    train_meta = 'https://raw.githubusercontent.com/rohandongare-nci/18120199-Data/master/New-Base-learner-data/train_meta_base_op.csv'\n",
        "    y_train='https://raw.githubusercontent.com/rohandongare-nci/18120199-Data/master/New-Base-learner-data/y_train.csv'\n",
        "    test_meta='https://raw.githubusercontent.com/rohandongare-nci/18120199-Data/master/New-Base-learner-data/test_meta_base_op.csv'\n",
        "    y_test='https://raw.githubusercontent.com/rohandongare-nci/18120199-Data/master/New-Base-learner-data/y_test.csv'\n",
        "    xtrain = pd.read_csv(train_meta)\n",
        "    ytrain=pd.read_csv(y_train)\n",
        "    xval=pd.read_csv(test_meta)\n",
        "    yval=pd.read_csv(y_test)\n",
        "    ytrain = cat_utils.to_categorical(ytrain, 3)\n",
        "    yval = cat_utils.to_categorical(yval, 3)\n",
        "    return xtrain, ytrain, xval, yval"
      ],
      "execution_count": 0,
      "outputs": []
    },
    {
      "cell_type": "code",
      "metadata": {
        "id": "m1No1Kg7K3yd",
        "colab_type": "code",
        "colab": {}
      },
      "source": [
        "def stack_opt_model(xtrain, ytrain, xval, yval):\n",
        "    model_meta_opt = Sequential()\n",
        "    model_meta_opt.add(Dense({{choice([64,128,256,512,1028])}}, input_shape=(5,)))\n",
        "    model_meta_opt.add(Activation({{choice(['relu', 'sigmoid','tanh'])}}))\n",
        "    model_meta_opt.add(Dropout({{uniform(0, 1)}}))\n",
        "    if {{choice(['one', 'two'])}} == 'two':\n",
        "      model_meta_opt.add(Dense({{choice([64,128,256,512,1028])}}))\n",
        "      model_meta_opt.add(Activation({{choice(['relu', 'sigmoid','tanh'])}}))\n",
        "      model_meta_opt.add(Dropout({{uniform(0, 1)}}))\n",
        "    model_meta_opt.add(Dense(3))\n",
        "    model_meta_opt.add(Activation('softmax'))\n",
        "    model_meta_opt.compile(loss='categorical_crossentropy',\n",
        "                  optimizer={{choice(['rmsprop', 'adam', 'sgd'])}},\n",
        "                  metrics=['accuracy'])\n",
        "    model_meta_opt.fit(xtrain, ytrain,\n",
        "              batch_size={{choice([150,300])}},\n",
        "              nb_epoch=20,\n",
        "              verbose=1,\n",
        "              validation_data=(xval, yval))\n",
        "    meta_score, meta_acc = model_meta_opt.evaluate(xval, yval, verbose=1)\n",
        "    print('Test accuracy:', meta_acc)\n",
        "    return {'loss': -meta_acc, 'status': STATUS_OK, 'model': model_meta_opt}"
      ],
      "execution_count": 0,
      "outputs": []
    },
    {
      "cell_type": "code",
      "metadata": {
        "id": "iDB2ZSa5RuZu",
        "colab_type": "code",
        "colab": {}
      },
      "source": [
        "from google.colab import files\n",
        "uploaded = files.upload()"
      ],
      "execution_count": 0,
      "outputs": []
    },
    {
      "cell_type": "code",
      "metadata": {
        "id": "VSHaHk5_ekbe",
        "colab_type": "code",
        "colab": {}
      },
      "source": [
        "#xtrain, ytrain, xval, yval = get_data()\n",
        "best_meta_run, best_meta_model = optim.minimize(stack_opt_model,\n",
        "                                      data=meta_opt_data,\n",
        "                                      algo=tpe.suggest,\n",
        "                                      max_evals=30,\n",
        "                                      trials=Trials(),\n",
        "                                      notebook_name='optimize_meta_learner')"
      ],
      "execution_count": 0,
      "outputs": []
    },
    {
      "cell_type": "code",
      "metadata": {
        "id": "LneZY_760L3r",
        "colab_type": "code",
        "colab": {}
      },
      "source": [
        "print(best_meta_run)"
      ],
      "execution_count": 0,
      "outputs": []
    },
    {
      "cell_type": "code",
      "metadata": {
        "id": "HCOW-8NvofYS",
        "colab_type": "code",
        "colab": {}
      },
      "source": [
        "best_meta_model"
      ],
      "execution_count": 0,
      "outputs": []
    }
  ]
}