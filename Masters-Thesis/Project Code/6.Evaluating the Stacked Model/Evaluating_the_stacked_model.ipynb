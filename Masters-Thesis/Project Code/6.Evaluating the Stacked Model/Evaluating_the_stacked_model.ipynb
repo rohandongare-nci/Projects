{
  "nbformat": 4,
  "nbformat_minor": 0,
  "metadata": {
    "colab": {
      "name": "Evaluating_the_stacked_model.ipynb",
      "version": "0.3.2",
      "provenance": [],
      "collapsed_sections": []
    },
    "kernelspec": {
      "name": "python3",
      "display_name": "Python 3"
    },
    "accelerator": "GPU"
  },
  "cells": [
    {
      "cell_type": "code",
      "metadata": {
        "colab_type": "code",
        "id": "ZbydWr1rJ8mg",
        "colab": {}
      },
      "source": [
        "from sklearn.metrics import accuracy_score\n",
        "from sklearn.preprocessing import LabelEncoder, MinMaxScaler, StandardScaler, RobustScaler, PowerTransformer\n",
        "from sklearn.metrics import classification_report\n",
        "from sklearn import preprocessing\n",
        "from sklearn.discriminant_analysis import QuadraticDiscriminantAnalysis\n",
        "from sklearn.ensemble import RandomForestClassifier\n",
        "from xgboost import XGBClassifier\n",
        "from sklearn.model_selection import train_test_split\n",
        "import pandas as pd\n",
        "import numpy as np\n",
        "from scipy import stats\n",
        "from keras.models import Sequential\n",
        "from keras.layers import Dense\n",
        "from keras.layers import Dropout\n",
        "from keras.layers import Activation\n",
        "from keras.wrappers.scikit_learn import KerasClassifier\n",
        "from sklearn.model_selection import StratifiedKFold\n",
        "from sklearn import metrics\n",
        "from keras.layers import LeakyReLU\n",
        "from sklearn import svm\n",
        "from keras.utils import to_categorical\n",
        "from keras import optimizers\n",
        "from keras.callbacks import ModelCheckpoint\n",
        "from keras.callbacks import EarlyStopping\n",
        "import seaborn as sb\n",
        "from scipy import stats\n",
        "import time\n",
        "from scipy.stats import wilcoxon\n",
        "from google.colab import files"
      ],
      "execution_count": 0,
      "outputs": []
    },
    {
      "cell_type": "code",
      "metadata": {
        "id": "R68KEJB7sHBb",
        "colab_type": "code",
        "colab": {}
      },
      "source": [
        "pd.show_versions()"
      ],
      "execution_count": 0,
      "outputs": []
    },
    {
      "cell_type": "markdown",
      "metadata": {
        "colab_type": "text",
        "id": "Y6CM_MMVJ8mk"
      },
      "source": [
        "**Fetching Data which will be used for evaluating the base learners and the stacked model**"
      ]
    },
    {
      "cell_type": "code",
      "metadata": {
        "colab_type": "code",
        "id": "_Z42zpvjJ8ml",
        "colab": {}
      },
      "source": [
        "stack_train_test= 'https://raw.githubusercontent.com/rohandongare-nci/18120199-Data/master/Training%20the%20entire%20Stack/Train%20entire%20stack.csv'\n",
        "sdss_stk = pd.read_csv(stack_train_test)"
      ],
      "execution_count": 0,
      "outputs": []
    },
    {
      "cell_type": "markdown",
      "metadata": {
        "colab_type": "text",
        "id": "LkH56O-3J8mo"
      },
      "source": [
        "**NNMF**"
      ]
    },
    {
      "cell_type": "markdown",
      "metadata": {
        "colab_type": "text",
        "id": "-lRo0Gm4J8mo"
      },
      "source": [
        "**For Training and Testing the entire stack**"
      ]
    },
    {
      "cell_type": "code",
      "metadata": {
        "colab_type": "code",
        "id": "dbzTGATxJ8mp",
        "colab": {}
      },
      "source": [
        "sdss=sdss_stk"
      ],
      "execution_count": 0,
      "outputs": []
    },
    {
      "cell_type": "markdown",
      "metadata": {
        "colab_type": "text",
        "id": "HWYyBGmSJ8ms"
      },
      "source": [
        "**Removing camera related and ID values**"
      ]
    },
    {
      "cell_type": "code",
      "metadata": {
        "colab_type": "code",
        "id": "pYB_wGGpJ8mt",
        "colab": {}
      },
      "source": [
        "unwanted_columns = ['camcol','run','rerun','objid','specobjid','field']\n",
        "sdss.drop(unwanted_columns, axis=1, inplace=True)\n",
        "sdss.head()"
      ],
      "execution_count": 0,
      "outputs": []
    },
    {
      "cell_type": "markdown",
      "metadata": {
        "id": "C8pQ23LhCUV1",
        "colab_type": "text"
      },
      "source": [
        "**NMF for photometric data**"
      ]
    },
    {
      "cell_type": "code",
      "metadata": {
        "colab_type": "code",
        "id": "Uw4ABR7nJ8mz",
        "colab": {}
      },
      "source": [
        "sdss_colorbands=sdss[['u','g','r','i','z']]"
      ],
      "execution_count": 0,
      "outputs": []
    },
    {
      "cell_type": "code",
      "metadata": {
        "colab_type": "code",
        "id": "7NDNDOOzJ8m2",
        "colab": {}
      },
      "source": [
        "from sklearn.decomposition import NMF\n",
        "nnmf_model = NMF(n_components=3, init='random', random_state=18120199)"
      ],
      "execution_count": 0,
      "outputs": []
    },
    {
      "cell_type": "code",
      "metadata": {
        "colab_type": "code",
        "id": "sQcYZP-2J8m7",
        "colab": {}
      },
      "source": [
        "nnmf_components = nnmf_model.fit_transform(sdss_colorbands)"
      ],
      "execution_count": 0,
      "outputs": []
    },
    {
      "cell_type": "code",
      "metadata": {
        "colab_type": "code",
        "id": "5CY3VFOZJ8m9",
        "colab": {}
      },
      "source": [
        "#appending nmf components to the SDSS dataframe\n",
        "sdss = pd.concat((sdss, pd.DataFrame(nnmf_components)), axis=1)"
      ],
      "execution_count": 0,
      "outputs": []
    },
    {
      "cell_type": "code",
      "metadata": {
        "colab_type": "code",
        "id": "KJ61X-qoJ8m_",
        "colab": {}
      },
      "source": [
        "sdss.rename({0: 'color_component_1', 1: 'color_component_2', 2: 'color_component_3'}, axis=1, inplace = True)"
      ],
      "execution_count": 0,
      "outputs": []
    },
    {
      "cell_type": "code",
      "metadata": {
        "colab_type": "code",
        "id": "pA5lQkSpJ8nB",
        "colab": {}
      },
      "source": [
        "sdss_colour_c=sdss[['color_component_1','color_component_2','color_component_3']]"
      ],
      "execution_count": 0,
      "outputs": []
    },
    {
      "cell_type": "code",
      "metadata": {
        "colab_type": "code",
        "id": "ysswYDEoJ8nD",
        "colab": {}
      },
      "source": [
        "enc = LabelEncoder()\n",
        "X=sdss[['ra','dec','color_component_1','color_component_2','color_component_3','redshift','fiberid','plate','mjd']]\n",
        "y = enc.fit_transform(sdss['class'])\n",
        "X.head()"
      ],
      "execution_count": 0,
      "outputs": []
    },
    {
      "cell_type": "markdown",
      "metadata": {
        "id": "l8D5cUhDCoNr",
        "colab_type": "text"
      },
      "source": [
        "**Power Transformation using Yeo-Johnson Transformer**"
      ]
    },
    {
      "cell_type": "code",
      "metadata": {
        "colab_type": "code",
        "id": "tnwckAnDJ8nI",
        "colab": {}
      },
      "source": [
        "power_transform_yj = preprocessing.PowerTransformer(method='yeo-johnson', standardize=True)"
      ],
      "execution_count": 0,
      "outputs": []
    },
    {
      "cell_type": "code",
      "metadata": {
        "colab_type": "code",
        "id": "DBMd92O4J8nK",
        "colab": {}
      },
      "source": [
        "X=power_transform_yj.fit_transform(X)"
      ],
      "execution_count": 0,
      "outputs": []
    },
    {
      "cell_type": "markdown",
      "metadata": {
        "id": "7bm22GtyCx9j",
        "colab_type": "text"
      },
      "source": [
        "**Data Normalization**"
      ]
    },
    {
      "cell_type": "code",
      "metadata": {
        "id": "yX-iEgJx6D5z",
        "colab_type": "code",
        "colab": {}
      },
      "source": [
        "X= preprocessing.normalize(X, norm='l2')"
      ],
      "execution_count": 0,
      "outputs": []
    },
    {
      "cell_type": "code",
      "metadata": {
        "colab_type": "code",
        "id": "tDBO6IQ_J8nL",
        "colab": {}
      },
      "source": [
        "from collections import Counter\n",
        "Counter(y)"
      ],
      "execution_count": 0,
      "outputs": []
    },
    {
      "cell_type": "markdown",
      "metadata": {
        "id": "9IO8rEiRC9Ph",
        "colab_type": "text"
      },
      "source": [
        "**Undersampling data**"
      ]
    },
    {
      "cell_type": "code",
      "metadata": {
        "colab_type": "code",
        "id": "tIiAdC-0J8nQ",
        "colab": {}
      },
      "source": [
        "from imblearn.under_sampling import RandomUnderSampler"
      ],
      "execution_count": 0,
      "outputs": []
    },
    {
      "cell_type": "code",
      "metadata": {
        "colab_type": "code",
        "id": "tyDcBdpvJ8nT",
        "colab": {}
      },
      "source": [
        "undersampler = RandomUnderSampler(random_state=18120199,replacement=False)\n",
        "X_under, y_under = undersampler.fit_resample(X, y)"
      ],
      "execution_count": 0,
      "outputs": []
    },
    {
      "cell_type": "code",
      "metadata": {
        "colab_type": "code",
        "id": "45i6mDt0J8nU",
        "colab": {}
      },
      "source": [
        "Counter(y_under)"
      ],
      "execution_count": 0,
      "outputs": []
    },
    {
      "cell_type": "code",
      "metadata": {
        "colab_type": "code",
        "id": "2W2qA4GqJ8nY",
        "colab": {}
      },
      "source": [
        "X_train, X_test, Y_train, Y_test = train_test_split(X_under, y_under, test_size = 0.25, random_state = 18120199)"
      ],
      "execution_count": 0,
      "outputs": []
    },
    {
      "cell_type": "markdown",
      "metadata": {
        "id": "_c5CIlnPVftg",
        "colab_type": "text"
      },
      "source": [
        "**Stratified K-Fold**"
      ]
    },
    {
      "cell_type": "code",
      "metadata": {
        "id": "q5Hyd5EpEpY3",
        "colab_type": "code",
        "colab": {}
      },
      "source": [
        "k = 10\n",
        "str_kf = StratifiedKFold(n_splits=k, random_state=18120199, shuffle=False)"
      ],
      "execution_count": 0,
      "outputs": []
    },
    {
      "cell_type": "markdown",
      "metadata": {
        "id": "4PTZWFC5FbCu",
        "colab_type": "text"
      },
      "source": [
        "**Defining a function for stacking the models**"
      ]
    },
    {
      "cell_type": "code",
      "metadata": {
        "id": "dzfkbOJd7mEt",
        "colab_type": "code",
        "colab": {}
      },
      "source": [
        "def get_stack_pred(classifier):\n",
        "  #Initial train-test split- train sample will be used for k-fold, test sample will be used as the holdout set\n",
        "  x_train, x_test, y_train, y_test = train_test_split(X_under, y_under, test_size = 0.25, random_state = 18120199)\n",
        "  #initializing arrays to store predictions\n",
        "  if_test=np.empty((x_train.shape[0],))\n",
        "  oof_kfold = np.empty((k, x_test.shape[0]))\n",
        "  infoldx_train=[]\n",
        "  infoldy_train=[]\n",
        "  infold_test=[]\n",
        "  infoldy_test=[]\n",
        "  #assigning train-test indices for every fold\n",
        "  for j, (train_index, test_index) in enumerate(str_kf.split(x_train, y_train)):\n",
        "    infoldx_train = x_train[train_index]\n",
        "    infoldy_train = y_train[train_index]\n",
        "    infoldx_test   = x_train[test_index]\n",
        "    infoldy_test  = y_train[test_index]\n",
        "    #print(infoldx_test.shape[0])\n",
        "    #training the classifier on the infold train/test set \n",
        "    classifier.fit(infoldx_train,infoldy_train)\n",
        "    #infold test prediction\n",
        "    if_test[test_index]=classifier.predict(infoldx_test)\n",
        "    infold_pred=classifier.predict(infoldx_test)\n",
        "    #Infold classifier performance\n",
        "    infold_accuracy = metrics.accuracy_score(infold_pred, infoldy_test)\n",
        "    print(f\"In Fold classifier accuracy: {infold_accuracy}\")\n",
        "    #holdout fold test prediction\n",
        "    pred2=classifier.predict(x_test)\n",
        "    #holdout set classifier performance\n",
        "    out_of_fold_accuracy = metrics.accuracy_score(pred2,y_test)\n",
        "    print(f\"Out Of Fold accuracy: {out_of_fold_accuracy}\")\n",
        "    #adding predictions of the holdout set for every fold row-wise to an array\n",
        "    oof_kfold[j,:]=classifier.predict(x_test)\n",
        "  #taking mode of the holdout set predictions of each row\n",
        "  mode=stats.mode(oof_kfold,axis=0)\n",
        "  oof_kfold=mode[0]\n",
        "  '''returning transposed columns so that predictions of each base learner \n",
        "  will later after appending them will have its own column'''\n",
        "  return if_test.reshape(-1,1), oof_kfold.reshape(-1,1)"
      ],
      "execution_count": 0,
      "outputs": []
    },
    {
      "cell_type": "markdown",
      "metadata": {
        "id": "qr6mtf3pIvQN",
        "colab_type": "text"
      },
      "source": [
        "**Keras Classifier**"
      ]
    },
    {
      "cell_type": "code",
      "metadata": {
        "id": "X2_SK16dIF6z",
        "colab_type": "code",
        "colab": {}
      },
      "source": [
        "# Function to create model, required for KerasClassifier\n",
        "def base_model():\n",
        "  model_sdss_base = Sequential()\n",
        "  model_sdss_base.add(Dense(1024, input_shape=(9,),kernel_initializer='random_uniform'))\n",
        "  model_sdss_base.add(LeakyReLU(alpha=0.001))\n",
        "  model_sdss_base.add(Dropout(0.2))\n",
        "  model_sdss_base.add(Dense(512))\n",
        "  model_sdss_base.add(LeakyReLU(alpha=0.001))\n",
        "  model_sdss_base.add(Dropout(0.2))\n",
        "  model_sdss_base.add(Dense(512))\n",
        "  model_sdss_base.add(LeakyReLU(alpha=0.001))\n",
        "  model_sdss_base.add(Dropout(0.2))\n",
        "  adamopt=optimizers.Adam(lr=10**-3)\n",
        "  model_sdss_base.add(Dense(3, activation='softmax'))\n",
        "  model_sdss_base.compile(loss='categorical_crossentropy',\n",
        "                    optimizer=adamopt, \n",
        "                    metrics=['accuracy'])\n",
        "  return model_sdss_base"
      ],
      "execution_count": 0,
      "outputs": []
    },
    {
      "cell_type": "code",
      "metadata": {
        "id": "ISL3YyVyJmXo",
        "colab_type": "code",
        "colab": {}
      },
      "source": [
        "nn_els = EarlyStopping(monitor='acc', mode='max', verbose=1, patience=5)\n",
        "nn_mck = ModelCheckpoint('best_observed_model.h5', monitor='acc', mode='max', verbose=1, save_best_only=True)\n",
        "nn_model = KerasClassifier(build_fn=base_model, epochs=50, batch_size=300, verbose=1,callbacks=[nn_els,nn_mck])"
      ],
      "execution_count": 0,
      "outputs": []
    },
    {
      "cell_type": "code",
      "metadata": {
        "id": "mMszA9DqKdT5",
        "colab_type": "code",
        "colab": {}
      },
      "source": [
        "nn_train, nn_test = get_stack_pred(nn_model)"
      ],
      "execution_count": 0,
      "outputs": []
    },
    {
      "cell_type": "code",
      "metadata": {
        "id": "SQA_LjnfEYQL",
        "colab_type": "code",
        "colab": {}
      },
      "source": [
        "!ls"
      ],
      "execution_count": 0,
      "outputs": []
    },
    {
      "cell_type": "code",
      "metadata": {
        "id": "YpJ88rH6EbLn",
        "colab_type": "code",
        "colab": {}
      },
      "source": [
        "#Downloading the best weights\n",
        "from google.colab import files\n",
        "files.download('best_observed_model.h5') "
      ],
      "execution_count": 0,
      "outputs": []
    },
    {
      "cell_type": "code",
      "metadata": {
        "id": "0cu9sjfmuLhI",
        "colab_type": "code",
        "colab": {}
      },
      "source": [
        "class_names = ['Galaxy', 'Quasar', 'Star']"
      ],
      "execution_count": 0,
      "outputs": []
    },
    {
      "cell_type": "code",
      "metadata": {
        "id": "H-SCBrWIv-NQ",
        "colab_type": "code",
        "colab": {}
      },
      "source": [
        "start_nn_base=time.time()\n",
        "nn_train, nn_test = get_stack_pred(nn_model)\n",
        "stop_nn_base=time.time()"
      ],
      "execution_count": 0,
      "outputs": []
    },
    {
      "cell_type": "code",
      "metadata": {
        "id": "A3Wq2NYkoJVM",
        "colab_type": "code",
        "colab": {}
      },
      "source": [
        "from sklearn.metrics import confusion_matrix\n",
        "cm_nn = confusion_matrix(Y_test, nn_test)\n",
        "print(cm_nn)"
      ],
      "execution_count": 0,
      "outputs": []
    },
    {
      "cell_type": "code",
      "metadata": {
        "id": "Z6AxcJ8IuEPd",
        "colab_type": "code",
        "colab": {}
      },
      "source": [
        "print(classification_report(Y_test, nn_test,target_names=class_names))"
      ],
      "execution_count": 0,
      "outputs": []
    },
    {
      "cell_type": "code",
      "metadata": {
        "id": "nzttbYK2PRna",
        "colab_type": "code",
        "colab": {}
      },
      "source": [
        "df_nn_cm = pd.DataFrame(cm_nn,index=['Galaxy','Quasar','Star'],\n",
        "                  columns = ['Galaxy','Quasar','Star'])\n",
        "sb.heatmap(df_nn_cm, annot=True,fmt=\"g\",cmap=\"Blues\")"
      ],
      "execution_count": 0,
      "outputs": []
    },
    {
      "cell_type": "markdown",
      "metadata": {
        "id": "ZMtSK1uOvQeR",
        "colab_type": "text"
      },
      "source": [
        "**Binomial test to check if the output of the base learner was not a result of pure chance**"
      ]
    },
    {
      "cell_type": "code",
      "metadata": {
        "id": "cDHRSXMZL-uU",
        "colab_type": "code",
        "colab": {}
      },
      "source": [
        "stats.binom_test(58870, n=60615, p=0.973)"
      ],
      "execution_count": 0,
      "outputs": []
    },
    {
      "cell_type": "code",
      "metadata": {
        "id": "1mTSRZRO3Umr",
        "colab_type": "code",
        "colab": {}
      },
      "source": [
        "stats.binom_test(58870, n=60615, p=0.97,alternative=\"greater\")"
      ],
      "execution_count": 0,
      "outputs": []
    },
    {
      "cell_type": "markdown",
      "metadata": {
        "id": "5inIRf--ozP-",
        "colab_type": "text"
      },
      "source": [
        "**Extra Tree Classifier**"
      ]
    },
    {
      "cell_type": "code",
      "metadata": {
        "id": "0YquwIw5paXR",
        "colab_type": "code",
        "colab": {}
      },
      "source": [
        "from sklearn.ensemble import ExtraTreesClassifier"
      ],
      "execution_count": 0,
      "outputs": []
    },
    {
      "cell_type": "code",
      "metadata": {
        "id": "zZJcuPZxo31n",
        "colab_type": "code",
        "colab": {}
      },
      "source": [
        "et_base = ExtraTreesClassifier(n_estimators=103,max_features= 0.96,criterion= 'entropy',min_samples_split= 2,max_depth= 50, min_samples_leaf= 1,bootstrap=True)      "
      ],
      "execution_count": 0,
      "outputs": []
    },
    {
      "cell_type": "code",
      "metadata": {
        "id": "WtJ913YWpdAH",
        "colab_type": "code",
        "colab": {}
      },
      "source": [
        "start_et=time.time()\n",
        "et_train, et_test=get_stack_pred(et_base)\n",
        "end_et=time.time()"
      ],
      "execution_count": 0,
      "outputs": []
    },
    {
      "cell_type": "code",
      "metadata": {
        "id": "OLC-wlncNpJQ",
        "colab_type": "code",
        "colab": {}
      },
      "source": [
        "et_time=end_et-start_et\n",
        "print(et_time)"
      ],
      "execution_count": 0,
      "outputs": []
    },
    {
      "cell_type": "code",
      "metadata": {
        "id": "xUFziZsvsb9w",
        "colab_type": "code",
        "colab": {}
      },
      "source": [
        "from sklearn.metrics import confusion_matrix\n",
        "cm_et = confusion_matrix(Y_test, et_test)\n",
        "print(cm_et)"
      ],
      "execution_count": 0,
      "outputs": []
    },
    {
      "cell_type": "code",
      "metadata": {
        "id": "vg4DdzFEEX2T",
        "colab_type": "code",
        "colab": {}
      },
      "source": [
        "df_et_cm = pd.DataFrame(cm_et,index=['Galaxy','Quasar','Star'],\n",
        "                  columns = ['Galaxy','Quasar','Star'])\n",
        "sb.heatmap(df_et_cm, annot=True,fmt=\"g\",cmap=\"Blues\")"
      ],
      "execution_count": 0,
      "outputs": []
    },
    {
      "cell_type": "code",
      "metadata": {
        "id": "AeKhzjd795rO",
        "colab_type": "code",
        "colab": {}
      },
      "source": [
        "class_name = ['Galaxy', 'Quasar', 'Star']\n",
        "print(classification_report(Y_test, et_test,target_names=class_name))"
      ],
      "execution_count": 0,
      "outputs": []
    },
    {
      "cell_type": "code",
      "metadata": {
        "id": "f3AXLG_DGl0O",
        "colab_type": "code",
        "colab": {}
      },
      "source": [
        "#Two-tailed binomial test to check if the results acheived were not due to chance alone\n",
        "stats.binom_test(59034, n=60615, p=0.973)"
      ],
      "execution_count": 0,
      "outputs": []
    },
    {
      "cell_type": "code",
      "metadata": {
        "id": "KMkmaMDbMgFX",
        "colab_type": "code",
        "colab": {}
      },
      "source": [
        "#One-tailed Binomial test \n",
        "stats.binom_test(59034, n=60615, p=0.97, alternative=\"greater\")"
      ],
      "execution_count": 0,
      "outputs": []
    },
    {
      "cell_type": "markdown",
      "metadata": {
        "id": "KirSAW9PxwAZ",
        "colab_type": "text"
      },
      "source": [
        "**Quadratic Discriminant Analysis**"
      ]
    },
    {
      "cell_type": "code",
      "metadata": {
        "id": "RSFV3Vkejgnk",
        "colab_type": "code",
        "colab": {}
      },
      "source": [
        "sdss_qda = QuadraticDiscriminantAnalysis(tol=0.0001,reg_param=0.005)"
      ],
      "execution_count": 0,
      "outputs": []
    },
    {
      "cell_type": "code",
      "metadata": {
        "id": "nhkTbnjF5BRF",
        "colab_type": "code",
        "colab": {}
      },
      "source": [
        "\n",
        "qda_train, qda_test = get_stack_pred(sdss_qda)"
      ],
      "execution_count": 0,
      "outputs": []
    },
    {
      "cell_type": "code",
      "metadata": {
        "id": "05vzPbSSSGQv",
        "colab_type": "code",
        "colab": {}
      },
      "source": [
        "from sklearn.metrics import confusion_matrix\n",
        "cm_qda = confusion_matrix(Y_test, qda_test)\n",
        "print(cm_qda)"
      ],
      "execution_count": 0,
      "outputs": []
    },
    {
      "cell_type": "code",
      "metadata": {
        "id": "flEzFdFaEl_E",
        "colab_type": "code",
        "colab": {}
      },
      "source": [
        "df_qda_cm = pd.DataFrame(cm_qda,index=['Galaxy','Quasar','Star'],\n",
        "                  columns = ['Galaxy','Quasar','Star'])\n",
        "sb.heatmap(df_qda_cm, annot=True,fmt=\"g\",cmap=\"Blues\")"
      ],
      "execution_count": 0,
      "outputs": []
    },
    {
      "cell_type": "code",
      "metadata": {
        "id": "SLxKfVD6Ewt8",
        "colab_type": "code",
        "colab": {}
      },
      "source": [
        "print(classification_report(Y_test, qda_test,target_names=class_names))"
      ],
      "execution_count": 0,
      "outputs": []
    },
    {
      "cell_type": "code",
      "metadata": {
        "id": "9KWDGs68G6As",
        "colab_type": "code",
        "colab": {}
      },
      "source": [
        "#Two-tailed binomial test to check if the results acheived were not due to chance alone\n",
        "stats.binom_test(58092, n=60615, p=0.957)"
      ],
      "execution_count": 0,
      "outputs": []
    },
    {
      "cell_type": "code",
      "metadata": {
        "id": "V_ayMwkkNFRZ",
        "colab_type": "code",
        "colab": {}
      },
      "source": [
        "#One tailed binomial test\n",
        "stats.binom_test(58092, n=60615, p=0.956, alternative=\"greater\")"
      ],
      "execution_count": 0,
      "outputs": []
    },
    {
      "cell_type": "markdown",
      "metadata": {
        "id": "bx5Iug1d0FpZ",
        "colab_type": "text"
      },
      "source": [
        "**XGBoost**"
      ]
    },
    {
      "cell_type": "code",
      "metadata": {
        "id": "55uy1oEj0Hda",
        "colab_type": "code",
        "colab": {}
      },
      "source": [
        "xgb_model = XGBClassifier(objective=\"multi:softprob\", random_state=18120199,n_estimators=30,n_jobs=-1,learning_rate=0.2,max_depth=10,scale_pos_weight=1,subsample=0.6,gamma=0.001,reg_alpha=0.005,min_child_weight=89)"
      ],
      "execution_count": 0,
      "outputs": []
    },
    {
      "cell_type": "code",
      "metadata": {
        "id": "K6nByQh651Vj",
        "colab_type": "code",
        "colab": {}
      },
      "source": [
        "xgb_model_1=XGBClassifier(objective=\"multi:softprob\",learning_rate=0.00331,colsample_bylevel=0.6097,colsample_bynode=1,colsample_bytree=0.735,gamma=4.117,max_delta_step=0,max_depth=6,min_child_weight=89,n_estimators=5000, reg_alpha=0.169,subsample=0.602,reg_lambda=3.06,scale_pos_weight=1)"
      ],
      "execution_count": 0,
      "outputs": []
    },
    {
      "cell_type": "code",
      "metadata": {
        "id": "U3miK7Pi0P9y",
        "colab_type": "code",
        "colab": {}
      },
      "source": [
        "start=time.time()\n",
        "xgb_train, xgb_test = get_stack_pred(xgb_model)\n",
        "end=time.time()"
      ],
      "execution_count": 0,
      "outputs": []
    },
    {
      "cell_type": "code",
      "metadata": {
        "id": "zZOiCpWZOtV_",
        "colab_type": "code",
        "colab": {}
      },
      "source": [
        "xgb_time=end-start\n",
        "print(xgb_time)"
      ],
      "execution_count": 0,
      "outputs": []
    },
    {
      "cell_type": "code",
      "metadata": {
        "id": "nE-0BW6nOajA",
        "colab_type": "code",
        "colab": {}
      },
      "source": [
        "from sklearn.metrics import confusion_matrix\n",
        "cm_xgb = confusion_matrix(Y_test, xgb_test)\n",
        "print(cm_xgb)"
      ],
      "execution_count": 0,
      "outputs": []
    },
    {
      "cell_type": "code",
      "metadata": {
        "id": "zVQaAkSbH4jQ",
        "colab_type": "code",
        "colab": {}
      },
      "source": [
        "df_xgb_cm = pd.DataFrame(cm_xgb,index=['Galaxy','Quasar','Star'],\n",
        "                  columns = ['Galaxy','Quasar','Star'])\n",
        "sb.heatmap(df_xgb_cm, annot=True,fmt=\"g\",cmap=\"Blues\")"
      ],
      "execution_count": 0,
      "outputs": []
    },
    {
      "cell_type": "code",
      "metadata": {
        "id": "WcSuRmIHjGPS",
        "colab_type": "code",
        "colab": {}
      },
      "source": [
        "print(classification_report(Y_test, xgb_test,target_names=class_names))"
      ],
      "execution_count": 0,
      "outputs": []
    },
    {
      "cell_type": "markdown",
      "metadata": {
        "id": "AJmcAPi1I--t",
        "colab_type": "text"
      },
      "source": [
        "**BInomial Test**"
      ]
    },
    {
      "cell_type": "code",
      "metadata": {
        "id": "s3A6cdbPN5uA",
        "colab_type": "code",
        "colab": {}
      },
      "source": [
        "stats.binom_test(59056, n=60615, p=0.973, alternative=\"greater\") "
      ],
      "execution_count": 0,
      "outputs": []
    },
    {
      "cell_type": "code",
      "metadata": {
        "id": "dhEaGe4kOnFe",
        "colab_type": "code",
        "colab": {}
      },
      "source": [
        "stats.binom_test(59056, n=60615, p=0.974)"
      ],
      "execution_count": 0,
      "outputs": []
    },
    {
      "cell_type": "markdown",
      "metadata": {
        "id": "pmJScZFF7zHX",
        "colab_type": "text"
      },
      "source": [
        "**SVM**"
      ]
    },
    {
      "cell_type": "code",
      "metadata": {
        "id": "pXS5Z3G770vW",
        "colab_type": "code",
        "colab": {}
      },
      "source": [
        "sdss_svm = svm.SVC(gamma=0.4, decision_function_shape='ovr',shrinking=True,kernel='rbf',C=7.64)"
      ],
      "execution_count": 0,
      "outputs": []
    },
    {
      "cell_type": "code",
      "metadata": {
        "id": "XtJ9CsbGVokI",
        "colab_type": "code",
        "colab": {}
      },
      "source": [
        "start_svm=time.time()\n",
        "svm_train, svm_test = get_stack_pred(sdss_svm)\n",
        "end_svm=time.time()"
      ],
      "execution_count": 0,
      "outputs": []
    },
    {
      "cell_type": "code",
      "metadata": {
        "id": "8JC3nxjoycuM",
        "colab_type": "code",
        "colab": {}
      },
      "source": [
        "time_svm=end_svm-start_svm"
      ],
      "execution_count": 0,
      "outputs": []
    },
    {
      "cell_type": "code",
      "metadata": {
        "id": "dU3N66EgvAiz",
        "colab_type": "code",
        "colab": {}
      },
      "source": [
        "from sklearn.metrics import confusion_matrix\n",
        "cm_svm = confusion_matrix(Y_test, svm_test)\n",
        "print(cm_svm)"
      ],
      "execution_count": 0,
      "outputs": []
    },
    {
      "cell_type": "code",
      "metadata": {
        "id": "DmTJvMpLjIki",
        "colab_type": "code",
        "colab": {}
      },
      "source": [
        "df_svm_cm = pd.DataFrame(cm_svm,index=['Galaxy','Quasar','Star'],\n",
        "                  columns = ['Galaxy','Quasar','Star'])\n",
        "sb.heatmap(df_svm_cm, annot=True,fmt=\"g\",cmap=\"Blues\")"
      ],
      "execution_count": 0,
      "outputs": []
    },
    {
      "cell_type": "code",
      "metadata": {
        "id": "b1-xejcF4wbT",
        "colab_type": "code",
        "colab": {}
      },
      "source": [
        "print(classification_report(Y_test, svm_test,target_names=class_names))"
      ],
      "execution_count": 0,
      "outputs": []
    },
    {
      "cell_type": "markdown",
      "metadata": {
        "id": "u0BuEal3JEpe",
        "colab_type": "text"
      },
      "source": [
        "**Binomial Test**"
      ]
    },
    {
      "cell_type": "code",
      "metadata": {
        "id": "bLuIy33bPHvm",
        "colab_type": "code",
        "colab": {}
      },
      "source": [
        "stats.binom_test(58949, n=60615, p=0.971, alternative=\"greater\")"
      ],
      "execution_count": 0,
      "outputs": []
    },
    {
      "cell_type": "code",
      "metadata": {
        "id": "h2qOMJotSWIi",
        "colab_type": "code",
        "colab": {}
      },
      "source": [
        "stats.binom_test(58949, n=60615, p=0.972)"
      ],
      "execution_count": 0,
      "outputs": []
    },
    {
      "cell_type": "markdown",
      "metadata": {
        "id": "HuCVhoEvsjt2",
        "colab_type": "text"
      },
      "source": [
        "**Kruskal Wallice H test**"
      ]
    },
    {
      "cell_type": "code",
      "metadata": {
        "id": "tf8psjY9ss-c",
        "colab_type": "code",
        "colab": {}
      },
      "source": [
        "from scipy import stats"
      ],
      "execution_count": 0,
      "outputs": []
    },
    {
      "cell_type": "code",
      "metadata": {
        "id": "KCgTpCXTs6YQ",
        "colab_type": "code",
        "colab": {}
      },
      "source": [
        "stats.kruskal(nn_test,qda_test,svm_test,xgb_test,et_test)"
      ],
      "execution_count": 0,
      "outputs": []
    },
    {
      "cell_type": "markdown",
      "metadata": {
        "id": "MCSf9ytUsaI7",
        "colab_type": "text"
      },
      "source": [
        "**Wilcoxon sign rank test**"
      ]
    },
    {
      "cell_type": "code",
      "metadata": {
        "id": "_KoPIO_BPWZq",
        "colab_type": "code",
        "colab": {}
      },
      "source": [
        "#prediction result arrays need to be flattened before conducting tests on them \n",
        "nn_f=nn_test.flatten('F')\n",
        "et_f=et_test.flatten('F')\n",
        "qda_f=qda_test.flatten('F')\n",
        "xgb_f=xgb_test.flatten('F')\n",
        "svm_f=svm_test.flatten('F')"
      ],
      "execution_count": 0,
      "outputs": []
    },
    {
      "cell_type": "code",
      "metadata": {
        "id": "EXGf7O09KoJx",
        "colab_type": "code",
        "colab": {}
      },
      "source": [
        "#Wilcoxon signed rank test between Neural Network and Extra trees\n",
        "wilcox_rank_nn_et, pvalue_nn_et = wilcoxon(nn_f,et_f)\n",
        "print(wilcox_rank_nn_et)\n",
        "print(pvalue_nn_et)"
      ],
      "execution_count": 0,
      "outputs": []
    },
    {
      "cell_type": "code",
      "metadata": {
        "id": "LEc10sduLKS2",
        "colab_type": "code",
        "colab": {}
      },
      "source": [
        "#Wilcoxon signed rank test between Neural Network and SVM\n",
        "wilcox_rank_nn_svm, pvalue_nn_svm = wilcoxon(nn_f,svm_f)\n",
        "print(wilcox_rank_nn_svm)\n",
        "print(pvalue_nn_svm)"
      ],
      "execution_count": 0,
      "outputs": []
    },
    {
      "cell_type": "code",
      "metadata": {
        "id": "0BO7B28NP1eU",
        "colab_type": "code",
        "colab": {}
      },
      "source": [
        "#Wilcoxon signed rank test between Neural Network and QDA\n",
        "wilcox_rank_nn_qda, pvalue_nn_qda = wilcoxon(nn_f,qda_f)\n",
        "print(wilcox_rank_nn_qda)\n",
        "print(pvalue_nn_qda)"
      ],
      "execution_count": 0,
      "outputs": []
    },
    {
      "cell_type": "code",
      "metadata": {
        "id": "lWgHwaTtQJeB",
        "colab_type": "code",
        "colab": {}
      },
      "source": [
        "#Wilcoxon signed rank test between Neural Network and XGBoost\n",
        "wilcox_rank_nn_xgb, pvalue_nn_xgb = wilcoxon(nn_f,xgb_f)\n",
        "print(wilcox_rank_nn_xgb)\n",
        "print(pvalue_nn_xgb)"
      ],
      "execution_count": 0,
      "outputs": []
    },
    {
      "cell_type": "code",
      "metadata": {
        "id": "0N_x-GgEQgmA",
        "colab_type": "code",
        "colab": {}
      },
      "source": [
        "#Wilcoxon signed rank test between Extra trees and QDA\n",
        "wilcox_rank_et_qda, pvalue_et_qda = wilcoxon(qda_f,et_f)\n",
        "print(wilcox_rank_et_qda)\n",
        "print(pvalue_et_qda)"
      ],
      "execution_count": 0,
      "outputs": []
    },
    {
      "cell_type": "code",
      "metadata": {
        "id": "q1GMK9HcQ32c",
        "colab_type": "code",
        "colab": {}
      },
      "source": [
        "#Wilcoxon signed rank test between Extra trees and XGB\n",
        "wilcox_rank_et_xgb, pvalue_et_xgb = wilcoxon(xgb_f,et_f)\n",
        "print(wilcox_rank_et_xgb)\n",
        "print(pvalue_et_xgb)"
      ],
      "execution_count": 0,
      "outputs": []
    },
    {
      "cell_type": "code",
      "metadata": {
        "id": "X5TKACGVRLOX",
        "colab_type": "code",
        "colab": {}
      },
      "source": [
        "#Wilcoxon signed rank test between Extra trees and SVM\n",
        "wilcox_rank_et_svm, pvalue_et_svm = wilcoxon(svm_f,et_f)\n",
        "print(wilcox_rank_et_svm)\n",
        "print(pvalue_et_svm)"
      ],
      "execution_count": 0,
      "outputs": []
    },
    {
      "cell_type": "code",
      "metadata": {
        "id": "8lPbXPHSSKbW",
        "colab_type": "code",
        "colab": {}
      },
      "source": [
        "#Wilcoxon signed rank test between XGB and SVM\n",
        "wilcox_rank_xgb_svm, pvalue_xgb_svm = wilcoxon(xgb_f,svm_f)\n",
        "print(wilcox_rank_xgb_svm)\n",
        "print(pvalue_xgb_svm)"
      ],
      "execution_count": 0,
      "outputs": []
    },
    {
      "cell_type": "code",
      "metadata": {
        "id": "Sh17tX8WS0ye",
        "colab_type": "code",
        "colab": {}
      },
      "source": [
        "#Wilcoxon signed rank test between XGB and QDA\n",
        "wilcox_rank_xgb_qda, pvalue_xgb_qda = wilcoxon(xgb_f,qda_f)\n",
        "print(wilcox_rank_xgb_qda)\n",
        "print(pvalue_xgb_qda)"
      ],
      "execution_count": 0,
      "outputs": []
    },
    {
      "cell_type": "code",
      "metadata": {
        "id": "4O2rjljQTF8k",
        "colab_type": "code",
        "colab": {}
      },
      "source": [
        "#Wilcoxon signed rank test between SVM and QDA\n",
        "wilcox_rank_svm_qda, pvalue_svm_qda = wilcoxon(svm_f,qda_f)\n",
        "print(wilcox_rank_svm_qda)\n",
        "print(pvalue_svm_qda)"
      ],
      "execution_count": 0,
      "outputs": []
    },
    {
      "cell_type": "markdown",
      "metadata": {
        "id": "7FbERpR06zs9",
        "colab_type": "text"
      },
      "source": [
        "**Combining Classifier Predictions**"
      ]
    },
    {
      "cell_type": "code",
      "metadata": {
        "id": "dwd2iNwt63NN",
        "colab_type": "code",
        "colab": {}
      },
      "source": [
        "train_meta=np.concatenate((nn_train,et_train,qda_train,xgb_train,svm_train,),axis=1)\n",
        "test_meta=np.concatenate((nn_test,et_test,qda_test,xgb_test,svm_test),axis=1)"
      ],
      "execution_count": 0,
      "outputs": []
    },
    {
      "cell_type": "code",
      "metadata": {
        "id": "bW5u15mD_9u9",
        "colab_type": "code",
        "colab": {}
      },
      "source": [
        "train_meta.shape"
      ],
      "execution_count": 0,
      "outputs": []
    },
    {
      "cell_type": "code",
      "metadata": {
        "id": "fh1Bf4JSAdMk",
        "colab_type": "code",
        "colab": {}
      },
      "source": [
        "X_train.shape"
      ],
      "execution_count": 0,
      "outputs": []
    },
    {
      "cell_type": "code",
      "metadata": {
        "id": "t393Y--SAIoA",
        "colab_type": "code",
        "colab": {}
      },
      "source": [
        "Y_train.shape"
      ],
      "execution_count": 0,
      "outputs": []
    },
    {
      "cell_type": "code",
      "metadata": {
        "id": "ntaZDIBtAjvs",
        "colab_type": "code",
        "colab": {}
      },
      "source": [
        "test_meta.shape"
      ],
      "execution_count": 0,
      "outputs": []
    },
    {
      "cell_type": "code",
      "metadata": {
        "id": "mb7UoUNvAmUs",
        "colab_type": "code",
        "colab": {}
      },
      "source": [
        "Y_test.shape"
      ],
      "execution_count": 0,
      "outputs": []
    },
    {
      "cell_type": "markdown",
      "metadata": {
        "id": "K1_uPUSz-KwP",
        "colab_type": "text"
      },
      "source": [
        "**MLP as meta learner**"
      ]
    },
    {
      "cell_type": "code",
      "metadata": {
        "id": "uvo0pS8AMqPQ",
        "colab_type": "code",
        "colab": {}
      },
      "source": [
        "def meta_model():\n",
        "  model_sdss_base = Sequential()\n",
        "  model_sdss_base.add(Dense(512, input_shape=(5,)))\n",
        "  model_sdss_base.add(LeakyReLU())\n",
        "  model_sdss_base.add(Dropout(rate=0.2))\n",
        "  model_sdss_base.add(Dense(512))\n",
        "  model_sdss_base.add(LeakyReLU())\n",
        "  model_sdss_base.add(Dropout(rate=0.2))\n",
        "  model_sdss_base.add(Dense(256))\n",
        "  model_sdss_base.add(LeakyReLU())\n",
        "  adamopt=optimizers.Adam(lr=10**-3)\n",
        "  model_sdss_base.add(Dense(3, activation='softmax'))\n",
        "  model_sdss_base.compile(loss='categorical_crossentropy',\n",
        "                    optimizer=adamopt, \n",
        "                    metrics=['accuracy'])\n",
        "  return model_sdss_base"
      ],
      "execution_count": 0,
      "outputs": []
    },
    {
      "cell_type": "code",
      "metadata": {
        "id": "9rL8mmCtN6jV",
        "colab_type": "code",
        "colab": {}
      },
      "source": [
        "meta_nn_els = EarlyStopping(monitor='acc', mode='max', verbose=1, patience=5)\n",
        "meta_nn_mck = ModelCheckpoint('best_observed_meta_model.h5', monitor='acc', mode='max', verbose=1, save_best_only=True)"
      ],
      "execution_count": 0,
      "outputs": []
    },
    {
      "cell_type": "code",
      "metadata": {
        "id": "SNKewM9dM1jO",
        "colab_type": "code",
        "colab": {}
      },
      "source": [
        "nn_meta = KerasClassifier(build_fn=meta_model, epochs=50, batch_size=100, verbose=1,callbacks=[meta_nn_els,meta_nn_mck])"
      ],
      "execution_count": 0,
      "outputs": []
    },
    {
      "cell_type": "code",
      "metadata": {
        "id": "0or1f1yPM9fF",
        "colab_type": "code",
        "colab": {}
      },
      "source": [
        "nn_meta.fit(train_meta,Y_train)"
      ],
      "execution_count": 0,
      "outputs": []
    },
    {
      "cell_type": "code",
      "metadata": {
        "id": "COd-NteDORJ7",
        "colab_type": "code",
        "colab": {}
      },
      "source": [
        "!ls"
      ],
      "execution_count": 0,
      "outputs": []
    },
    {
      "cell_type": "code",
      "metadata": {
        "id": "W5PGwP7KsJUd",
        "colab_type": "code",
        "colab": {}
      },
      "source": [
        "from google.colab import files\n",
        "files.download('best_observed_meta_model.h5') "
      ],
      "execution_count": 0,
      "outputs": []
    },
    {
      "cell_type": "code",
      "metadata": {
        "id": "agYV1xNETOdC",
        "colab_type": "code",
        "colab": {}
      },
      "source": [
        "meta_test=nn_meta.predict(test_meta)"
      ],
      "execution_count": 0,
      "outputs": []
    },
    {
      "cell_type": "code",
      "metadata": {
        "id": "fH3UoWTCV3-N",
        "colab_type": "code",
        "colab": {}
      },
      "source": [
        "meta_test=meta_test.reshape(-1,1)"
      ],
      "execution_count": 0,
      "outputs": []
    },
    {
      "cell_type": "code",
      "metadata": {
        "id": "R9ChTxuF-jQ7",
        "colab_type": "code",
        "colab": {}
      },
      "source": [
        "col=['Meta-Learner-Predictions']"
      ],
      "execution_count": 0,
      "outputs": []
    },
    {
      "cell_type": "code",
      "metadata": {
        "id": "Evtb2f9xu8hv",
        "colab_type": "code",
        "colab": {}
      },
      "source": [
        "meta_predictions=pd.DataFrame(meta_test,columns=col)"
      ],
      "execution_count": 0,
      "outputs": []
    },
    {
      "cell_type": "code",
      "metadata": {
        "id": "TNvW3UH0vxSg",
        "colab_type": "code",
        "colab": {}
      },
      "source": [
        "meta_predictions.to_csv('meta_predictions.csv',index = False)"
      ],
      "execution_count": 0,
      "outputs": []
    },
    {
      "cell_type": "code",
      "metadata": {
        "id": "QpUnC4kOwGGu",
        "colab_type": "code",
        "colab": {}
      },
      "source": [
        "files.download('meta_predictions.csv')"
      ],
      "execution_count": 0,
      "outputs": []
    },
    {
      "cell_type": "code",
      "metadata": {
        "id": "BvVcOD58Ts6Z",
        "colab_type": "code",
        "colab": {}
      },
      "source": [
        "print(classification_report(Y_test, meta_test))"
      ],
      "execution_count": 0,
      "outputs": []
    },
    {
      "cell_type": "code",
      "metadata": {
        "colab_type": "code",
        "id": "mNYbY1mZUEtN",
        "colab": {}
      },
      "source": [
        "from sklearn.metrics import confusion_matrix\n",
        "cm_meta = confusion_matrix(Y_test, meta_test)\n",
        "print(cm_meta)"
      ],
      "execution_count": 0,
      "outputs": []
    },
    {
      "cell_type": "code",
      "metadata": {
        "colab_type": "code",
        "id": "vPUQmuLyUEtU",
        "colab": {}
      },
      "source": [
        "df_meta_cm = pd.DataFrame(cm_meta,index=['Galaxy','Quasar','Star'],\n",
        "                  columns = ['Galaxy','Quasar','Star'])\n",
        "sb.heatmap(df_meta_cm, annot=True,fmt=\"g\",cmap=\"Blues\")"
      ],
      "execution_count": 0,
      "outputs": []
    },
    {
      "cell_type": "markdown",
      "metadata": {
        "id": "SklXJ6esHyuC",
        "colab_type": "text"
      },
      "source": [
        "**Binomial Test**"
      ]
    },
    {
      "cell_type": "code",
      "metadata": {
        "colab_type": "code",
        "id": "DYJPwRdaLMWn",
        "colab": {}
      },
      "source": [
        "#Two-tailed binomial test\n",
        "stats.binom_test(59265, n=60615, p=0.980)"
      ],
      "execution_count": 0,
      "outputs": []
    },
    {
      "cell_type": "code",
      "metadata": {
        "colab_type": "code",
        "id": "jmR0FgbRLMWy",
        "colab": {}
      },
      "source": [
        "#One-tailed binomial test\n",
        "stats.binom_test(59265, n=60615, p=0.978,alternative=\"greater\")"
      ],
      "execution_count": 0,
      "outputs": []
    },
    {
      "cell_type": "markdown",
      "metadata": {
        "colab_type": "text",
        "id": "cDu39eBmUu5r"
      },
      "source": [
        "**Kruskal Wallice H test**"
      ]
    },
    {
      "cell_type": "code",
      "metadata": {
        "colab_type": "code",
        "id": "o9uN-lDaUu5t",
        "colab": {}
      },
      "source": [
        "from scipy import stats"
      ],
      "execution_count": 0,
      "outputs": []
    },
    {
      "cell_type": "code",
      "metadata": {
        "colab_type": "code",
        "id": "HkgtFQPtUu5v",
        "colab": {}
      },
      "source": [
        "stats.kruskal(nn_test,qda_test,svm_test,xgb_test,et_test,meta_test)"
      ],
      "execution_count": 0,
      "outputs": []
    },
    {
      "cell_type": "markdown",
      "metadata": {
        "colab_type": "text",
        "id": "uf-n7a8WNOkT"
      },
      "source": [
        "**Wilcoxon sign rank test**"
      ]
    },
    {
      "cell_type": "code",
      "metadata": {
        "id": "D-50ebupNPNb",
        "colab_type": "code",
        "colab": {}
      },
      "source": [
        "meta_f=meta_test.flatten('F')"
      ],
      "execution_count": 0,
      "outputs": []
    },
    {
      "cell_type": "code",
      "metadata": {
        "colab_type": "code",
        "id": "xKUKb4PcNny0",
        "colab": {}
      },
      "source": [
        "#Wilcoxon signed rank test between meta learner and Neural Networks\n",
        "wilcox_rank_meta_nn, pvalue_meta_nn = wilcoxon(nn_f,meta_f)\n",
        "print(wilcox_rank_meta_nn)\n",
        "print(pvalue_meta_nn)"
      ],
      "execution_count": 0,
      "outputs": []
    },
    {
      "cell_type": "code",
      "metadata": {
        "id": "3zaRuJLLNkOo",
        "colab_type": "code",
        "colab": {}
      },
      "source": [
        "#Wilcoxon signed rank test between meta learner and Extra trees\n",
        "wilcox_rank_meta_et, pvalue_meta_et = wilcoxon(et_f,meta_f)\n",
        "print(wilcox_rank_meta_et)\n",
        "print(pvalue_meta_et)"
      ],
      "execution_count": 0,
      "outputs": []
    },
    {
      "cell_type": "code",
      "metadata": {
        "id": "Is66q4EGvSng",
        "colab_type": "code",
        "colab": {}
      },
      "source": [
        "#Wilcoxon signed rank test between meta learner and XGB\n",
        "wilcox_rank_meta_xgb, pvalue_meta_xgb = wilcoxon(xgb_f,meta_f)\n",
        "print(wilcox_rank_meta_xgb)\n",
        "print(pvalue_meta_xgb)"
      ],
      "execution_count": 0,
      "outputs": []
    },
    {
      "cell_type": "code",
      "metadata": {
        "id": "FiOVJyWxvdAl",
        "colab_type": "code",
        "colab": {}
      },
      "source": [
        "#Wilcoxon signed rank test between meta learner and QDA\n",
        "wilcox_rank_meta_qda, pvalue_meta_qda = wilcoxon(qda_f,meta_f)\n",
        "print(wilcox_rank_meta_qda)\n",
        "print(pvalue_meta_qda)"
      ],
      "execution_count": 0,
      "outputs": []
    },
    {
      "cell_type": "code",
      "metadata": {
        "id": "-bcawfIhvl2G",
        "colab_type": "code",
        "colab": {}
      },
      "source": [
        "#Wilcoxon signed rank test between meta learner and SVM\n",
        "wilcox_rank_meta_svm, pvalue_meta_svm = wilcoxon(svm_f,meta_f)\n",
        "print(wilcox_rank_meta_svm)\n",
        "print(pvalue_meta_svm)"
      ],
      "execution_count": 0,
      "outputs": []
    }
  ]
}