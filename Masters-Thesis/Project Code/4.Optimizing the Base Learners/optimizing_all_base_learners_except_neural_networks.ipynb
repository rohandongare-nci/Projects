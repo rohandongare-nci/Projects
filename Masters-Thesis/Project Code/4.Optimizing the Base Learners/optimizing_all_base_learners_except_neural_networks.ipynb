{
  "nbformat": 4,
  "nbformat_minor": 0,
  "metadata": {
    "colab": {
      "name": "optimizing_all_base_learners_except_neural_networks.ipynb",
      "version": "0.3.2",
      "provenance": [],
      "collapsed_sections": []
    },
    "kernelspec": {
      "name": "python3",
      "display_name": "Python 3"
    },
    "accelerator": "GPU"
  },
  "cells": [
    {
      "cell_type": "code",
      "metadata": {
        "id": "CK_DolVU6Y8W",
        "colab_type": "code",
        "colab": {}
      },
      "source": [
        "import pandas as pd\n",
        "from sklearn.preprocessing import LabelEncoder, MinMaxScaler, RobustScaler, PowerTransformer\n",
        "from sklearn import preprocessing\n",
        "from imblearn.under_sampling import RandomUnderSampler\n",
        "from collections import Counter\n",
        "import time\n",
        "import numpy as np\n",
        "from hyperopt import fmin, tpe, hp, STATUS_OK, Trials"
      ],
      "execution_count": 0,
      "outputs": []
    },
    {
      "cell_type": "markdown",
      "metadata": {
        "id": "695DwZcRtpKi",
        "colab_type": "text"
      },
      "source": [
        "**Installing hpsklearn**"
      ]
    },
    {
      "cell_type": "code",
      "metadata": {
        "id": "t6FXdcWR6gst",
        "colab_type": "code",
        "colab": {}
      },
      "source": [
        "pip install gitpython"
      ],
      "execution_count": 0,
      "outputs": []
    },
    {
      "cell_type": "code",
      "metadata": {
        "id": "TiZna9_H6lzu",
        "colab_type": "code",
        "colab": {}
      },
      "source": [
        "import os\n",
        "from git.repo.base import Repo\n",
        "Repo.clone_from(\"https://github.com/hyperopt/hyperopt-sklearn\", \"hyperopt/hyperopt-sklearn.git\")"
      ],
      "execution_count": 0,
      "outputs": []
    },
    {
      "cell_type": "code",
      "metadata": {
        "id": "1mXLLyXQ6pDY",
        "colab_type": "code",
        "colab": {}
      },
      "source": [
        "cd hyperopt/hyperopt-sklearn.git/"
      ],
      "execution_count": 0,
      "outputs": []
    },
    {
      "cell_type": "code",
      "metadata": {
        "id": "w8MgqJI76sA5",
        "colab_type": "code",
        "colab": {}
      },
      "source": [
        "pip install -e ."
      ],
      "execution_count": 0,
      "outputs": []
    },
    {
      "cell_type": "code",
      "metadata": {
        "id": "cJ0VEsYs3EV_",
        "colab_type": "code",
        "colab": {}
      },
      "source": [
        "from hpsklearn import HyperoptEstimator, svc_rbf, normalizer, standard_scaler,any_preprocessing, random_forest, extra_trees, xgboost_classification\n",
        "import hpsklearn"
      ],
      "execution_count": 0,
      "outputs": []
    },
    {
      "cell_type": "code",
      "metadata": {
        "id": "OnkrfX7y2BBK",
        "colab_type": "code",
        "colab": {}
      },
      "source": [
        "pd.show_versions()"
      ],
      "execution_count": 0,
      "outputs": []
    },
    {
      "cell_type": "markdown",
      "metadata": {
        "id": "bglRdo4KTygJ",
        "colab_type": "text"
      },
      "source": [
        "**Importing Data and Pre-Processing**"
      ]
    },
    {
      "cell_type": "code",
      "metadata": {
        "id": "6WPjVZjDT4ZB",
        "colab_type": "code",
        "colab": {}
      },
      "source": [
        "data_git = 'https://raw.githubusercontent.com/rohandongare-nci/18120199-Data/master/Base%20Learner%20Optimization/Base%20Learners%20Optimization.csv'\n",
        "sdss_1 = pd.read_csv(data_git)"
      ],
      "execution_count": 0,
      "outputs": []
    },
    {
      "cell_type": "code",
      "metadata": {
        "id": "vcDVRZZTV3_U",
        "colab_type": "code",
        "colab": {}
      },
      "source": [
        "sdss_opt=sdss_1"
      ],
      "execution_count": 0,
      "outputs": []
    },
    {
      "cell_type": "code",
      "metadata": {
        "id": "cWywI266UI3Y",
        "colab_type": "code",
        "colab": {}
      },
      "source": [
        "unwanted_columns = ['camcol','run','rerun','objid','specobjid']\n",
        "sdss_opt.drop(unwanted_columns, axis=1, inplace=True)\n",
        "sdss_opt.head(10)"
      ],
      "execution_count": 0,
      "outputs": []
    },
    {
      "cell_type": "code",
      "metadata": {
        "id": "tkRSEiiwUls1",
        "colab_type": "code",
        "colab": {}
      },
      "source": [
        "from sklearn.preprocessing import LabelEncoder, MinMaxScaler\n",
        "enc = LabelEncoder()\n",
        "X_opt = sdss_opt[['ra','dec','u','g','r','i','z','redshift','plate','mjd','fiberid','field']]\n",
        "y_opt = enc.fit_transform(sdss_opt['class'])\n",
        "X_opt.head()"
      ],
      "execution_count": 0,
      "outputs": []
    },
    {
      "cell_type": "code",
      "metadata": {
        "id": "LBvVuWH8UunB",
        "colab_type": "code",
        "colab": {}
      },
      "source": [
        "transform_opt = preprocessing.PowerTransformer(method='yeo-johnson', standardize=True)"
      ],
      "execution_count": 0,
      "outputs": []
    },
    {
      "cell_type": "code",
      "metadata": {
        "id": "wWuud4ZgUMnF",
        "colab_type": "code",
        "colab": {}
      },
      "source": [
        "X_opt = preprocessing.normalize(X_opt, norm='l2')"
      ],
      "execution_count": 0,
      "outputs": []
    },
    {
      "cell_type": "code",
      "metadata": {
        "id": "GX-Th3_6Uj9D",
        "colab_type": "code",
        "colab": {}
      },
      "source": [
        "X_opt = transform_opt.fit_transform(X_opt)"
      ],
      "execution_count": 0,
      "outputs": []
    },
    {
      "cell_type": "code",
      "metadata": {
        "id": "TInzrnOAU4AE",
        "colab_type": "code",
        "colab": {}
      },
      "source": [
        "#Random Undersampling the majority galaxy class to minority class\n",
        "under_sampler_opt = RandomUnderSampler(random_state=18120199,replacement=False)\n",
        "X_undersam, y_undersam = under_sampler_opt.fit_resample(X_opt, y_opt)"
      ],
      "execution_count": 0,
      "outputs": []
    },
    {
      "cell_type": "code",
      "metadata": {
        "id": "GRaOxyzVWXEd",
        "colab_type": "code",
        "colab": {}
      },
      "source": [
        "from sklearn.model_selection import train_test_split\n",
        "X_train, X_val, Y_train, Y_val = train_test_split(X_undersam, y_undersam, test_size = 0.2, random_state = 18120199)"
      ],
      "execution_count": 0,
      "outputs": []
    },
    {
      "cell_type": "markdown",
      "metadata": {
        "id": "ZC2-BwHq7GKQ",
        "colab_type": "text"
      },
      "source": [
        "**SVM Optimization**"
      ]
    },
    {
      "cell_type": "code",
      "metadata": {
        "id": "Z0wa_CbQyroJ",
        "colab_type": "code",
        "colab": {}
      },
      "source": [
        "#Defining hyper-parameter space for SVM\n",
        "opt_svm_para = {\n",
        "    'C': hp.uniform('C', range(0,10)),\n",
        "    'gamma': hp.quniform('gamma', np.arange(0.0, 1.0,0.2))\n",
        "    'decision_function_shape': hp.choice('decision_function_shape',['ovr','ovo'])\n",
        "}\n"
      ],
      "execution_count": 0,
      "outputs": []
    },
    {
      "cell_type": "code",
      "metadata": {
        "id": "0ufbvg5WzPfc",
        "colab_type": "code",
        "colab": {}
      },
      "source": [
        "#Defining the model to be tuned\n",
        "svm_opt_min = HyperoptEstimator(classifier=svc_rbf('opt_svm_para'),\n",
        "                          preprocessing=[],\n",
        "                          algo=tpe.suggest,\n",
        "                          max_evals=30\n",
        "                          )"
      ],
      "execution_count": 0,
      "outputs": []
    },
    {
      "cell_type": "code",
      "metadata": {
        "id": "x7c0pX2zGdvK",
        "colab_type": "code",
        "colab": {}
      },
      "source": [
        "#Running bayesian optimization for tuning SVM\n",
        "start_svm_opt=time.time()\n",
        "svm_opt_min.fit(X_train,Y_train)\n",
        "end_svm_opt=time.time()"
      ],
      "execution_count": 0,
      "outputs": []
    },
    {
      "cell_type": "code",
      "metadata": {
        "id": "OmxmLdeXNrZj",
        "colab_type": "code",
        "colab": {}
      },
      "source": [
        "#Model performance with the best performing hyper-parameters\n",
        "print(svm_opt_min.score(X_val, Y_val))"
      ],
      "execution_count": 0,
      "outputs": []
    },
    {
      "cell_type": "code",
      "metadata": {
        "id": "kSb9CTRjCl_6",
        "colab_type": "code",
        "colab": {}
      },
      "source": [
        "#Best performing hyper-parameters\n",
        "print(svm_opt_min.best_model())"
      ],
      "execution_count": 0,
      "outputs": []
    },
    {
      "cell_type": "code",
      "metadata": {
        "id": "nP-Fofqw7lxD",
        "colab_type": "code",
        "colab": {}
      },
      "source": [
        "svm_time=end_svm-start_svm\n",
        "print(svm_time)"
      ],
      "execution_count": 0,
      "outputs": []
    },
    {
      "cell_type": "markdown",
      "metadata": {
        "id": "0hd6bDT2QBSq",
        "colab_type": "text"
      },
      "source": [
        "**QDA Optimization**"
      ]
    },
    {
      "cell_type": "code",
      "metadata": {
        "id": "1HsC-SJXH9cp",
        "colab_type": "code",
        "colab": {}
      },
      "source": [
        "from hpsklearn import quadratic_discriminant_analysis"
      ],
      "execution_count": 0,
      "outputs": []
    },
    {
      "cell_type": "code",
      "metadata": {
        "id": "_x7eqeQfIko0",
        "colab_type": "code",
        "colab": {}
      },
      "source": [
        "#Defining hyper-parameter space for QDA\n",
        "qda_optim_para = {\n",
        "    'tol': hp.lognormal('tol', 0, 1),\n",
        "    'reg_param' : hp.lognormal('reg_param',0.0,1)\n",
        "}"
      ],
      "execution_count": 0,
      "outputs": []
    },
    {
      "cell_type": "code",
      "metadata": {
        "id": "r1pRcRojJ7aS",
        "colab_type": "code",
        "colab": {}
      },
      "source": [
        "#Defining the model to be tuned\n",
        "qda_opt_min = HyperoptEstimator(classifier=quadratic_discriminant_analysis('qda_optim_para'),\n",
        "                          preprocessing=[],\n",
        "                          algo=tpe.suggest,\n",
        "                          max_evals=30)"
      ],
      "execution_count": 0,
      "outputs": []
    },
    {
      "cell_type": "code",
      "metadata": {
        "id": "zJH9qzz5KDY4",
        "colab_type": "code",
        "colab": {}
      },
      "source": [
        "#Tuning QDA\n",
        "start_qda=time.time()\n",
        "qda_opt_min.fit(X_train,Y_train)\n",
        "end_qda=time.time()"
      ],
      "execution_count": 0,
      "outputs": []
    },
    {
      "cell_type": "code",
      "metadata": {
        "id": "khUyshhPK8Lz",
        "colab_type": "code",
        "colab": {}
      },
      "source": [
        "#Model performance with the best performing hyper-parameters\n",
        "print(qda_opt_min.score(X_val, Y_val))"
      ],
      "execution_count": 0,
      "outputs": []
    },
    {
      "cell_type": "code",
      "metadata": {
        "id": "Kmz9NRDlKIZC",
        "colab_type": "code",
        "colab": {}
      },
      "source": [
        "#Best performing hyper-parameters\n",
        "print(qda_opt_min.best_model())"
      ],
      "execution_count": 0,
      "outputs": []
    },
    {
      "cell_type": "code",
      "metadata": {
        "id": "hSvQOjigCp2K",
        "colab_type": "code",
        "colab": {}
      },
      "source": [
        "#Time taken by QDA\n",
        "qda_time=end_qda-start_qda\n",
        "print(qda_time)"
      ],
      "execution_count": 0,
      "outputs": []
    },
    {
      "cell_type": "markdown",
      "metadata": {
        "id": "yD6FR2QvQEmV",
        "colab_type": "text"
      },
      "source": [
        "**Random Forest Optimization**"
      ]
    },
    {
      "cell_type": "code",
      "metadata": {
        "id": "MFz7fDwvQNah",
        "colab_type": "code",
        "colab": {}
      },
      "source": [
        "#Defining search space for random forests\n",
        "randomforest_optim_para = {\n",
        "    'min_samples_split':hp.choice('min_samples_split',range(1,10)),\n",
        "    'max_depth': hp.choice('max_depth', range(1,200)),\n",
        "    'max_features': hp.choice('max_features',[\"auto\",\"sqrt\",\"log2\"]),\n",
        "    'min_samples_leaf':hp.choice('min_samples_leaf',range(1,10)),\n",
        "    'n_estimators': hp.choice('n_estimators', range(1,1000)),\n",
        "    'criterion': hp.choice('criterion', [\"gini\", \"entropy\"])\n",
        "}"
      ],
      "execution_count": 0,
      "outputs": []
    },
    {
      "cell_type": "code",
      "metadata": {
        "id": "jLsgpINHxwj_",
        "colab_type": "code",
        "colab": {}
      },
      "source": [
        "#Defining the model to be tuned\n",
        "rf_opt_min = HyperoptEstimator(classifier=random_forest('randomforest_optim_para'),\n",
        "                          preprocessing=[],\n",
        "                          algo=tpe.suggest,\n",
        "                          max_evals=30)"
      ],
      "execution_count": 0,
      "outputs": []
    },
    {
      "cell_type": "code",
      "metadata": {
        "id": "2UQ5IsDjyIcp",
        "colab_type": "code",
        "colab": {}
      },
      "source": [
        "#Tuning random forests\n",
        "rf_start=time.time()\n",
        "rf_opt_min.fit(X_train,Y_train)\n",
        "rf_end=time.time()"
      ],
      "execution_count": 0,
      "outputs": []
    },
    {
      "cell_type": "code",
      "metadata": {
        "id": "rNCSBKVyhAyw",
        "colab_type": "code",
        "colab": {}
      },
      "source": [
        "#Model performance with the best performing hyper-parameters\n",
        "print(rf_opt_min.score(X_val, Y_val))"
      ],
      "execution_count": 0,
      "outputs": []
    },
    {
      "cell_type": "code",
      "metadata": {
        "id": "GjrQ0lWphEIe",
        "colab_type": "code",
        "colab": {}
      },
      "source": [
        "#Best performing hyper-parameters\n",
        "print(rf_opt_min.best_model())"
      ],
      "execution_count": 0,
      "outputs": []
    },
    {
      "cell_type": "code",
      "metadata": {
        "id": "39xO80wiHmjo",
        "colab_type": "code",
        "colab": {}
      },
      "source": [
        "time_rf=rf_end-rf_start\n",
        "print(time_rf)"
      ],
      "execution_count": 0,
      "outputs": []
    },
    {
      "cell_type": "markdown",
      "metadata": {
        "id": "H87d5oYXT6Pg",
        "colab_type": "text"
      },
      "source": [
        "**Extratrees Optimization**"
      ]
    },
    {
      "cell_type": "code",
      "metadata": {
        "id": "IMKx4WEVUKAf",
        "colab_type": "code",
        "colab": {}
      },
      "source": [
        "#Extra trees search space\n",
        "extratree_optim_para = {\n",
        "    'min_samples_split':hp.choice('min_samples_split',range(1,15)),\n",
        "    'max_depth': hp.choice('max_depth', range(1,20)),\n",
        "    'max_features': hp.choice('max_features',[\"auto\",\"sqrt\",\"log2\"]),\n",
        "    'min_samples_leaf':hp.choice('min_samples_leaf',range(1,10)),\n",
        "    'n_estimators': hp.uniform('n_estimators', range(100,1000,50)),\n",
        "    'criterion': hp.choice('criterion', [\"gini\", \"entropy\"]),\n",
        "    'bootstrap':True\n",
        "}"
      ],
      "execution_count": 0,
      "outputs": []
    },
    {
      "cell_type": "code",
      "metadata": {
        "id": "Od6H1hXQUju9",
        "colab_type": "code",
        "colab": {}
      },
      "source": [
        "#Defining the model to be tuned\n",
        "et_opt_min = HyperoptEstimator(classifier=extra_trees('extratree_optim_para'),\n",
        "                          preprocessing=[],\n",
        "                          algo=tpe.suggest,\n",
        "                          max_evals=30)"
      ],
      "execution_count": 0,
      "outputs": []
    },
    {
      "cell_type": "code",
      "metadata": {
        "id": "HXmjVWMaW_SC",
        "colab_type": "code",
        "colab": {}
      },
      "source": [
        "#Tuning Extra trees\n",
        "et_start=time.time()\n",
        "et_opt_min.fit(X_train,Y_train)\n",
        "et_end=time.time()"
      ],
      "execution_count": 0,
      "outputs": []
    },
    {
      "cell_type": "code",
      "metadata": {
        "id": "yzzwwEUAem2z",
        "colab_type": "code",
        "colab": {}
      },
      "source": [
        "#Model performance with the best performing hyper-parameters\n",
        "print(et_opt_min.score(X_val, Y_val))"
      ],
      "execution_count": 0,
      "outputs": []
    },
    {
      "cell_type": "code",
      "metadata": {
        "id": "utAfq6hEesRC",
        "colab_type": "code",
        "colab": {}
      },
      "source": [
        "#Best performing hyper-parameters\n",
        "print(et_opt_min.best_model())"
      ],
      "execution_count": 0,
      "outputs": []
    },
    {
      "cell_type": "code",
      "metadata": {
        "id": "w0EQMSEjAOYE",
        "colab_type": "code",
        "colab": {}
      },
      "source": [
        "time_et=et_end-et_start\n",
        "print(time_et)"
      ],
      "execution_count": 0,
      "outputs": []
    },
    {
      "cell_type": "markdown",
      "metadata": {
        "id": "pmLwUMjNhIZA",
        "colab_type": "text"
      },
      "source": [
        "**XGBoost Optimization**"
      ]
    },
    {
      "cell_type": "code",
      "metadata": {
        "id": "q6RIK4s5hL8t",
        "colab_type": "code",
        "colab": {}
      },
      "source": [
        "#Defining search space for XGBoost\n",
        "import numpy as np\n",
        "xgb_optim_para = {\n",
        "        'n_estimators': hp.choice('n_estimators', np.arange(0,500, dtype=int)),\n",
        "        'learning_rate': hp.quniform('learning_rate', np.arange(0.05,0.4,0.05)),#0.05-0.2\n",
        "        'max_depth':  hp.choice('max_depth', np.arange(1, 15)),\n",
        "        'min_child_weight': hp.choice('min_child_weight', np.arange(1, 10, 2)),\n",
        "        'subsample': hp.choice('subsample', np.arange(0.2, 0.9, 0.05)),\n",
        "        'gamma': hp.quniform('gamma', 0.001, 0.01,0.005),\n",
        "        'colsample_bytree': hp.quniform('colsample_bytree', 0.3, 0.9, 0.07),\n",
        "        'reg_alpha':hp.quniform('reg_alpha',0.001,0.1)\n",
        "    }"
      ],
      "execution_count": 0,
      "outputs": []
    },
    {
      "cell_type": "code",
      "metadata": {
        "id": "eX-f4Oqm6oIc",
        "colab_type": "code",
        "colab": {}
      },
      "source": [
        "#Defining the model to be tuned\n",
        "xgb_opt_min = HyperoptEstimator(classifier=xgboost_classification('xgb_optim_para'),\n",
        "                          preprocessing=[],\n",
        "                          algo=tpe.suggest,\n",
        "                          max_evals=20)"
      ],
      "execution_count": 0,
      "outputs": []
    },
    {
      "cell_type": "code",
      "metadata": {
        "id": "8AD9otVYx9WE",
        "colab_type": "code",
        "colab": {}
      },
      "source": [
        "#Fitting the Bayesian optimization model defined above\n",
        "xgb_start=time.time()\n",
        "xgb_opt_min.fit(X_train,Y_train)\n",
        "xgb_end=time.time()"
      ],
      "execution_count": 0,
      "outputs": []
    },
    {
      "cell_type": "code",
      "metadata": {
        "id": "LkI8mKXz2Ef0",
        "colab_type": "code",
        "colab": {}
      },
      "source": [
        "#Model performance with the best performing hyper-parameters\n",
        "print(xgb_opt_min.score(X_val, Y_val))"
      ],
      "execution_count": 0,
      "outputs": []
    },
    {
      "cell_type": "code",
      "metadata": {
        "id": "mwipEHjE2IIj",
        "colab_type": "code",
        "colab": {}
      },
      "source": [
        "#Best performing hyper-parameters\n",
        "print(xgb_opt_min.best_model())"
      ],
      "execution_count": 0,
      "outputs": []
    },
    {
      "cell_type": "code",
      "metadata": {
        "id": "WiDo4tagAcQC",
        "colab_type": "code",
        "colab": {}
      },
      "source": [
        "time_xgb=xgb_end-xgb_start\n",
        "print(time_xgb)"
      ],
      "execution_count": 0,
      "outputs": []
    }
  ]
}